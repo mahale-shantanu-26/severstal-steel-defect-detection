{
 "cells": [
  {
   "cell_type": "code",
   "execution_count": null,
   "metadata": {},
   "outputs": [],
   "source": [
    "import json\n",
    "import gc\n",
    "import os\n",
    "\n",
    "import cv2\n",
    "import keras\n",
    "from keras import backend as K\n",
    "from keras import layers\n",
    "from keras.preprocessing.image import ImageDataGenerator\n",
    "from keras.models import Model, load_model\n",
    "from keras.layers import Input\n",
    "from keras.layers.convolutional import Conv2D, Conv2DTranspose\n",
    "from keras.layers.pooling import MaxPooling2D\n",
    "from keras.layers.merge import concatenate\n",
    "from keras.optimizers import Adam\n",
    "from keras.callbacks import Callback, ModelCheckpoint\n",
    "import matplotlib.pyplot as plt\n",
    "import numpy as np\n",
    "import pandas as pd\n",
    "from tqdm import tqdm\n",
    "from sklearn.model_selection import train_test_split"
   ]
  },
  {
   "cell_type": "code",
   "execution_count": 2,
   "metadata": {},
   "outputs": [
    {
     "name": "stdout",
     "output_type": "stream",
     "text": [
      "(50272, 5)\n"
     ]
    },
    {
     "data": {
      "text/html": [
       "<div>\n",
       "<style scoped>\n",
       "    .dataframe tbody tr th:only-of-type {\n",
       "        vertical-align: middle;\n",
       "    }\n",
       "\n",
       "    .dataframe tbody tr th {\n",
       "        vertical-align: top;\n",
       "    }\n",
       "\n",
       "    .dataframe thead th {\n",
       "        text-align: right;\n",
       "    }\n",
       "</style>\n",
       "<table border=\"1\" class=\"dataframe\">\n",
       "  <thead>\n",
       "    <tr style=\"text-align: right;\">\n",
       "      <th></th>\n",
       "      <th>ImageId_ClassId</th>\n",
       "      <th>EncodedPixels</th>\n",
       "      <th>ImageId</th>\n",
       "      <th>ClassId</th>\n",
       "      <th>hasMask</th>\n",
       "    </tr>\n",
       "  </thead>\n",
       "  <tbody>\n",
       "    <tr>\n",
       "      <th>0</th>\n",
       "      <td>0002cc93b.jpg_1</td>\n",
       "      <td>29102 12 29346 24 29602 24 29858 24 30114 24 3...</td>\n",
       "      <td>0002cc93b.jpg</td>\n",
       "      <td>1</td>\n",
       "      <td>True</td>\n",
       "    </tr>\n",
       "    <tr>\n",
       "      <th>1</th>\n",
       "      <td>0002cc93b.jpg_2</td>\n",
       "      <td>NaN</td>\n",
       "      <td>0002cc93b.jpg</td>\n",
       "      <td>2</td>\n",
       "      <td>False</td>\n",
       "    </tr>\n",
       "    <tr>\n",
       "      <th>2</th>\n",
       "      <td>0002cc93b.jpg_3</td>\n",
       "      <td>NaN</td>\n",
       "      <td>0002cc93b.jpg</td>\n",
       "      <td>3</td>\n",
       "      <td>False</td>\n",
       "    </tr>\n",
       "    <tr>\n",
       "      <th>3</th>\n",
       "      <td>0002cc93b.jpg_4</td>\n",
       "      <td>NaN</td>\n",
       "      <td>0002cc93b.jpg</td>\n",
       "      <td>4</td>\n",
       "      <td>False</td>\n",
       "    </tr>\n",
       "    <tr>\n",
       "      <th>4</th>\n",
       "      <td>00031f466.jpg_1</td>\n",
       "      <td>NaN</td>\n",
       "      <td>00031f466.jpg</td>\n",
       "      <td>1</td>\n",
       "      <td>False</td>\n",
       "    </tr>\n",
       "  </tbody>\n",
       "</table>\n",
       "</div>"
      ],
      "text/plain": [
       "   ImageId_ClassId                                      EncodedPixels  \\\n",
       "0  0002cc93b.jpg_1  29102 12 29346 24 29602 24 29858 24 30114 24 3...   \n",
       "1  0002cc93b.jpg_2                                                NaN   \n",
       "2  0002cc93b.jpg_3                                                NaN   \n",
       "3  0002cc93b.jpg_4                                                NaN   \n",
       "4  00031f466.jpg_1                                                NaN   \n",
       "\n",
       "         ImageId ClassId  hasMask  \n",
       "0  0002cc93b.jpg       1     True  \n",
       "1  0002cc93b.jpg       2    False  \n",
       "2  0002cc93b.jpg       3    False  \n",
       "3  0002cc93b.jpg       4    False  \n",
       "4  00031f466.jpg       1    False  "
      ]
     },
     "execution_count": 2,
     "metadata": {},
     "output_type": "execute_result"
    }
   ],
   "source": [
    "train_df = pd.read_csv('severstal-steel-defect-detection/train.csv')\n",
    "train_df['ImageId'] = train_df['ImageId_ClassId'].apply(lambda x: x.split('_')[0])\n",
    "train_df['ClassId'] = train_df['ImageId_ClassId'].apply(lambda x: x.split('_')[1])\n",
    "train_df['hasMask'] = ~ train_df['EncodedPixels'].isna()\n",
    "\n",
    "print(train_df.shape)\n",
    "train_df.head()"
   ]
  },
  {
   "cell_type": "code",
   "execution_count": 3,
   "metadata": {},
   "outputs": [
    {
     "name": "stdout",
     "output_type": "stream",
     "text": [
      "(12568, 2)\n"
     ]
    },
    {
     "data": {
      "text/html": [
       "<div>\n",
       "<style scoped>\n",
       "    .dataframe tbody tr th:only-of-type {\n",
       "        vertical-align: middle;\n",
       "    }\n",
       "\n",
       "    .dataframe tbody tr th {\n",
       "        vertical-align: top;\n",
       "    }\n",
       "\n",
       "    .dataframe thead th {\n",
       "        text-align: right;\n",
       "    }\n",
       "</style>\n",
       "<table border=\"1\" class=\"dataframe\">\n",
       "  <thead>\n",
       "    <tr style=\"text-align: right;\">\n",
       "      <th></th>\n",
       "      <th>ImageId</th>\n",
       "      <th>hasMask</th>\n",
       "    </tr>\n",
       "  </thead>\n",
       "  <tbody>\n",
       "    <tr>\n",
       "      <th>10803</th>\n",
       "      <td>db4867ee8.jpg</td>\n",
       "      <td>3.0</td>\n",
       "    </tr>\n",
       "    <tr>\n",
       "      <th>11776</th>\n",
       "      <td>ef24da2ba.jpg</td>\n",
       "      <td>3.0</td>\n",
       "    </tr>\n",
       "    <tr>\n",
       "      <th>6284</th>\n",
       "      <td>7f30b9c64.jpg</td>\n",
       "      <td>2.0</td>\n",
       "    </tr>\n",
       "    <tr>\n",
       "      <th>9421</th>\n",
       "      <td>bf0c81db6.jpg</td>\n",
       "      <td>2.0</td>\n",
       "    </tr>\n",
       "    <tr>\n",
       "      <th>9615</th>\n",
       "      <td>c314f43f3.jpg</td>\n",
       "      <td>2.0</td>\n",
       "    </tr>\n",
       "  </tbody>\n",
       "</table>\n",
       "</div>"
      ],
      "text/plain": [
       "             ImageId  hasMask\n",
       "10803  db4867ee8.jpg      3.0\n",
       "11776  ef24da2ba.jpg      3.0\n",
       "6284   7f30b9c64.jpg      2.0\n",
       "9421   bf0c81db6.jpg      2.0\n",
       "9615   c314f43f3.jpg      2.0"
      ]
     },
     "execution_count": 3,
     "metadata": {},
     "output_type": "execute_result"
    }
   ],
   "source": [
    "mask_count_df = train_df.groupby('ImageId').agg(np.sum).reset_index()\n",
    "mask_count_df.sort_values('hasMask', ascending=False, inplace=True)\n",
    "print(mask_count_df.shape)\n",
    "mask_count_df.head()"
   ]
  },
  {
   "cell_type": "code",
   "execution_count": 4,
   "metadata": {},
   "outputs": [
    {
     "data": {
      "text/html": [
       "<div>\n",
       "<style scoped>\n",
       "    .dataframe tbody tr th:only-of-type {\n",
       "        vertical-align: middle;\n",
       "    }\n",
       "\n",
       "    .dataframe tbody tr th {\n",
       "        vertical-align: top;\n",
       "    }\n",
       "\n",
       "    .dataframe thead th {\n",
       "        text-align: right;\n",
       "    }\n",
       "</style>\n",
       "<table border=\"1\" class=\"dataframe\">\n",
       "  <thead>\n",
       "    <tr style=\"text-align: right;\">\n",
       "      <th></th>\n",
       "      <th>ImageId</th>\n",
       "    </tr>\n",
       "  </thead>\n",
       "  <tbody>\n",
       "    <tr>\n",
       "      <th>0</th>\n",
       "      <td>004f40c73.jpg</td>\n",
       "    </tr>\n",
       "    <tr>\n",
       "      <th>1</th>\n",
       "      <td>006f39c41.jpg</td>\n",
       "    </tr>\n",
       "    <tr>\n",
       "      <th>2</th>\n",
       "      <td>00b7fb703.jpg</td>\n",
       "    </tr>\n",
       "    <tr>\n",
       "      <th>3</th>\n",
       "      <td>00bbcd9af.jpg</td>\n",
       "    </tr>\n",
       "    <tr>\n",
       "      <th>4</th>\n",
       "      <td>0108ce457.jpg</td>\n",
       "    </tr>\n",
       "  </tbody>\n",
       "</table>\n",
       "</div>"
      ],
      "text/plain": [
       "         ImageId\n",
       "0  004f40c73.jpg\n",
       "1  006f39c41.jpg\n",
       "2  00b7fb703.jpg\n",
       "3  00bbcd9af.jpg\n",
       "4  0108ce457.jpg"
      ]
     },
     "execution_count": 4,
     "metadata": {},
     "output_type": "execute_result"
    }
   ],
   "source": [
    "sub_df = pd.read_csv('severstal-steel-defect-detection/sample_submission.csv')\n",
    "sub_df['ImageId'] = sub_df['ImageId_ClassId'].apply(lambda x: x.split('_')[0])\n",
    "test_imgs = pd.DataFrame(sub_df['ImageId'].unique(), columns=['ImageId'])\n",
    "test_imgs.head()"
   ]
  },
  {
   "cell_type": "code",
   "execution_count": 5,
   "metadata": {},
   "outputs": [
    {
     "data": {
      "text/html": [
       "<div>\n",
       "<style scoped>\n",
       "    .dataframe tbody tr th:only-of-type {\n",
       "        vertical-align: middle;\n",
       "    }\n",
       "\n",
       "    .dataframe tbody tr th {\n",
       "        vertical-align: top;\n",
       "    }\n",
       "\n",
       "    .dataframe thead th {\n",
       "        text-align: right;\n",
       "    }\n",
       "</style>\n",
       "<table border=\"1\" class=\"dataframe\">\n",
       "  <thead>\n",
       "    <tr style=\"text-align: right;\">\n",
       "      <th></th>\n",
       "      <th>ImageId</th>\n",
       "      <th>hasMask</th>\n",
       "    </tr>\n",
       "  </thead>\n",
       "  <tbody>\n",
       "    <tr>\n",
       "      <th>10803</th>\n",
       "      <td>db4867ee8.jpg</td>\n",
       "      <td>3.0</td>\n",
       "    </tr>\n",
       "    <tr>\n",
       "      <th>11776</th>\n",
       "      <td>ef24da2ba.jpg</td>\n",
       "      <td>3.0</td>\n",
       "    </tr>\n",
       "    <tr>\n",
       "      <th>6284</th>\n",
       "      <td>7f30b9c64.jpg</td>\n",
       "      <td>2.0</td>\n",
       "    </tr>\n",
       "    <tr>\n",
       "      <th>9421</th>\n",
       "      <td>bf0c81db6.jpg</td>\n",
       "      <td>2.0</td>\n",
       "    </tr>\n",
       "    <tr>\n",
       "      <th>9615</th>\n",
       "      <td>c314f43f3.jpg</td>\n",
       "      <td>2.0</td>\n",
       "    </tr>\n",
       "  </tbody>\n",
       "</table>\n",
       "</div>"
      ],
      "text/plain": [
       "             ImageId  hasMask\n",
       "10803  db4867ee8.jpg      3.0\n",
       "11776  ef24da2ba.jpg      3.0\n",
       "6284   7f30b9c64.jpg      2.0\n",
       "9421   bf0c81db6.jpg      2.0\n",
       "9615   c314f43f3.jpg      2.0"
      ]
     },
     "execution_count": 5,
     "metadata": {},
     "output_type": "execute_result"
    }
   ],
   "source": [
    "non_missing_train_idx = mask_count_df[mask_count_df['hasMask'] > 0]\n",
    "non_missing_train_idx.head()"
   ]
  },
  {
   "cell_type": "code",
   "execution_count": 6,
   "metadata": {},
   "outputs": [],
   "source": [
    "def load_img(code, base, resize=True):\n",
    "    path = f'{base}/{code}'\n",
    "    img = cv2.imread(path)\n",
    "    img = cv2.cvtColor(img, cv2.COLOR_BGR2RGB)\n",
    "    if resize:\n",
    "        img = cv2.resize(img, (256, 256))\n",
    "    \n",
    "    return img\n",
    "\n",
    "def validate_path(path):\n",
    "    if not os.path.exists(path):\n",
    "        os.makedirs(path)"
   ]
  },
  {
   "cell_type": "code",
   "execution_count": 7,
   "metadata": {},
   "outputs": [
    {
     "name": "stdout",
     "output_type": "stream",
     "text": [
      "Found 1801 validated image filenames.\n"
     ]
    }
   ],
   "source": [
    "BATCH_SIZE = 64\n",
    "def create_test_gen():\n",
    "    return ImageDataGenerator(rescale=1/255.).flow_from_dataframe(\n",
    "        test_imgs,\n",
    "        directory='severstal-steel-defect-detection/test_images',\n",
    "        x_col='ImageId',\n",
    "        class_mode=None,\n",
    "        target_size=(256, 256),\n",
    "        batch_size=BATCH_SIZE,\n",
    "        shuffle=False\n",
    "    )\n",
    "\n",
    "test_gen = create_test_gen()"
   ]
  },
  {
   "cell_type": "code",
   "execution_count": 11,
   "metadata": {},
   "outputs": [
    {
     "name": "stdout",
     "output_type": "stream",
     "text": [
      "Model: \"sequential_1\"\n",
      "_________________________________________________________________\n",
      "Layer (type)                 Output Shape              Param #   \n",
      "=================================================================\n",
      "densenet121 (Model)          (None, 8, 8, 1024)        7037504   \n",
      "_________________________________________________________________\n",
      "global_average_pooling2d_1 ( (None, 1024)              0         \n",
      "_________________________________________________________________\n",
      "batch_normalization_1 (Batch (None, 1024)              4096      \n",
      "_________________________________________________________________\n",
      "dropout_1 (Dropout)          (None, 1024)              0         \n",
      "_________________________________________________________________\n",
      "dense_1 (Dense)              (None, 512)               524800    \n",
      "_________________________________________________________________\n",
      "batch_normalization_2 (Batch (None, 512)               2048      \n",
      "_________________________________________________________________\n",
      "dropout_2 (Dropout)          (None, 512)               0         \n",
      "_________________________________________________________________\n",
      "dense_2 (Dense)              (None, 1)                 513       \n",
      "=================================================================\n",
      "Total params: 7,568,961\n",
      "Trainable params: 7,482,241\n",
      "Non-trainable params: 86,720\n",
      "_________________________________________________________________\n"
     ]
    }
   ],
   "source": [
    "remove_model = load_model('severstal-steel-defect-detection/model.h5')\n",
    "remove_model.summary()"
   ]
  },
  {
   "cell_type": "code",
   "execution_count": 12,
   "metadata": {},
   "outputs": [
    {
     "name": "stdout",
     "output_type": "stream",
     "text": [
      "29/29 [==============================] - ETA: 1:09:5 - ETA: 43:01  - ETA: 33:4 - ETA: 28:3 - ETA: 25:0 - ETA: 22:3 - ETA: 20:3 - ETA: 18:5 - ETA: 17:3 - ETA: 16:1 - ETA: 15:1 - ETA: 14:0 - ETA: 13:0 - ETA: 12:1 - ETA: 11:1 - ETA: 10:2 - ETA: 9:3 - ETA: 8: - ETA: 7: - ETA: 7: - ETA: 6: - ETA: 5: - ETA: 4: - ETA: 3: - ETA: 3: - ETA: 2: - ETA: 1: - ETA: 45s - 1271s 44s/step\n"
     ]
    },
    {
     "data": {
      "text/html": [
       "<div>\n",
       "<style scoped>\n",
       "    .dataframe tbody tr th:only-of-type {\n",
       "        vertical-align: middle;\n",
       "    }\n",
       "\n",
       "    .dataframe tbody tr th {\n",
       "        vertical-align: top;\n",
       "    }\n",
       "\n",
       "    .dataframe thead th {\n",
       "        text-align: right;\n",
       "    }\n",
       "</style>\n",
       "<table border=\"1\" class=\"dataframe\">\n",
       "  <thead>\n",
       "    <tr style=\"text-align: right;\">\n",
       "      <th></th>\n",
       "      <th>ImageId</th>\n",
       "      <th>allMissing</th>\n",
       "    </tr>\n",
       "  </thead>\n",
       "  <tbody>\n",
       "    <tr>\n",
       "      <th>0</th>\n",
       "      <td>004f40c73.jpg</td>\n",
       "      <td>0.535308</td>\n",
       "    </tr>\n",
       "    <tr>\n",
       "      <th>1</th>\n",
       "      <td>006f39c41.jpg</td>\n",
       "      <td>0.999956</td>\n",
       "    </tr>\n",
       "    <tr>\n",
       "      <th>2</th>\n",
       "      <td>00b7fb703.jpg</td>\n",
       "      <td>0.997788</td>\n",
       "    </tr>\n",
       "    <tr>\n",
       "      <th>3</th>\n",
       "      <td>00bbcd9af.jpg</td>\n",
       "      <td>0.000324</td>\n",
       "    </tr>\n",
       "    <tr>\n",
       "      <th>4</th>\n",
       "      <td>0108ce457.jpg</td>\n",
       "      <td>0.114875</td>\n",
       "    </tr>\n",
       "  </tbody>\n",
       "</table>\n",
       "</div>"
      ],
      "text/plain": [
       "         ImageId  allMissing\n",
       "0  004f40c73.jpg    0.535308\n",
       "1  006f39c41.jpg    0.999956\n",
       "2  00b7fb703.jpg    0.997788\n",
       "3  00bbcd9af.jpg    0.000324\n",
       "4  0108ce457.jpg    0.114875"
      ]
     },
     "execution_count": 12,
     "metadata": {},
     "output_type": "execute_result"
    }
   ],
   "source": [
    "test_missing_pred = remove_model.predict_generator(\n",
    "    test_gen,\n",
    "    steps=len(test_gen),\n",
    "    verbose=1\n",
    ")\n",
    "\n",
    "test_imgs['allMissing'] = test_missing_pred\n",
    "test_imgs.head()"
   ]
  },
  {
   "cell_type": "code",
   "execution_count": null,
   "metadata": {},
   "outputs": [],
   "source": []
  },
  {
   "cell_type": "code",
   "execution_count": 13,
   "metadata": {},
   "outputs": [
    {
     "name": "stdout",
     "output_type": "stream",
     "text": [
      "(721, 2)\n"
     ]
    },
    {
     "data": {
      "text/html": [
       "<div>\n",
       "<style scoped>\n",
       "    .dataframe tbody tr th:only-of-type {\n",
       "        vertical-align: middle;\n",
       "    }\n",
       "\n",
       "    .dataframe tbody tr th {\n",
       "        vertical-align: top;\n",
       "    }\n",
       "\n",
       "    .dataframe thead th {\n",
       "        text-align: right;\n",
       "    }\n",
       "</style>\n",
       "<table border=\"1\" class=\"dataframe\">\n",
       "  <thead>\n",
       "    <tr style=\"text-align: right;\">\n",
       "      <th></th>\n",
       "      <th>ImageId</th>\n",
       "      <th>allMissing</th>\n",
       "    </tr>\n",
       "  </thead>\n",
       "  <tbody>\n",
       "    <tr>\n",
       "      <th>3</th>\n",
       "      <td>00bbcd9af.jpg</td>\n",
       "      <td>0.000324</td>\n",
       "    </tr>\n",
       "    <tr>\n",
       "      <th>4</th>\n",
       "      <td>0108ce457.jpg</td>\n",
       "      <td>0.114875</td>\n",
       "    </tr>\n",
       "    <tr>\n",
       "      <th>6</th>\n",
       "      <td>010ec96b4.jpg</td>\n",
       "      <td>0.000624</td>\n",
       "    </tr>\n",
       "    <tr>\n",
       "      <th>8</th>\n",
       "      <td>017bd7ce3.jpg</td>\n",
       "      <td>0.042616</td>\n",
       "    </tr>\n",
       "    <tr>\n",
       "      <th>9</th>\n",
       "      <td>01b47d973.jpg</td>\n",
       "      <td>0.022378</td>\n",
       "    </tr>\n",
       "  </tbody>\n",
       "</table>\n",
       "</div>"
      ],
      "text/plain": [
       "         ImageId  allMissing\n",
       "3  00bbcd9af.jpg    0.000324\n",
       "4  0108ce457.jpg    0.114875\n",
       "6  010ec96b4.jpg    0.000624\n",
       "8  017bd7ce3.jpg    0.042616\n",
       "9  01b47d973.jpg    0.022378"
      ]
     },
     "execution_count": 13,
     "metadata": {},
     "output_type": "execute_result"
    }
   ],
   "source": [
    "filtered_test_imgs = test_imgs[test_imgs['allMissing'] < 0.5]\n",
    "print(filtered_test_imgs.shape)\n",
    "filtered_test_imgs.head()"
   ]
  },
  {
   "cell_type": "code",
   "execution_count": null,
   "metadata": {},
   "outputs": [],
   "source": [
    "filtered_mask = sub_df['ImageId'].isin(filtered_test_imgs[\"ImageId\"].values)\n",
    "filtered_sub_df = sub_df[filtered_mask].copy()\n",
    "null_sub_df = sub_df[~filtered_mask].copy()\n",
    "null_sub_df['EncodedPixels'] = null_sub_df['EncodedPixels'].apply(\n",
    "    lambda x: ' ')\n",
    "\n",
    "filtered_sub_df.reset_index(drop=True, inplace=True)\n",
    "filtered_test_imgs.reset_index(drop=True, inplace=True)\n",
    "\n",
    "print(filtered_sub_df.shape)\n",
    "print(null_sub_df.shape)\n",
    "\n",
    "filtered_sub_df.head()"
   ]
  },
  {
   "cell_type": "code",
   "execution_count": 32,
   "metadata": {},
   "outputs": [],
   "source": []
  },
  {
   "cell_type": "code",
   "execution_count": 33,
   "metadata": {
    "jupyter": {
     "source_hidden": true
    }
   },
   "outputs": [],
   "source": [
    "class DataGenerator(keras.utils.Sequence):\n",
    "    'Generates data for Keras'\n",
    "    def __init__(self, list_IDs, df, target_df=None, mode='fit',\n",
    "                 base_path='severstal-steel-defect-detection/train_images',\n",
    "                 batch_size=32, dim=(256, 1600), n_channels=1,\n",
    "                 n_classes=4, random_state=2019, shuffle=True):\n",
    "        self.dim = dim\n",
    "        self.batch_size = batch_size\n",
    "        self.df = df\n",
    "        self.mode = mode\n",
    "        self.base_path = base_path\n",
    "        self.target_df = target_df\n",
    "        self.list_IDs = list_IDs\n",
    "        self.n_channels = n_channels\n",
    "        self.n_classes = n_classes\n",
    "        self.shuffle = shuffle\n",
    "        self.random_state = random_state\n",
    "        \n",
    "        self.on_epoch_end()\n",
    "\n",
    "    def __len__(self):\n",
    "        'Denotes the number of batches per epoch'\n",
    "        return int(np.floor(len(self.list_IDs) / self.batch_size))\n",
    "\n",
    "    def __getitem__(self, index):\n",
    "        'Generate one batch of data'\n",
    "        # Generate indexes of the batch\n",
    "        indexes = self.indexes[index*self.batch_size:(index+1)*self.batch_size]\n",
    "\n",
    "        # Find list of IDs\n",
    "        list_IDs_batch = [self.list_IDs[k] for k in indexes]\n",
    "        \n",
    "        X = self.__generate_X(list_IDs_batch)\n",
    "        \n",
    "        if self.mode == 'fit':\n",
    "            y = self.__generate_y(list_IDs_batch)\n",
    "            return X, y\n",
    "        \n",
    "        elif self.mode == 'predict':\n",
    "            return X\n",
    "\n",
    "        else:\n",
    "            raise AttributeError('The mode parameter should be set to \"fit\" or \"predict\".')\n",
    "    def on_epoch_end(self):\n",
    "        'Updates indexes after each epoch'\n",
    "        self.indexes = np.arange(len(self.list_IDs))\n",
    "        if self.shuffle == True:\n",
    "            np.random.seed(self.random_state)\n",
    "            np.random.shuffle(self.indexes)\n",
    "            \n",
    "    def __generate_X(self, list_IDs_batch):\n",
    "        'Generates data containing batch_size samples'\n",
    "        # Initialization\n",
    "        X = np.empty((self.batch_size, *self.dim, self.n_channels))\n",
    "        \n",
    "        # Generate data\n",
    "        for i, ID in enumerate(list_IDs_batch):\n",
    "            im_name = self.df['ImageId'].iloc[ID]\n",
    "            img_path = f\"{self.base_path}/{im_name}\"\n",
    "            img = self.__load_grayscale(img_path)\n",
    "            \n",
    "            # Store samples\n",
    "            X[i,] = img\n",
    "\n",
    "        return X\n",
    "    def __generate_y(self, list_IDs_batch):\n",
    "        y = np.empty((self.batch_size, *self.dim, self.n_classes), dtype=int)\n",
    "        \n",
    "        for i, ID in enumerate(list_IDs_batch):\n",
    "            im_name = self.df['ImageId'].iloc[ID]\n",
    "            image_df = self.target_df[self.target_df['ImageId'] == im_name]\n",
    "            \n",
    "            rles = image_df['EncodedPixels'].values\n",
    "            masks = build_masks(rles, input_shape=self.dim)\n",
    "            \n",
    "            y[i, ] = masks\n",
    "\n",
    "        return y\n",
    "    \n",
    "    def __load_grayscale(self, img_path):\n",
    "        img = cv2.imread(img_path, cv2.IMREAD_GRAYSCALE)\n",
    "        img = img.astype(np.float32) / 255.\n",
    "        img = np.expand_dims(img, axis=-1)\n",
    "\n",
    "        return img\n",
    "    \n",
    "    def __load_rgb(self, img_path):\n",
    "        img = cv2.imread(img_path)\n",
    "        img = cv2.cvtColor(img, cv2.COLOR_BGR2RGB)\n",
    "        img = img.astype(np.float32) / 255.\n",
    "        \n",
    "        return img\n",
    "\n",
    " "
   ]
  },
  {
   "cell_type": "code",
   "execution_count": 34,
   "metadata": {},
   "outputs": [],
   "source": [
    "BATCH_SIZE = 16\n",
    "\n",
    "train_idx, val_idx = train_test_split(\n",
    "    non_missing_train_idx.index,  # NOTICE DIFFERENCE\n",
    "    random_state=2019, \n",
    "    test_size=0.15\n",
    ")\n",
    "\n",
    "train_generator = DataGenerator(\n",
    "    train_idx, \n",
    "    df=mask_count_df,\n",
    "    target_df=train_df,\n",
    "    batch_size=BATCH_SIZE, \n",
    "    n_classes=4\n",
    ")\n",
    "\n",
    "val_generator = DataGenerator(\n",
    "    val_idx, \n",
    "    df=mask_count_df,\n",
    "    target_df=train_df,\n",
    "    batch_size=BATCH_SIZE, \n",
    "    n_classes=4\n",
    ")"
   ]
  },
  {
   "cell_type": "code",
   "execution_count": 35,
   "metadata": {},
   "outputs": [],
   "source": [
    "def dice_coef(y_true, y_pred, smooth=1):\n",
    "    y_true_f = K.flatten(y_true)\n",
    "    y_pred_f = K.flatten(y_pred)\n",
    "    intersection = K.sum(y_true_f * y_pred_f)\n",
    "    return (2. * intersection + smooth) / (K.sum(y_true_f) + K.sum(y_pred_f) + smooth)\n"
   ]
  },
  {
   "cell_type": "code",
   "execution_count": 54,
   "metadata": {},
   "outputs": [],
   "source": [
    "def build_model(input_shape):\n",
    "    inputs = Input(input_shape)\n",
    "\n",
    "    c1 = Conv2D(8, (3, 3), activation='relu', padding='same') (inputs)\n",
    "    c1 = Conv2D(8, (3, 3), activation='relu', padding='same') (c1)\n",
    "    p1 = MaxPooling2D((2, 2)) (c1)\n",
    "\n",
    "    c2 = Conv2D(16, (3, 3), activation='relu', padding='same') (p1)\n",
    "    c2 = Conv2D(16, (3, 3), activation='relu', padding='same') (c2)\n",
    "    p2 = MaxPooling2D((2, 2)) (c2)\n",
    "    \n",
    "    c22 = Conv2D(32, (3, 3), activation='relu', padding='same') (p2)\n",
    "    c22 = Conv2D(32, (3, 3), activation='relu', padding='same') (c22)\n",
    "\n",
    "    u1 = Conv2DTranspose(16, (2, 2), strides=(2, 2), padding='same') (c22)\n",
    "    u1 = concatenate([u1, c2])\n",
    "    c3 = Conv2D(16, (3, 3), activation='relu', padding='same') (u1)\n",
    "    c3 = Conv2D(16, (3, 3), activation='relu', padding='same') (c3)\n",
    "\n",
    "    u2 = Conv2DTranspose(8, (2, 2), strides=(2, 2), padding='same') (c3)\n",
    "    u2 = concatenate([u2, c1], axis=3)\n",
    "    c4 = Conv2D(8, (3, 3), activation='relu', padding='same') (u2)\n",
    "    c4 = Conv2D(8, (3, 3), activation='relu', padding='same') (c4)\n",
    "    outputs = Conv2D(4, (1, 1), activation='sigmoid') (c4)\n",
    "\n",
    "    model = Model(inputs=[inputs], outputs=[outputs])\n",
    "    model.compile(optimizer='adam', loss='binary_crossentropy', metrics=[dice_coef])\n",
    "    \n",
    "    return model"
   ]
  },
  {
   "cell_type": "code",
   "execution_count": 55,
   "metadata": {},
   "outputs": [
    {
     "name": "stdout",
     "output_type": "stream",
     "text": [
      "Model: \"model_6\"\n",
      "__________________________________________________________________________________________________\n",
      "Layer (type)                    Output Shape         Param #     Connected to                     \n",
      "==================================================================================================\n",
      "input_9 (InputLayer)            (None, 256, 1600, 1) 0                                            \n",
      "__________________________________________________________________________________________________\n",
      "conv2d_118 (Conv2D)             (None, 256, 1600, 8) 80          input_9[0][0]                    \n",
      "__________________________________________________________________________________________________\n",
      "conv2d_119 (Conv2D)             (None, 256, 1600, 8) 584         conv2d_118[0][0]                 \n",
      "__________________________________________________________________________________________________\n",
      "max_pooling2d_28 (MaxPooling2D) (None, 128, 800, 8)  0           conv2d_119[0][0]                 \n",
      "__________________________________________________________________________________________________\n",
      "conv2d_120 (Conv2D)             (None, 128, 800, 16) 1168        max_pooling2d_28[0][0]           \n",
      "__________________________________________________________________________________________________\n",
      "conv2d_121 (Conv2D)             (None, 128, 800, 16) 2320        conv2d_120[0][0]                 \n",
      "__________________________________________________________________________________________________\n",
      "max_pooling2d_29 (MaxPooling2D) (None, 64, 400, 16)  0           conv2d_121[0][0]                 \n",
      "__________________________________________________________________________________________________\n",
      "conv2d_122 (Conv2D)             (None, 64, 400, 32)  4640        max_pooling2d_29[0][0]           \n",
      "__________________________________________________________________________________________________\n",
      "conv2d_123 (Conv2D)             (None, 64, 400, 32)  9248        conv2d_122[0][0]                 \n",
      "__________________________________________________________________________________________________\n",
      "conv2d_transpose_25 (Conv2DTran (None, 128, 800, 16) 2064        conv2d_123[0][0]                 \n",
      "__________________________________________________________________________________________________\n",
      "concatenate_25 (Concatenate)    (None, 128, 800, 32) 0           conv2d_transpose_25[0][0]        \n",
      "                                                                 conv2d_121[0][0]                 \n",
      "__________________________________________________________________________________________________\n",
      "conv2d_124 (Conv2D)             (None, 128, 800, 16) 4624        concatenate_25[0][0]             \n",
      "__________________________________________________________________________________________________\n",
      "conv2d_125 (Conv2D)             (None, 128, 800, 16) 2320        conv2d_124[0][0]                 \n",
      "__________________________________________________________________________________________________\n",
      "conv2d_transpose_26 (Conv2DTran (None, 256, 1600, 8) 520         conv2d_125[0][0]                 \n",
      "__________________________________________________________________________________________________\n",
      "concatenate_26 (Concatenate)    (None, 256, 1600, 16 0           conv2d_transpose_26[0][0]        \n",
      "                                                                 conv2d_119[0][0]                 \n",
      "__________________________________________________________________________________________________\n",
      "conv2d_126 (Conv2D)             (None, 256, 1600, 8) 1160        concatenate_26[0][0]             \n",
      "__________________________________________________________________________________________________\n",
      "conv2d_127 (Conv2D)             (None, 256, 1600, 8) 584         conv2d_126[0][0]                 \n",
      "__________________________________________________________________________________________________\n",
      "conv2d_128 (Conv2D)             (None, 256, 1600, 4) 36          conv2d_127[0][0]                 \n",
      "==================================================================================================\n",
      "Total params: 29,348\n",
      "Trainable params: 29,348\n",
      "Non-trainable params: 0\n",
      "__________________________________________________________________________________________________\n"
     ]
    }
   ],
   "source": [
    "model = build_model((256, 1600, 1))\n",
    "model.summary()"
   ]
  },
  {
   "cell_type": "code",
   "execution_count": 59,
   "metadata": {},
   "outputs": [
    {
     "name": "stdout",
     "output_type": "stream",
     "text": [
      "Epoch 1/10\n",
      "354/354 [==============================] - ETA: 1:35:45 - loss: 0.0297 - dice_coef: 0.12 - ETA: 1:20:56 - loss: 0.0302 - dice_coef: 0.10 - ETA: 1:16:50 - loss: 0.0289 - dice_coef: 0.12 - ETA: 1:13:05 - loss: 0.0286 - dice_coef: 0.14 - ETA: 1:10:15 - loss: 0.0260 - dice_coef: 0.13 - ETA: 1:07:26 - loss: 0.0261 - dice_coef: 0.16 - ETA: 1:05:20 - loss: 0.0280 - dice_coef: 0.15 - ETA: 1:03:38 - loss: 0.0279 - dice_coef: 0.17 - ETA: 1:02:19 - loss: 0.0290 - dice_coef: 0.17 - ETA: 1:01:20 - loss: 0.0281 - dice_coef: 0.17 - ETA: 1:00:27 - loss: 0.0274 - dice_coef: 0.16 - ETA: 59:41 - loss: 0.0272 - dice_coef: 0.1800 - ETA: 58:50 - loss: 0.0273 - dice_coef: 0.17 - ETA: 58:13 - loss: 0.0261 - dice_coef: 0.17 - ETA: 57:45 - loss: 0.0293 - dice_coef: 0.16 - ETA: 57:12 - loss: 0.0306 - dice_coef: 0.18 - ETA: 56:51 - loss: 0.0302 - dice_coef: 0.18 - ETA: 56:21 - loss: 0.0306 - dice_coef: 0.18 - ETA: 55:57 - loss: 0.0294 - dice_coef: 0.17 - ETA: 55:30 - loss: 0.0292 - dice_coef: 0.17 - ETA: 55:07 - loss: 0.0286 - dice_coef: 0.16 - ETA: 54:54 - loss: 0.0280 - dice_coef: 0.17 - ETA: 54:33 - loss: 0.0276 - dice_coef: 0.17 - ETA: 54:29 - loss: 0.0280 - dice_coef: 0.18 - ETA: 54:21 - loss: 0.0275 - dice_coef: 0.17 - ETA: 54:13 - loss: 0.0279 - dice_coef: 0.18 - ETA: 54:13 - loss: 0.0272 - dice_coef: 0.17 - ETA: 54:22 - loss: 0.0267 - dice_coef: 0.17 - ETA: 54:30 - loss: 0.0260 - dice_coef: 0.17 - ETA: 54:25 - loss: 0.0273 - dice_coef: 0.17 - ETA: 54:18 - loss: 0.0271 - dice_coef: 0.17 - ETA: 54:09 - loss: 0.0284 - dice_coef: 0.17 - ETA: 54:04 - loss: 0.0289 - dice_coef: 0.18 - ETA: 53:53 - loss: 0.0286 - dice_coef: 0.18 - ETA: 53:47 - loss: 0.0286 - dice_coef: 0.17 - ETA: 53:40 - loss: 0.0294 - dice_coef: 0.17 - ETA: 53:30 - loss: 0.0295 - dice_coef: 0.18 - ETA: 53:24 - loss: 0.0294 - dice_coef: 0.18 - ETA: 53:21 - loss: 0.0290 - dice_coef: 0.18 - ETA: 53:20 - loss: 0.0289 - dice_coef: 0.17 - ETA: 53:16 - loss: 0.0290 - dice_coef: 0.17 - ETA: 53:13 - loss: 0.0288 - dice_coef: 0.18 - ETA: 53:03 - loss: 0.0288 - dice_coef: 0.18 - ETA: 52:56 - loss: 0.0288 - dice_coef: 0.18 - ETA: 52:48 - loss: 0.0290 - dice_coef: 0.18 - ETA: 52:38 - loss: 0.0294 - dice_coef: 0.18 - ETA: 52:28 - loss: 0.0292 - dice_coef: 0.18 - ETA: 52:20 - loss: 0.0288 - dice_coef: 0.18 - ETA: 52:10 - loss: 0.0288 - dice_coef: 0.18 - ETA: 52:03 - loss: 0.0286 - dice_coef: 0.17 - ETA: 51:55 - loss: 0.0287 - dice_coef: 0.17 - ETA: 51:45 - loss: 0.0286 - dice_coef: 0.18 - ETA: 51:35 - loss: 0.0285 - dice_coef: 0.18 - ETA: 51:27 - loss: 0.0283 - dice_coef: 0.18 - ETA: 51:15 - loss: 0.0282 - dice_coef: 0.18 - ETA: 51:07 - loss: 0.0283 - dice_coef: 0.18 - ETA: 51:00 - loss: 0.0281 - dice_coef: 0.18 - ETA: 50:49 - loss: 0.0286 - dice_coef: 0.17 - ETA: 50:44 - loss: 0.0290 - dice_coef: 0.17 - ETA: 50:33 - loss: 0.0298 - dice_coef: 0.17 - ETA: 50:24 - loss: 0.0295 - dice_coef: 0.17 - ETA: 50:13 - loss: 0.0294 - dice_coef: 0.17 - ETA: 50:04 - loss: 0.0294 - dice_coef: 0.17 - ETA: 49:53 - loss: 0.0298 - dice_coef: 0.17 - ETA: 49:42 - loss: 0.0297 - dice_coef: 0.17 - ETA: 49:32 - loss: 0.0297 - dice_coef: 0.17 - ETA: 49:21 - loss: 0.0295 - dice_coef: 0.17 - ETA: 49:11 - loss: 0.0296 - dice_coef: 0.17 - ETA: 48:56 - loss: 0.0293 - dice_coef: 0.17 - ETA: 48:42 - loss: 0.0299 - dice_coef: 0.17 - ETA: 48:28 - loss: 0.0297 - dice_coef: 0.17 - ETA: 48:13 - loss: 0.0294 - dice_coef: 0.17 - ETA: 47:59 - loss: 0.0293 - dice_coef: 0.17 - ETA: 47:45 - loss: 0.0295 - dice_coef: 0.17 - ETA: 47:31 - loss: 0.0296 - dice_coef: 0.17 - ETA: 47:16 - loss: 0.0296 - dice_coef: 0.17 - ETA: 47:03 - loss: 0.0296 - dice_coef: 0.17 - ETA: 46:49 - loss: 0.0294 - dice_coef: 0.17 - ETA: 46:35 - loss: 0.0294 - dice_coef: 0.17 - ETA: 46:23 - loss: 0.0294 - dice_coef: 0.17 - ETA: 46:09 - loss: 0.0292 - dice_coef: 0.17 - ETA: 45:55 - loss: 0.0290 - dice_coef: 0.17 - ETA: 45:41 - loss: 0.0291 - dice_coef: 0.17 - ETA: 45:28 - loss: 0.0291 - dice_coef: 0.17 - ETA: 45:16 - loss: 0.0292 - dice_coef: 0.17 - ETA: 45:03 - loss: 0.0295 - dice_coef: 0.17 - ETA: 44:53 - loss: 0.0295 - dice_coef: 0.17 - ETA: 44:40 - loss: 0.0295 - dice_coef: 0.17 - ETA: 44:28 - loss: 0.0294 - dice_coef: 0.18 - ETA: 44:16 - loss: 0.0292 - dice_coef: 0.17 - ETA: 44:03 - loss: 0.0291 - dice_coef: 0.17 - ETA: 43:51 - loss: 0.0290 - dice_coef: 0.17 - ETA: 43:39 - loss: 0.0292 - dice_coef: 0.17 - ETA: 43:27 - loss: 0.0291 - dice_coef: 0.17 - ETA: 43:14 - loss: 0.0292 - dice_coef: 0.17 - ETA: 43:01 - loss: 0.0291 - dice_coef: 0.17 - ETA: 42:50 - loss: 0.0290 - dice_coef: 0.17 - ETA: 42:38 - loss: 0.0289 - dice_coef: 0.18 - ETA: 42:26 - loss: 0.0288 - dice_coef: 0.18 - ETA: 42:14 - loss: 0.0287 - dice_coef: 0.18 - ETA: 42:01 - loss: 0.0286 - dice_coef: 0.18 - ETA: 41:49 - loss: 0.0284 - dice_coef: 0.18 - ETA: 41:37 - loss: 0.0283 - dice_coef: 0.18 - ETA: 41:26 - loss: 0.0282 - dice_coef: 0.18 - ETA: 41:14 - loss: 0.0281 - dice_coef: 0.18 - ETA: 41:03 - loss: 0.0281 - dice_coef: 0.18 - ETA: 40:51 - loss: 0.0280 - dice_coef: 0.18 - ETA: 40:40 - loss: 0.0281 - dice_coef: 0.18 - ETA: 40:28 - loss: 0.0283 - dice_coef: 0.18 - ETA: 40:16 - loss: 0.0283 - dice_coef: 0.18 - ETA: 40:05 - loss: 0.0282 - dice_coef: 0.18 - ETA: 39:53 - loss: 0.0282 - dice_coef: 0.18 - ETA: 39:42 - loss: 0.0282 - dice_coef: 0.18 - ETA: 39:31 - loss: 0.0285 - dice_coef: 0.18 - ETA: 39:21 - loss: 0.0285 - dice_coef: 0.18 - ETA: 39:13 - loss: 0.0284 - dice_coef: 0.18 - ETA: 39:04 - loss: 0.0284 - dice_coef: 0.18 - ETA: 38:55 - loss: 0.0285 - dice_coef: 0.18 - ETA: 38:47 - loss: 0.0284 - dice_coef: 0.18 - ETA: 38:38 - loss: 0.0283 - dice_coef: 0.18 - ETA: 38:29 - loss: 0.0283 - dice_coef: 0.18 - ETA: 38:20 - loss: 0.0284 - dice_coef: 0.18 - ETA: 38:11 - loss: 0.0283 - dice_coef: 0.18 - ETA: 38:02 - loss: 0.0282 - dice_coef: 0.18 - ETA: 37:53 - loss: 0.0285 - dice_coef: 0.18 - ETA: 37:44 - loss: 0.0284 - dice_coef: 0.18 - ETA: 37:35 - loss: 0.0284 - dice_coef: 0.18 - ETA: 37:25 - loss: 0.0283 - dice_coef: 0.18 - ETA: 37:17 - loss: 0.0284 - dice_coef: 0.18 - ETA: 37:08 - loss: 0.0283 - dice_coef: 0.18 - ETA: 37:00 - loss: 0.0283 - dice_coef: 0.18 - ETA: 36:51 - loss: 0.0285 - dice_coef: 0.18 - ETA: 36:42 - loss: 0.0285 - dice_coef: 0.18 - ETA: 36:32 - loss: 0.0286 - dice_coef: 0.18 - ETA: 36:23 - loss: 0.0285 - dice_coef: 0.18 - ETA: 36:14 - loss: 0.0285 - dice_coef: 0.18 - ETA: 36:05 - loss: 0.0285 - dice_coef: 0.18 - ETA: 35:56 - loss: 0.0285 - dice_coef: 0.18 - ETA: 35:47 - loss: 0.0285 - dice_coef: 0.18 - ETA: 35:38 - loss: 0.0285 - dice_coef: 0.18 - ETA: 35:29 - loss: 0.0285 - dice_coef: 0.18 - ETA: 35:20 - loss: 0.0285 - dice_coef: 0.18 - ETA: 35:10 - loss: 0.0285 - dice_coef: 0.18 - ETA: 35:00 - loss: 0.0284 - dice_coef: 0.18 - ETA: 34:51 - loss: 0.0284 - dice_coef: 0.18 - ETA: 34:42 - loss: 0.0285 - dice_coef: 0.18 - ETA: 34:32 - loss: 0.0284 - dice_coef: 0.18 - ETA: 34:22 - loss: 0.0283 - dice_coef: 0.18 - ETA: 34:11 - loss: 0.0283 - dice_coef: 0.18 - ETA: 34:01 - loss: 0.0282 - dice_coef: 0.18 - ETA: 33:50 - loss: 0.0282 - dice_coef: 0.18 - ETA: 33:39 - loss: 0.0282 - dice_coef: 0.18 - ETA: 33:28 - loss: 0.0285 - dice_coef: 0.18 - ETA: 33:16 - loss: 0.0286 - dice_coef: 0.18 - ETA: 33:06 - loss: 0.0286 - dice_coef: 0.19 - ETA: 32:54 - loss: 0.0286 - dice_coef: 0.19 - ETA: 32:43 - loss: 0.0286 - dice_coef: 0.19 - ETA: 32:32 - loss: 0.0287 - dice_coef: 0.19 - ETA: 32:21 - loss: 0.0288 - dice_coef: 0.19 - ETA: 32:11 - loss: 0.0288 - dice_coef: 0.19 - ETA: 32:00 - loss: 0.0288 - dice_coef: 0.19 - ETA: 31:49 - loss: 0.0287 - dice_coef: 0.19 - ETA: 31:38 - loss: 0.0287 - dice_coef: 0.19 - ETA: 31:27 - loss: 0.0288 - dice_coef: 0.19 - ETA: 31:16 - loss: 0.0288 - dice_coef: 0.19 - ETA: 31:06 - loss: 0.0288 - dice_coef: 0.19 - ETA: 30:55 - loss: 0.0288 - dice_coef: 0.19 - ETA: 30:44 - loss: 0.0288 - dice_coef: 0.19 - ETA: 30:34 - loss: 0.0287 - dice_coef: 0.19 - ETA: 30:23 - loss: 0.0288 - dice_coef: 0.19 - ETA: 30:12 - loss: 0.0288 - dice_coef: 0.19 - ETA: 30:02 - loss: 0.0288 - dice_coef: 0.19 - ETA: 29:51 - loss: 0.0288 - dice_coef: 0.19 - ETA: 29:41 - loss: 0.0288 - dice_coef: 0.19 - ETA: 29:30 - loss: 0.0287 - dice_coef: 0.19 - ETA: 29:20 - loss: 0.0287 - dice_coef: 0.19 - ETA: 29:09 - loss: 0.0286 - dice_coef: 0.19 - ETA: 28:58 - loss: 0.0286 - dice_coef: 0.19 - ETA: 28:48 - loss: 0.0285 - dice_coef: 0.19 - ETA: 28:37 - loss: 0.0287 - dice_coef: 0.19 - ETA: 28:27 - loss: 0.0287 - dice_coef: 0.19 - ETA: 28:16 - loss: 0.0287 - dice_coef: 0.19 - ETA: 28:06 - loss: 0.0287 - dice_coef: 0.19 - ETA: 27:55 - loss: 0.0288 - dice_coef: 0.19 - ETA: 27:45 - loss: 0.0287 - dice_coef: 0.19 - ETA: 27:35 - loss: 0.0287 - dice_coef: 0.19 - ETA: 27:24 - loss: 0.0287 - dice_coef: 0.19 - ETA: 27:14 - loss: 0.0289 - dice_coef: 0.19 - ETA: 27:03 - loss: 0.0289 - dice_coef: 0.19 - ETA: 26:53 - loss: 0.0290 - dice_coef: 0.19 - ETA: 26:43 - loss: 0.0290 - dice_coef: 0.19 - ETA: 26:32 - loss: 0.0290 - dice_coef: 0.19 - ETA: 26:22 - loss: 0.0289 - dice_coef: 0.19 - ETA: 26:11 - loss: 0.0290 - dice_coef: 0.19 - ETA: 26:01 - loss: 0.0290 - dice_coef: 0.19 - ETA: 25:51 - loss: 0.0289 - dice_coef: 0.19 - ETA: 25:40 - loss: 0.0288 - dice_coef: 0.19 - ETA: 25:30 - loss: 0.0288 - dice_coef: 0.19 - ETA: 25:20 - loss: 0.0287 - dice_coef: 0.19 - ETA: 25:10 - loss: 0.0289 - dice_coef: 0.19 - ETA: 24:59 - loss: 0.0288 - dice_coef: 0.19 - ETA: 24:49 - loss: 0.0289 - dice_coef: 0.19 - ETA: 24:39 - loss: 0.0288 - dice_coef: 0.19 - ETA: 24:29 - loss: 0.0287 - dice_coef: 0.19 - ETA: 24:18 - loss: 0.0287 - dice_coef: 0.19 - ETA: 24:08 - loss: 0.0287 - dice_coef: 0.19 - ETA: 23:58 - loss: 0.0286 - dice_coef: 0.19 - ETA: 23:49 - loss: 0.0286 - dice_coef: 0.19 - ETA: 23:40 - loss: 0.0286 - dice_coef: 0.19 - ETA: 23:30 - loss: 0.0285 - dice_coef: 0.19 - ETA: 23:20 - loss: 0.0286 - dice_coef: 0.19 - ETA: 23:11 - loss: 0.0287 - dice_coef: 0.19 - ETA: 23:02 - loss: 0.0287 - dice_coef: 0.19 - ETA: 22:53 - loss: 0.0288 - dice_coef: 0.19 - ETA: 22:44 - loss: 0.0287 - dice_coef: 0.19 - ETA: 22:34 - loss: 0.0287 - dice_coef: 0.19 - ETA: 22:25 - loss: 0.0287 - dice_coef: 0.19 - ETA: 22:15 - loss: 0.0286 - dice_coef: 0.19 - ETA: 22:06 - loss: 0.0285 - dice_coef: 0.19 - ETA: 21:56 - loss: 0.0285 - dice_coef: 0.19 - ETA: 21:47 - loss: 0.0284 - dice_coef: 0.19 - ETA: 21:37 - loss: 0.0284 - dice_coef: 0.19 - ETA: 21:28 - loss: 0.0283 - dice_coef: 0.19 - ETA: 21:19 - loss: 0.0283 - dice_coef: 0.19 - ETA: 21:09 - loss: 0.0284 - dice_coef: 0.19 - ETA: 21:00 - loss: 0.0284 - dice_coef: 0.19 - ETA: 20:51 - loss: 0.0283 - dice_coef: 0.19 - ETA: 20:41 - loss: 0.0283 - dice_coef: 0.19 - ETA: 20:31 - loss: 0.0283 - dice_coef: 0.19 - ETA: 20:22 - loss: 0.0283 - dice_coef: 0.19 - ETA: 20:12 - loss: 0.0285 - dice_coef: 0.19 - ETA: 20:03 - loss: 0.0286 - dice_coef: 0.19 - ETA: 19:53 - loss: 0.0285 - dice_coef: 0.19 - ETA: 19:44 - loss: 0.0285 - dice_coef: 0.19 - ETA: 19:34 - loss: 0.0285 - dice_coef: 0.19 - ETA: 19:25 - loss: 0.0284 - dice_coef: 0.19 - ETA: 19:15 - loss: 0.0285 - dice_coef: 0.19 - ETA: 19:05 - loss: 0.0284 - dice_coef: 0.19 - ETA: 18:56 - loss: 0.0284 - dice_coef: 0.19 - ETA: 18:46 - loss: 0.0284 - dice_coef: 0.19 - ETA: 18:36 - loss: 0.0283 - dice_coef: 0.19 - ETA: 18:26 - loss: 0.0283 - dice_coef: 0.19 - ETA: 18:16 - loss: 0.0283 - dice_coef: 0.19 - ETA: 18:06 - loss: 0.0284 - dice_coef: 0.19 - ETA: 17:55 - loss: 0.0285 - dice_coef: 0.19 - ETA: 17:45 - loss: 0.0285 - dice_coef: 0.19 - ETA: 17:35 - loss: 0.0285 - dice_coef: 0.19 - ETA: 17:25 - loss: 0.0284 - dice_coef: 0.18 - ETA: 17:15 - loss: 0.0284 - dice_coef: 0.18 - ETA: 17:05 - loss: 0.0283 - dice_coef: 0.18 - ETA: 16:55 - loss: 0.0283 - dice_coef: 0.18 - ETA: 16:45 - loss: 0.0283 - dice_coef: 0.19 - ETA: 16:35 - loss: 0.0283 - dice_coef: 0.19 - ETA: 16:25 - loss: 0.0283 - dice_coef: 0.19 - ETA: 16:15 - loss: 0.0282 - dice_coef: 0.19 - ETA: 16:04 - loss: 0.0283 - dice_coef: 0.18 - ETA: 15:55 - loss: 0.0284 - dice_coef: 0.19 - ETA: 15:45 - loss: 0.0283 - dice_coef: 0.19 - ETA: 15:35 - loss: 0.0283 - dice_coef: 0.18 - ETA: 15:25 - loss: 0.0283 - dice_coef: 0.19 - ETA: 15:15 - loss: 0.0283 - dice_coef: 0.19 - ETA: 15:05 - loss: 0.0284 - dice_coef: 0.19 - ETA: 14:55 - loss: 0.0283 - dice_coef: 0.19 - ETA: 14:44 - loss: 0.0283 - dice_coef: 0.19 - ETA: 14:35 - loss: 0.0283 - dice_coef: 0.19 - ETA: 14:25 - loss: 0.0283 - dice_coef: 0.19 - ETA: 14:15 - loss: 0.0283 - dice_coef: 0.19 - ETA: 14:05 - loss: 0.0283 - dice_coef: 0.19 - ETA: 13:55 - loss: 0.0283 - dice_coef: 0.19 - ETA: 13:45 - loss: 0.0283 - dice_coef: 0.19 - ETA: 13:35 - loss: 0.0283 - dice_coef: 0.19 - ETA: 13:25 - loss: 0.0283 - dice_coef: 0.19 - ETA: 13:15 - loss: 0.0284 - dice_coef: 0.19 - ETA: 13:05 - loss: 0.0283 - dice_coef: 0.19 - ETA: 12:56 - loss: 0.0283 - dice_coef: 0.19 - ETA: 12:46 - loss: 0.0284 - dice_coef: 0.19 - ETA: 12:35 - loss: 0.0284 - dice_coef: 0.19 - ETA: 12:26 - loss: 0.0283 - dice_coef: 0.19 - ETA: 12:15 - loss: 0.0283 - dice_coef: 0.19 - ETA: 12:06 - loss: 0.0284 - dice_coef: 0.19 - ETA: 11:56 - loss: 0.0285 - dice_coef: 0.19 - ETA: 11:46 - loss: 0.0286 - dice_coef: 0.19 - ETA: 11:36 - loss: 0.0285 - dice_coef: 0.19 - ETA: 11:26 - loss: 0.0285 - dice_coef: 0.19 - ETA: 11:16 - loss: 0.0284 - dice_coef: 0.19 - ETA: 11:06 - loss: 0.0284 - dice_coef: 0.19 - ETA: 10:56 - loss: 0.0284 - dice_coef: 0.19 - ETA: 10:46 - loss: 0.0283 - dice_coef: 0.19 - ETA: 10:36 - loss: 0.0283 - dice_coef: 0.19 - ETA: 10:26 - loss: 0.0283 - dice_coef: 0.19 - ETA: 10:16 - loss: 0.0283 - dice_coef: 0.19 - ETA: 10:06 - loss: 0.0283 - dice_coef: 0.19 - ETA: 9:56 - loss: 0.0282 - dice_coef: 0.1927 - ETA: 9:46 - loss: 0.0282 - dice_coef: 0.192 - ETA: 9:36 - loss: 0.0281 - dice_coef: 0.191 - ETA: 9:26 - loss: 0.0281 - dice_coef: 0.191 - ETA: 9:17 - loss: 0.0280 - dice_coef: 0.191 - ETA: 9:07 - loss: 0.0281 - dice_coef: 0.191 - ETA: 8:57 - loss: 0.0281 - dice_coef: 0.191 - ETA: 8:47 - loss: 0.0281 - dice_coef: 0.191 - ETA: 8:37 - loss: 0.0281 - dice_coef: 0.191 - ETA: 8:28 - loss: 0.0281 - dice_coef: 0.191 - ETA: 8:18 - loss: 0.0281 - dice_coef: 0.191 - ETA: 8:08 - loss: 0.0281 - dice_coef: 0.191 - ETA: 7:59 - loss: 0.0280 - dice_coef: 0.192 - ETA: 7:49 - loss: 0.0280 - dice_coef: 0.192 - ETA: 7:40 - loss: 0.0280 - dice_coef: 0.192 - ETA: 7:30 - loss: 0.0280 - dice_coef: 0.192 - ETA: 7:20 - loss: 0.0281 - dice_coef: 0.192 - ETA: 7:10 - loss: 0.0280 - dice_coef: 0.193 - ETA: 7:01 - loss: 0.0280 - dice_coef: 0.193 - ETA: 6:51 - loss: 0.0279 - dice_coef: 0.193 - ETA: 6:41 - loss: 0.0279 - dice_coef: 0.193 - ETA: 6:32 - loss: 0.0279 - dice_coef: 0.192 - ETA: 6:22 - loss: 0.0279 - dice_coef: 0.192 - ETA: 6:12 - loss: 0.0278 - dice_coef: 0.193 - ETA: 6:02 - loss: 0.0278 - dice_coef: 0.193 - ETA: 5:53 - loss: 0.0278 - dice_coef: 0.193 - ETA: 5:43 - loss: 0.0277 - dice_coef: 0.192 - ETA: 5:33 - loss: 0.0278 - dice_coef: 0.193 - ETA: 5:24 - loss: 0.0277 - dice_coef: 0.193 - ETA: 5:14 - loss: 0.0278 - dice_coef: 0.193 - ETA: 5:04 - loss: 0.0278 - dice_coef: 0.193 - ETA: 4:54 - loss: 0.0278 - dice_coef: 0.193 - ETA: 4:44 - loss: 0.0278 - dice_coef: 0.194 - ETA: 4:35 - loss: 0.0278 - dice_coef: 0.194 - ETA: 4:25 - loss: 0.0278 - dice_coef: 0.194 - ETA: 4:15 - loss: 0.0277 - dice_coef: 0.194 - ETA: 4:05 - loss: 0.0277 - dice_coef: 0.194 - ETA: 3:56 - loss: 0.0277 - dice_coef: 0.194 - ETA: 3:46 - loss: 0.0277 - dice_coef: 0.194 - ETA: 3:36 - loss: 0.0277 - dice_coef: 0.193 - ETA: 3:26 - loss: 0.0277 - dice_coef: 0.193 - ETA: 3:16 - loss: 0.0277 - dice_coef: 0.193 - ETA: 3:07 - loss: 0.0278 - dice_coef: 0.193 - ETA: 2:57 - loss: 0.0278 - dice_coef: 0.193 - ETA: 2:47 - loss: 0.0277 - dice_coef: 0.192 - ETA: 2:37 - loss: 0.0278 - dice_coef: 0.193 - ETA: 2:27 - loss: 0.0278 - dice_coef: 0.192 - ETA: 2:18 - loss: 0.0278 - dice_coef: 0.192 - ETA: 2:08 - loss: 0.0278 - dice_coef: 0.192 - ETA: 1:58 - loss: 0.0278 - dice_coef: 0.193 - ETA: 1:48 - loss: 0.0279 - dice_coef: 0.193 - ETA: 1:38 - loss: 0.0279 - dice_coef: 0.193 - ETA: 1:28 - loss: 0.0279 - dice_coef: 0.192 - ETA: 1:18 - loss: 0.0279 - dice_coef: 0.192 - ETA: 1:08 - loss: 0.0280 - dice_coef: 0.192 - ETA: 59s - loss: 0.0279 - dice_coef: 0.192 - ETA: 49s - loss: 0.0279 - dice_coef: 0.19 - ETA: 39s - loss: 0.0279 - dice_coef: 0.19 - ETA: 29s - loss: 0.0279 - dice_coef: 0.19 - ETA: 19s - loss: 0.0279 - dice_coef: 0.19 - ETA: 9s - loss: 0.0278 - dice_coef: 0.1918 - 3766s 11s/step - loss: 0.0278 - dice_coef: 0.1920 - val_loss: 0.0133 - val_dice_coef: 0.1945\n",
      "Epoch 2/10\n",
      "354/354 [==============================] - ETA: 1:00:57 - loss: 0.0645 - dice_coef: 0.17 - ETA: 57:54 - loss: 0.0431 - dice_coef: 0.2179 - ETA: 56:33 - loss: 0.0352 - dice_coef: 0.20 - ETA: 56:04 - loss: 0.0325 - dice_coef: 0.20 - ETA: 55:54 - loss: 0.0364 - dice_coef: 0.22 - ETA: 55:30 - loss: 0.0331 - dice_coef: 0.22 - ETA: 55:31 - loss: 0.0329 - dice_coef: 0.21 - ETA: 55:56 - loss: 0.0353 - dice_coef: 0.22 - ETA: 56:05 - loss: 0.0331 - dice_coef: 0.21 - ETA: 56:34 - loss: 0.0365 - dice_coef: 0.22 - ETA: 56:53 - loss: 0.0348 - dice_coef: 0.22 - ETA: 56:59 - loss: 0.0345 - dice_coef: 0.21 - ETA: 57:13 - loss: 0.0339 - dice_coef: 0.20 - ETA: 57:23 - loss: 0.0332 - dice_coef: 0.21 - ETA: 57:20 - loss: 0.0331 - dice_coef: 0.21 - ETA: 57:16 - loss: 0.0318 - dice_coef: 0.20 - ETA: 57:05 - loss: 0.0310 - dice_coef: 0.20 - ETA: 56:57 - loss: 0.0309 - dice_coef: 0.20 - ETA: 56:53 - loss: 0.0299 - dice_coef: 0.20 - ETA: 56:43 - loss: 0.0303 - dice_coef: 0.20 - ETA: 56:36 - loss: 0.0295 - dice_coef: 0.20 - ETA: 56:29 - loss: 0.0293 - dice_coef: 0.20 - ETA: 56:20 - loss: 0.0288 - dice_coef: 0.20 - ETA: 56:17 - loss: 0.0286 - dice_coef: 0.20 - ETA: 56:16 - loss: 0.0286 - dice_coef: 0.20 - ETA: 56:07 - loss: 0.0280 - dice_coef: 0.20 - ETA: 56:01 - loss: 0.0277 - dice_coef: 0.19 - ETA: 55:54 - loss: 0.0274 - dice_coef: 0.19 - ETA: 55:43 - loss: 0.0273 - dice_coef: 0.20 - ETA: 55:36 - loss: 0.0282 - dice_coef: 0.19 - ETA: 55:26 - loss: 0.0278 - dice_coef: 0.19 - ETA: 55:15 - loss: 0.0281 - dice_coef: 0.19 - ETA: 55:10 - loss: 0.0279 - dice_coef: 0.19 - ETA: 55:02 - loss: 0.0273 - dice_coef: 0.18 - ETA: 54:50 - loss: 0.0272 - dice_coef: 0.18 - ETA: 54:42 - loss: 0.0270 - dice_coef: 0.18 - ETA: 54:33 - loss: 0.0268 - dice_coef: 0.18 - ETA: 54:23 - loss: 0.0267 - dice_coef: 0.18 - ETA: 54:15 - loss: 0.0266 - dice_coef: 0.19 - ETA: 54:05 - loss: 0.0266 - dice_coef: 0.19 - ETA: 53:56 - loss: 0.0268 - dice_coef: 0.19 - ETA: 53:50 - loss: 0.0267 - dice_coef: 0.19 - ETA: 53:38 - loss: 0.0265 - dice_coef: 0.19 - ETA: 53:29 - loss: 0.0260 - dice_coef: 0.19 - ETA: 53:21 - loss: 0.0260 - dice_coef: 0.20 - ETA: 53:09 - loss: 0.0271 - dice_coef: 0.20 - ETA: 52:58 - loss: 0.0272 - dice_coef: 0.20 - ETA: 52:49 - loss: 0.0269 - dice_coef: 0.20 - ETA: 52:38 - loss: 0.0268 - dice_coef: 0.20 - ETA: 52:26 - loss: 0.0265 - dice_coef: 0.20 - ETA: 52:16 - loss: 0.0271 - dice_coef: 0.20 - ETA: 52:05 - loss: 0.0274 - dice_coef: 0.20 - ETA: 51:55 - loss: 0.0273 - dice_coef: 0.21 - ETA: 51:39 - loss: 0.0274 - dice_coef: 0.21 - ETA: 51:23 - loss: 0.0273 - dice_coef: 0.21 - ETA: 51:07 - loss: 0.0275 - dice_coef: 0.21 - ETA: 50:50 - loss: 0.0273 - dice_coef: 0.21 - ETA: 50:34 - loss: 0.0269 - dice_coef: 0.21 - ETA: 50:18 - loss: 0.0266 - dice_coef: 0.21 - ETA: 50:03 - loss: 0.0266 - dice_coef: 0.21 - ETA: 49:48 - loss: 0.0267 - dice_coef: 0.21 - ETA: 49:32 - loss: 0.0266 - dice_coef: 0.21 - ETA: 49:20 - loss: 0.0267 - dice_coef: 0.21 - ETA: 49:05 - loss: 0.0267 - dice_coef: 0.21 - ETA: 48:51 - loss: 0.0266 - dice_coef: 0.21 - ETA: 48:36 - loss: 0.0263 - dice_coef: 0.21 - ETA: 48:21 - loss: 0.0263 - dice_coef: 0.21 - ETA: 48:07 - loss: 0.0268 - dice_coef: 0.21 - ETA: 47:52 - loss: 0.0267 - dice_coef: 0.21 - ETA: 47:39 - loss: 0.0267 - dice_coef: 0.21 - ETA: 47:25 - loss: 0.0266 - dice_coef: 0.21 - ETA: 47:13 - loss: 0.0264 - dice_coef: 0.21 - ETA: 46:59 - loss: 0.0263 - dice_coef: 0.21 - ETA: 46:48 - loss: 0.0264 - dice_coef: 0.21 - ETA: 46:36 - loss: 0.0263 - dice_coef: 0.22 - ETA: 46:23 - loss: 0.0262 - dice_coef: 0.21 - ETA: 46:11 - loss: 0.0261 - dice_coef: 0.22 - ETA: 45:57 - loss: 0.0260 - dice_coef: 0.21 - ETA: 45:44 - loss: 0.0261 - dice_coef: 0.21 - ETA: 45:31 - loss: 0.0266 - dice_coef: 0.21 - ETA: 45:18 - loss: 0.0267 - dice_coef: 0.21 - ETA: 45:06 - loss: 0.0265 - dice_coef: 0.21 - ETA: 44:53 - loss: 0.0263 - dice_coef: 0.21 - ETA: 44:41 - loss: 0.0262 - dice_coef: 0.21 - ETA: 44:29 - loss: 0.0262 - dice_coef: 0.21 - ETA: 44:16 - loss: 0.0263 - dice_coef: 0.21 - ETA: 44:03 - loss: 0.0262 - dice_coef: 0.21 - ETA: 43:51 - loss: 0.0262 - dice_coef: 0.21 - ETA: 43:40 - loss: 0.0263 - dice_coef: 0.21 - ETA: 43:28 - loss: 0.0263 - dice_coef: 0.21 - ETA: 43:16 - loss: 0.0262 - dice_coef: 0.21 - ETA: 43:04 - loss: 0.0263 - dice_coef: 0.21 - ETA: 42:52 - loss: 0.0262 - dice_coef: 0.21 - ETA: 42:39 - loss: 0.0262 - dice_coef: 0.21 - ETA: 42:28 - loss: 0.0262 - dice_coef: 0.21 - ETA: 42:17 - loss: 0.0262 - dice_coef: 0.21 - ETA: 42:04 - loss: 0.0262 - dice_coef: 0.21 - ETA: 41:55 - loss: 0.0265 - dice_coef: 0.21 - ETA: 41:45 - loss: 0.0263 - dice_coef: 0.21 - ETA: 41:37 - loss: 0.0262 - dice_coef: 0.21 - ETA: 41:29 - loss: 0.0261 - dice_coef: 0.21 - ETA: 41:20 - loss: 0.0265 - dice_coef: 0.21 - ETA: 41:11 - loss: 0.0264 - dice_coef: 0.21 - ETA: 41:03 - loss: 0.0263 - dice_coef: 0.21 - ETA: 40:53 - loss: 0.0262 - dice_coef: 0.21 - ETA: 40:44 - loss: 0.0264 - dice_coef: 0.21 - ETA: 40:36 - loss: 0.0264 - dice_coef: 0.21 - ETA: 40:27 - loss: 0.0262 - dice_coef: 0.21 - ETA: 40:18 - loss: 0.0261 - dice_coef: 0.21 - ETA: 40:09 - loss: 0.0260 - dice_coef: 0.21 - ETA: 40:00 - loss: 0.0259 - dice_coef: 0.21 - ETA: 39:51 - loss: 0.0258 - dice_coef: 0.21 - ETA: 39:42 - loss: 0.0257 - dice_coef: 0.21 - ETA: 39:34 - loss: 0.0257 - dice_coef: 0.21 - ETA: 39:25 - loss: 0.0256 - dice_coef: 0.21 - ETA: 39:16 - loss: 0.0255 - dice_coef: 0.21 - ETA: 39:08 - loss: 0.0254 - dice_coef: 0.21 - ETA: 38:59 - loss: 0.0253 - dice_coef: 0.21 - ETA: 38:50 - loss: 0.0253 - dice_coef: 0.21 - ETA: 38:41 - loss: 0.0252 - dice_coef: 0.21 - ETA: 38:33 - loss: 0.0253 - dice_coef: 0.21 - ETA: 38:23 - loss: 0.0253 - dice_coef: 0.21 - ETA: 38:14 - loss: 0.0252 - dice_coef: 0.21 - ETA: 38:05 - loss: 0.0252 - dice_coef: 0.21 - ETA: 37:57 - loss: 0.0251 - dice_coef: 0.21 - ETA: 37:48 - loss: 0.0252 - dice_coef: 0.21 - ETA: 37:39 - loss: 0.0252 - dice_coef: 0.21 - ETA: 37:30 - loss: 0.0252 - dice_coef: 0.21 - ETA: 37:21 - loss: 0.0253 - dice_coef: 0.21 - ETA: 37:12 - loss: 0.0253 - dice_coef: 0.21 - ETA: 37:03 - loss: 0.0252 - dice_coef: 0.21 - ETA: 36:54 - loss: 0.0251 - dice_coef: 0.21 - ETA: 36:45 - loss: 0.0251 - dice_coef: 0.21 - ETA: 36:35 - loss: 0.0252 - dice_coef: 0.21 - ETA: 36:25 - loss: 0.0251 - dice_coef: 0.21 - ETA: 36:13 - loss: 0.0250 - dice_coef: 0.21 - ETA: 36:02 - loss: 0.0252 - dice_coef: 0.21 - ETA: 35:51 - loss: 0.0250 - dice_coef: 0.21 - ETA: 35:40 - loss: 0.0253 - dice_coef: 0.21 - ETA: 35:29 - loss: 0.0252 - dice_coef: 0.20 - ETA: 35:17 - loss: 0.0252 - dice_coef: 0.20 - ETA: 35:07 - loss: 0.0251 - dice_coef: 0.20 - ETA: 34:55 - loss: 0.0251 - dice_coef: 0.20 - ETA: 34:44 - loss: 0.0251 - dice_coef: 0.20 - ETA: 34:34 - loss: 0.0250 - dice_coef: 0.20 - ETA: 34:22 - loss: 0.0250 - dice_coef: 0.20 - ETA: 34:12 - loss: 0.0249 - dice_coef: 0.20 - ETA: 34:00 - loss: 0.0248 - dice_coef: 0.20 - ETA: 33:50 - loss: 0.0248 - dice_coef: 0.20 - ETA: 33:39 - loss: 0.0248 - dice_coef: 0.20 - ETA: 33:28 - loss: 0.0252 - dice_coef: 0.20 - ETA: 33:17 - loss: 0.0252 - dice_coef: 0.20 - ETA: 33:06 - loss: 0.0251 - dice_coef: 0.20 - ETA: 32:56 - loss: 0.0250 - dice_coef: 0.20 - ETA: 32:45 - loss: 0.0250 - dice_coef: 0.20 - ETA: 32:35 - loss: 0.0249 - dice_coef: 0.20 - ETA: 32:24 - loss: 0.0248 - dice_coef: 0.20 - ETA: 32:13 - loss: 0.0248 - dice_coef: 0.20 - ETA: 32:03 - loss: 0.0247 - dice_coef: 0.20 - ETA: 31:52 - loss: 0.0247 - dice_coef: 0.20 - ETA: 31:41 - loss: 0.0248 - dice_coef: 0.20 - ETA: 31:30 - loss: 0.0248 - dice_coef: 0.20 - ETA: 31:20 - loss: 0.0249 - dice_coef: 0.20 - ETA: 31:09 - loss: 0.0249 - dice_coef: 0.20 - ETA: 30:58 - loss: 0.0250 - dice_coef: 0.20 - ETA: 30:48 - loss: 0.0252 - dice_coef: 0.20 - ETA: 30:37 - loss: 0.0252 - dice_coef: 0.20 - ETA: 30:27 - loss: 0.0253 - dice_coef: 0.20 - ETA: 30:16 - loss: 0.0254 - dice_coef: 0.20 - ETA: 30:06 - loss: 0.0255 - dice_coef: 0.20 - ETA: 29:55 - loss: 0.0254 - dice_coef: 0.21 - ETA: 29:45 - loss: 0.0255 - dice_coef: 0.21 - ETA: 29:34 - loss: 0.0255 - dice_coef: 0.21 - ETA: 29:24 - loss: 0.0254 - dice_coef: 0.21 - ETA: 29:13 - loss: 0.0253 - dice_coef: 0.20 - ETA: 29:03 - loss: 0.0253 - dice_coef: 0.20 - ETA: 28:53 - loss: 0.0254 - dice_coef: 0.20 - ETA: 28:42 - loss: 0.0254 - dice_coef: 0.20 - ETA: 28:32 - loss: 0.0255 - dice_coef: 0.20 - ETA: 28:21 - loss: 0.0254 - dice_coef: 0.20 - ETA: 28:11 - loss: 0.0254 - dice_coef: 0.20 - ETA: 28:01 - loss: 0.0255 - dice_coef: 0.20 - ETA: 27:50 - loss: 0.0256 - dice_coef: 0.20 - ETA: 27:40 - loss: 0.0256 - dice_coef: 0.20 - ETA: 27:30 - loss: 0.0257 - dice_coef: 0.20 - ETA: 27:19 - loss: 0.0257 - dice_coef: 0.20 - ETA: 27:09 - loss: 0.0256 - dice_coef: 0.20 - ETA: 26:59 - loss: 0.0256 - dice_coef: 0.20 - ETA: 26:49 - loss: 0.0256 - dice_coef: 0.20 - ETA: 26:38 - loss: 0.0255 - dice_coef: 0.21 - ETA: 26:29 - loss: 0.0255 - dice_coef: 0.20 - ETA: 26:19 - loss: 0.0255 - dice_coef: 0.21 - ETA: 26:10 - loss: 0.0254 - dice_coef: 0.21 - ETA: 26:01 - loss: 0.0255 - dice_coef: 0.21 - ETA: 25:52 - loss: 0.0255 - dice_coef: 0.20 - ETA: 25:42 - loss: 0.0255 - dice_coef: 0.20 - ETA: 25:33 - loss: 0.0256 - dice_coef: 0.21 - ETA: 25:24 - loss: 0.0255 - dice_coef: 0.20 - ETA: 25:14 - loss: 0.0255 - dice_coef: 0.20 - ETA: 25:05 - loss: 0.0254 - dice_coef: 0.20 - ETA: 24:56 - loss: 0.0254 - dice_coef: 0.20 - ETA: 24:47 - loss: 0.0254 - dice_coef: 0.20 - ETA: 24:38 - loss: 0.0254 - dice_coef: 0.20 - ETA: 24:28 - loss: 0.0254 - dice_coef: 0.20 - ETA: 24:19 - loss: 0.0254 - dice_coef: 0.20 - ETA: 24:09 - loss: 0.0254 - dice_coef: 0.20 - ETA: 24:00 - loss: 0.0255 - dice_coef: 0.20 - ETA: 23:50 - loss: 0.0254 - dice_coef: 0.20 - ETA: 23:41 - loss: 0.0255 - dice_coef: 0.20 - ETA: 23:32 - loss: 0.0255 - dice_coef: 0.20 - ETA: 23:23 - loss: 0.0255 - dice_coef: 0.20 - ETA: 23:14 - loss: 0.0255 - dice_coef: 0.20 - ETA: 23:05 - loss: 0.0256 - dice_coef: 0.20 - ETA: 22:55 - loss: 0.0257 - dice_coef: 0.20 - ETA: 22:46 - loss: 0.0257 - dice_coef: 0.20 - ETA: 22:37 - loss: 0.0257 - dice_coef: 0.20 - ETA: 22:27 - loss: 0.0256 - dice_coef: 0.20 - ETA: 22:18 - loss: 0.0256 - dice_coef: 0.20 - ETA: 22:09 - loss: 0.0258 - dice_coef: 0.20 - ETA: 21:59 - loss: 0.0257 - dice_coef: 0.20 - ETA: 21:50 - loss: 0.0258 - dice_coef: 0.20 - ETA: 21:40 - loss: 0.0258 - dice_coef: 0.20 - ETA: 21:31 - loss: 0.0258 - dice_coef: 0.20 - ETA: 21:22 - loss: 0.0258 - dice_coef: 0.20 - ETA: 21:12 - loss: 0.0257 - dice_coef: 0.20 - ETA: 21:02 - loss: 0.0257 - dice_coef: 0.20 - ETA: 20:53 - loss: 0.0257 - dice_coef: 0.20 - ETA: 20:43 - loss: 0.0257 - dice_coef: 0.20 - ETA: 20:34 - loss: 0.0257 - dice_coef: 0.20 - ETA: 20:24 - loss: 0.0257 - dice_coef: 0.20 - ETA: 20:14 - loss: 0.0256 - dice_coef: 0.20 - ETA: 20:05 - loss: 0.0257 - dice_coef: 0.20 - ETA: 19:55 - loss: 0.0257 - dice_coef: 0.20 - ETA: 19:44 - loss: 0.0257 - dice_coef: 0.20 - ETA: 19:34 - loss: 0.0257 - dice_coef: 0.20 - ETA: 19:24 - loss: 0.0257 - dice_coef: 0.20 - ETA: 19:14 - loss: 0.0257 - dice_coef: 0.20 - ETA: 19:04 - loss: 0.0257 - dice_coef: 0.20 - ETA: 18:53 - loss: 0.0257 - dice_coef: 0.20 - ETA: 18:43 - loss: 0.0257 - dice_coef: 0.20 - ETA: 18:33 - loss: 0.0257 - dice_coef: 0.20 - ETA: 18:23 - loss: 0.0257 - dice_coef: 0.20 - ETA: 18:13 - loss: 0.0257 - dice_coef: 0.20 - ETA: 18:03 - loss: 0.0256 - dice_coef: 0.20 - ETA: 17:52 - loss: 0.0257 - dice_coef: 0.20 - ETA: 17:42 - loss: 0.0258 - dice_coef: 0.20 - ETA: 17:32 - loss: 0.0258 - dice_coef: 0.20 - ETA: 17:22 - loss: 0.0257 - dice_coef: 0.20 - ETA: 17:12 - loss: 0.0257 - dice_coef: 0.20 - ETA: 17:02 - loss: 0.0257 - dice_coef: 0.20 - ETA: 16:52 - loss: 0.0257 - dice_coef: 0.20 - ETA: 16:41 - loss: 0.0257 - dice_coef: 0.20 - ETA: 16:31 - loss: 0.0256 - dice_coef: 0.20 - ETA: 16:21 - loss: 0.0257 - dice_coef: 0.20 - ETA: 16:11 - loss: 0.0257 - dice_coef: 0.20 - ETA: 16:01 - loss: 0.0257 - dice_coef: 0.20 - ETA: 15:51 - loss: 0.0258 - dice_coef: 0.20 - ETA: 15:41 - loss: 0.0258 - dice_coef: 0.20 - ETA: 15:31 - loss: 0.0259 - dice_coef: 0.20 - ETA: 15:21 - loss: 0.0259 - dice_coef: 0.20 - ETA: 15:11 - loss: 0.0260 - dice_coef: 0.20 - ETA: 15:01 - loss: 0.0260 - dice_coef: 0.20 - ETA: 14:51 - loss: 0.0260 - dice_coef: 0.20 - ETA: 14:41 - loss: 0.0260 - dice_coef: 0.20 - ETA: 14:31 - loss: 0.0260 - dice_coef: 0.20 - ETA: 14:21 - loss: 0.0261 - dice_coef: 0.20 - ETA: 14:11 - loss: 0.0260 - dice_coef: 0.20 - ETA: 14:01 - loss: 0.0261 - dice_coef: 0.20 - ETA: 13:51 - loss: 0.0260 - dice_coef: 0.20 - ETA: 13:41 - loss: 0.0261 - dice_coef: 0.20 - ETA: 13:31 - loss: 0.0261 - dice_coef: 0.20 - ETA: 13:21 - loss: 0.0261 - dice_coef: 0.20 - ETA: 13:11 - loss: 0.0261 - dice_coef: 0.20 - ETA: 13:01 - loss: 0.0261 - dice_coef: 0.20 - ETA: 12:51 - loss: 0.0260 - dice_coef: 0.20 - ETA: 12:41 - loss: 0.0260 - dice_coef: 0.20 - ETA: 12:32 - loss: 0.0260 - dice_coef: 0.20 - ETA: 12:22 - loss: 0.0260 - dice_coef: 0.20 - ETA: 12:12 - loss: 0.0260 - dice_coef: 0.20 - ETA: 12:02 - loss: 0.0260 - dice_coef: 0.20 - ETA: 11:52 - loss: 0.0260 - dice_coef: 0.20 - ETA: 11:42 - loss: 0.0262 - dice_coef: 0.20 - ETA: 11:32 - loss: 0.0262 - dice_coef: 0.20 - ETA: 11:23 - loss: 0.0261 - dice_coef: 0.20 - ETA: 11:13 - loss: 0.0261 - dice_coef: 0.20 - ETA: 11:03 - loss: 0.0261 - dice_coef: 0.20 - ETA: 10:54 - loss: 0.0261 - dice_coef: 0.20 - ETA: 10:44 - loss: 0.0262 - dice_coef: 0.20 - ETA: 10:35 - loss: 0.0262 - dice_coef: 0.20 - ETA: 10:25 - loss: 0.0262 - dice_coef: 0.20 - ETA: 10:15 - loss: 0.0263 - dice_coef: 0.20 - ETA: 10:06 - loss: 0.0263 - dice_coef: 0.20 - ETA: 9:56 - loss: 0.0263 - dice_coef: 0.2056 - ETA: 9:46 - loss: 0.0263 - dice_coef: 0.205 - ETA: 9:37 - loss: 0.0263 - dice_coef: 0.205 - ETA: 9:27 - loss: 0.0263 - dice_coef: 0.205 - ETA: 9:17 - loss: 0.0263 - dice_coef: 0.205 - ETA: 9:08 - loss: 0.0262 - dice_coef: 0.205 - ETA: 8:58 - loss: 0.0262 - dice_coef: 0.205 - ETA: 8:48 - loss: 0.0263 - dice_coef: 0.205 - ETA: 8:38 - loss: 0.0264 - dice_coef: 0.205 - ETA: 8:29 - loss: 0.0265 - dice_coef: 0.204 - ETA: 8:19 - loss: 0.0265 - dice_coef: 0.204 - ETA: 8:10 - loss: 0.0265 - dice_coef: 0.204 - ETA: 8:00 - loss: 0.0266 - dice_coef: 0.205 - ETA: 7:50 - loss: 0.0266 - dice_coef: 0.205 - ETA: 7:40 - loss: 0.0266 - dice_coef: 0.205 - ETA: 7:31 - loss: 0.0266 - dice_coef: 0.205 - ETA: 7:21 - loss: 0.0266 - dice_coef: 0.205 - ETA: 7:11 - loss: 0.0266 - dice_coef: 0.205 - ETA: 7:02 - loss: 0.0268 - dice_coef: 0.205 - ETA: 6:52 - loss: 0.0268 - dice_coef: 0.205 - ETA: 6:42 - loss: 0.0268 - dice_coef: 0.205 - ETA: 6:32 - loss: 0.0268 - dice_coef: 0.205 - ETA: 6:23 - loss: 0.0268 - dice_coef: 0.205 - ETA: 6:13 - loss: 0.0268 - dice_coef: 0.205 - ETA: 6:03 - loss: 0.0268 - dice_coef: 0.205 - ETA: 5:53 - loss: 0.0268 - dice_coef: 0.205 - ETA: 5:44 - loss: 0.0268 - dice_coef: 0.205 - ETA: 5:34 - loss: 0.0268 - dice_coef: 0.205 - ETA: 5:24 - loss: 0.0268 - dice_coef: 0.206 - ETA: 5:14 - loss: 0.0268 - dice_coef: 0.205 - ETA: 5:05 - loss: 0.0269 - dice_coef: 0.206 - ETA: 4:55 - loss: 0.0269 - dice_coef: 0.206 - ETA: 4:45 - loss: 0.0270 - dice_coef: 0.206 - ETA: 4:35 - loss: 0.0270 - dice_coef: 0.206 - ETA: 4:25 - loss: 0.0270 - dice_coef: 0.206 - ETA: 4:15 - loss: 0.0270 - dice_coef: 0.206 - ETA: 4:05 - loss: 0.0270 - dice_coef: 0.206 - ETA: 3:55 - loss: 0.0270 - dice_coef: 0.206 - ETA: 3:46 - loss: 0.0269 - dice_coef: 0.206 - ETA: 3:36 - loss: 0.0270 - dice_coef: 0.206 - ETA: 3:26 - loss: 0.0270 - dice_coef: 0.206 - ETA: 3:16 - loss: 0.0270 - dice_coef: 0.206 - ETA: 3:06 - loss: 0.0270 - dice_coef: 0.206 - ETA: 2:56 - loss: 0.0270 - dice_coef: 0.206 - ETA: 2:46 - loss: 0.0269 - dice_coef: 0.205 - ETA: 2:37 - loss: 0.0270 - dice_coef: 0.206 - ETA: 2:27 - loss: 0.0270 - dice_coef: 0.206 - ETA: 2:17 - loss: 0.0269 - dice_coef: 0.206 - ETA: 2:07 - loss: 0.0270 - dice_coef: 0.206 - ETA: 1:57 - loss: 0.0270 - dice_coef: 0.206 - ETA: 1:47 - loss: 0.0270 - dice_coef: 0.206 - ETA: 1:38 - loss: 0.0270 - dice_coef: 0.206 - ETA: 1:28 - loss: 0.0269 - dice_coef: 0.206 - ETA: 1:18 - loss: 0.0270 - dice_coef: 0.206 - ETA: 1:08 - loss: 0.0270 - dice_coef: 0.206 - ETA: 58s - loss: 0.0269 - dice_coef: 0.206 - ETA: 48s - loss: 0.0270 - dice_coef: 0.20 - ETA: 39s - loss: 0.0270 - dice_coef: 0.20 - ETA: 29s - loss: 0.0270 - dice_coef: 0.20 - ETA: 19s - loss: 0.0270 - dice_coef: 0.20 - ETA: 9s - loss: 0.0270 - dice_coef: 0.2062 - 3753s 11s/step - loss: 0.0270 - dice_coef: 0.2064 - val_loss: 0.0147 - val_dice_coef: 0.2031\n",
      "Epoch 3/10\n",
      "354/354 [==============================] - ETA: 1:09:01 - loss: 0.0245 - dice_coef: 0.24 - ETA: 1:07:17 - loss: 0.0198 - dice_coef: 0.14 - ETA: 1:05:37 - loss: 0.0162 - dice_coef: 0.15 - ETA: 1:05:19 - loss: 0.0164 - dice_coef: 0.13 - ETA: 1:04:20 - loss: 0.0198 - dice_coef: 0.12 - ETA: 1:03:32 - loss: 0.0263 - dice_coef: 0.12 - ETA: 1:02:47 - loss: 0.0243 - dice_coef: 0.12 - ETA: 1:02:30 - loss: 0.0230 - dice_coef: 0.12 - ETA: 1:01:53 - loss: 0.0278 - dice_coef: 0.14 - ETA: 1:01:35 - loss: 0.0323 - dice_coef: 0.15 - ETA: 1:01:37 - loss: 0.0335 - dice_coef: 0.15 - ETA: 1:01:07 - loss: 0.0338 - dice_coef: 0.14 - ETA: 1:00:51 - loss: 0.0332 - dice_coef: 0.14 - ETA: 1:00:43 - loss: 0.0321 - dice_coef: 0.14 - ETA: 1:00:19 - loss: 0.0311 - dice_coef: 0.13 - ETA: 1:00:04 - loss: 0.0301 - dice_coef: 0.14 - ETA: 59:47 - loss: 0.0298 - dice_coef: 0.1370 - ETA: 59:37 - loss: 0.0302 - dice_coef: 0.13 - ETA: 59:26 - loss: 0.0299 - dice_coef: 0.13 - ETA: 59:17 - loss: 0.0296 - dice_coef: 0.13 - ETA: 58:56 - loss: 0.0291 - dice_coef: 0.14 - ETA: 58:42 - loss: 0.0290 - dice_coef: 0.14 - ETA: 58:25 - loss: 0.0294 - dice_coef: 0.13 - ETA: 58:14 - loss: 0.0292 - dice_coef: 0.13 - ETA: 58:04 - loss: 0.0292 - dice_coef: 0.14 - ETA: 57:50 - loss: 0.0291 - dice_coef: 0.14 - ETA: 57:45 - loss: 0.0289 - dice_coef: 0.14 - ETA: 57:35 - loss: 0.0285 - dice_coef: 0.14 - ETA: 57:20 - loss: 0.0287 - dice_coef: 0.15 - ETA: 57:07 - loss: 0.0287 - dice_coef: 0.15 - ETA: 56:52 - loss: 0.0286 - dice_coef: 0.15 - ETA: 56:37 - loss: 0.0282 - dice_coef: 0.15 - ETA: 56:23 - loss: 0.0282 - dice_coef: 0.16 - ETA: 56:11 - loss: 0.0279 - dice_coef: 0.16 - ETA: 55:47 - loss: 0.0278 - dice_coef: 0.16 - ETA: 55:26 - loss: 0.0272 - dice_coef: 0.16 - ETA: 55:03 - loss: 0.0269 - dice_coef: 0.16 - ETA: 54:43 - loss: 0.0272 - dice_coef: 0.16 - ETA: 54:22 - loss: 0.0281 - dice_coef: 0.16 - ETA: 54:03 - loss: 0.0277 - dice_coef: 0.16 - ETA: 53:45 - loss: 0.0274 - dice_coef: 0.16 - ETA: 53:25 - loss: 0.0284 - dice_coef: 0.16 - ETA: 53:08 - loss: 0.0286 - dice_coef: 0.17 - ETA: 52:49 - loss: 0.0282 - dice_coef: 0.16 - ETA: 52:32 - loss: 0.0281 - dice_coef: 0.16 - ETA: 52:14 - loss: 0.0280 - dice_coef: 0.16 - ETA: 51:57 - loss: 0.0278 - dice_coef: 0.16 - ETA: 51:44 - loss: 0.0276 - dice_coef: 0.16 - ETA: 51:27 - loss: 0.0276 - dice_coef: 0.17 - ETA: 51:12 - loss: 0.0277 - dice_coef: 0.17 - ETA: 50:55 - loss: 0.0275 - dice_coef: 0.17 - ETA: 50:39 - loss: 0.0274 - dice_coef: 0.17 - ETA: 50:23 - loss: 0.0274 - dice_coef: 0.17 - ETA: 50:09 - loss: 0.0273 - dice_coef: 0.17 - ETA: 49:55 - loss: 0.0270 - dice_coef: 0.17 - ETA: 49:41 - loss: 0.0269 - dice_coef: 0.18 - ETA: 49:28 - loss: 0.0270 - dice_coef: 0.18 - ETA: 49:14 - loss: 0.0274 - dice_coef: 0.18 - ETA: 49:00 - loss: 0.0273 - dice_coef: 0.18 - ETA: 48:47 - loss: 0.0272 - dice_coef: 0.19 - ETA: 48:32 - loss: 0.0271 - dice_coef: 0.18 - ETA: 48:20 - loss: 0.0270 - dice_coef: 0.19 - ETA: 48:06 - loss: 0.0269 - dice_coef: 0.19 - ETA: 47:55 - loss: 0.0267 - dice_coef: 0.19 - ETA: 47:41 - loss: 0.0272 - dice_coef: 0.19 - ETA: 47:29 - loss: 0.0273 - dice_coef: 0.19 - ETA: 47:17 - loss: 0.0272 - dice_coef: 0.19 - ETA: 47:03 - loss: 0.0270 - dice_coef: 0.19 - ETA: 46:51 - loss: 0.0272 - dice_coef: 0.19 - ETA: 46:37 - loss: 0.0270 - dice_coef: 0.19 - ETA: 46:25 - loss: 0.0268 - dice_coef: 0.18 - ETA: 46:11 - loss: 0.0270 - dice_coef: 0.19 - ETA: 45:59 - loss: 0.0268 - dice_coef: 0.19 - ETA: 45:49 - loss: 0.0270 - dice_coef: 0.19 - ETA: 45:36 - loss: 0.0270 - dice_coef: 0.19 - ETA: 45:25 - loss: 0.0269 - dice_coef: 0.19 - ETA: 45:13 - loss: 0.0268 - dice_coef: 0.19 - ETA: 45:00 - loss: 0.0268 - dice_coef: 0.19 - ETA: 44:48 - loss: 0.0268 - dice_coef: 0.19 - ETA: 44:36 - loss: 0.0270 - dice_coef: 0.19 - ETA: 44:25 - loss: 0.0268 - dice_coef: 0.19 - ETA: 44:13 - loss: 0.0266 - dice_coef: 0.19 - ETA: 44:04 - loss: 0.0266 - dice_coef: 0.19 - ETA: 43:55 - loss: 0.0266 - dice_coef: 0.19 - ETA: 43:47 - loss: 0.0265 - dice_coef: 0.19 - ETA: 43:40 - loss: 0.0266 - dice_coef: 0.19 - ETA: 43:31 - loss: 0.0267 - dice_coef: 0.19 - ETA: 43:23 - loss: 0.0269 - dice_coef: 0.19 - ETA: 43:16 - loss: 0.0273 - dice_coef: 0.19 - ETA: 43:07 - loss: 0.0272 - dice_coef: 0.19 - ETA: 42:58 - loss: 0.0272 - dice_coef: 0.19 - ETA: 42:50 - loss: 0.0273 - dice_coef: 0.19 - ETA: 42:42 - loss: 0.0272 - dice_coef: 0.19 - ETA: 42:34 - loss: 0.0272 - dice_coef: 0.19 - ETA: 42:25 - loss: 0.0272 - dice_coef: 0.19 - ETA: 42:16 - loss: 0.0271 - dice_coef: 0.19 - ETA: 42:08 - loss: 0.0270 - dice_coef: 0.19 - ETA: 41:58 - loss: 0.0270 - dice_coef: 0.19 - ETA: 41:50 - loss: 0.0269 - dice_coef: 0.19 - ETA: 41:42 - loss: 0.0270 - dice_coef: 0.19 - ETA: 41:33 - loss: 0.0271 - dice_coef: 0.19 - ETA: 41:24 - loss: 0.0272 - dice_coef: 0.19 - ETA: 41:17 - loss: 0.0273 - dice_coef: 0.19 - ETA: 41:09 - loss: 0.0273 - dice_coef: 0.18 - ETA: 41:01 - loss: 0.0273 - dice_coef: 0.18 - ETA: 40:52 - loss: 0.0275 - dice_coef: 0.18 - ETA: 40:43 - loss: 0.0274 - dice_coef: 0.18 - ETA: 40:34 - loss: 0.0273 - dice_coef: 0.18 - ETA: 40:26 - loss: 0.0272 - dice_coef: 0.18 - ETA: 40:18 - loss: 0.0272 - dice_coef: 0.18 - ETA: 40:09 - loss: 0.0271 - dice_coef: 0.18 - ETA: 40:01 - loss: 0.0271 - dice_coef: 0.18 - ETA: 39:52 - loss: 0.0271 - dice_coef: 0.18 - ETA: 39:42 - loss: 0.0276 - dice_coef: 0.18 - ETA: 39:34 - loss: 0.0276 - dice_coef: 0.18 - ETA: 39:24 - loss: 0.0277 - dice_coef: 0.18 - ETA: 39:16 - loss: 0.0277 - dice_coef: 0.18 - ETA: 39:08 - loss: 0.0277 - dice_coef: 0.18 - ETA: 38:59 - loss: 0.0276 - dice_coef: 0.18 - ETA: 38:48 - loss: 0.0276 - dice_coef: 0.18 - ETA: 38:36 - loss: 0.0276 - dice_coef: 0.19 - ETA: 38:25 - loss: 0.0278 - dice_coef: 0.18 - ETA: 38:14 - loss: 0.0278 - dice_coef: 0.18 - ETA: 38:02 - loss: 0.0281 - dice_coef: 0.18 - ETA: 37:52 - loss: 0.0281 - dice_coef: 0.19 - ETA: 37:40 - loss: 0.0280 - dice_coef: 0.18 - ETA: 37:29 - loss: 0.0278 - dice_coef: 0.18 - ETA: 37:18 - loss: 0.0277 - dice_coef: 0.18 - ETA: 37:07 - loss: 0.0277 - dice_coef: 0.18 - ETA: 36:56 - loss: 0.0276 - dice_coef: 0.18 - ETA: 36:44 - loss: 0.0275 - dice_coef: 0.18 - ETA: 36:34 - loss: 0.0276 - dice_coef: 0.18 - ETA: 36:22 - loss: 0.0276 - dice_coef: 0.18 - ETA: 36:11 - loss: 0.0275 - dice_coef: 0.18 - ETA: 36:00 - loss: 0.0274 - dice_coef: 0.18 - ETA: 35:49 - loss: 0.0274 - dice_coef: 0.18 - ETA: 35:38 - loss: 0.0275 - dice_coef: 0.18 - ETA: 35:27 - loss: 0.0276 - dice_coef: 0.18 - ETA: 35:17 - loss: 0.0276 - dice_coef: 0.18 - ETA: 35:05 - loss: 0.0276 - dice_coef: 0.18 - ETA: 34:55 - loss: 0.0276 - dice_coef: 0.18 - ETA: 34:44 - loss: 0.0275 - dice_coef: 0.18 - ETA: 34:33 - loss: 0.0274 - dice_coef: 0.18 - ETA: 34:23 - loss: 0.0273 - dice_coef: 0.18 - ETA: 34:12 - loss: 0.0272 - dice_coef: 0.18 - ETA: 34:02 - loss: 0.0275 - dice_coef: 0.18 - ETA: 33:50 - loss: 0.0274 - dice_coef: 0.18 - ETA: 33:40 - loss: 0.0274 - dice_coef: 0.18 - ETA: 33:29 - loss: 0.0273 - dice_coef: 0.18 - ETA: 33:18 - loss: 0.0274 - dice_coef: 0.18 - ETA: 33:08 - loss: 0.0274 - dice_coef: 0.18 - ETA: 32:57 - loss: 0.0273 - dice_coef: 0.18 - ETA: 32:47 - loss: 0.0273 - dice_coef: 0.18 - ETA: 32:36 - loss: 0.0275 - dice_coef: 0.18 - ETA: 32:26 - loss: 0.0274 - dice_coef: 0.18 - ETA: 32:15 - loss: 0.0275 - dice_coef: 0.18 - ETA: 32:05 - loss: 0.0274 - dice_coef: 0.18 - ETA: 31:54 - loss: 0.0274 - dice_coef: 0.18 - ETA: 31:44 - loss: 0.0274 - dice_coef: 0.18 - ETA: 31:34 - loss: 0.0273 - dice_coef: 0.18 - ETA: 31:23 - loss: 0.0272 - dice_coef: 0.18 - ETA: 31:12 - loss: 0.0273 - dice_coef: 0.18 - ETA: 31:02 - loss: 0.0272 - dice_coef: 0.18 - ETA: 30:51 - loss: 0.0271 - dice_coef: 0.18 - ETA: 30:41 - loss: 0.0272 - dice_coef: 0.18 - ETA: 30:31 - loss: 0.0271 - dice_coef: 0.18 - ETA: 30:20 - loss: 0.0271 - dice_coef: 0.18 - ETA: 30:10 - loss: 0.0273 - dice_coef: 0.18 - ETA: 30:00 - loss: 0.0272 - dice_coef: 0.18 - ETA: 29:49 - loss: 0.0271 - dice_coef: 0.18 - ETA: 29:39 - loss: 0.0271 - dice_coef: 0.18 - ETA: 29:29 - loss: 0.0271 - dice_coef: 0.18 - ETA: 29:18 - loss: 0.0271 - dice_coef: 0.18 - ETA: 29:08 - loss: 0.0271 - dice_coef: 0.18 - ETA: 28:58 - loss: 0.0271 - dice_coef: 0.18 - ETA: 28:48 - loss: 0.0270 - dice_coef: 0.18 - ETA: 28:39 - loss: 0.0271 - dice_coef: 0.18 - ETA: 28:30 - loss: 0.0272 - dice_coef: 0.18 - ETA: 28:21 - loss: 0.0274 - dice_coef: 0.18 - ETA: 28:12 - loss: 0.0273 - dice_coef: 0.18 - ETA: 28:03 - loss: 0.0273 - dice_coef: 0.18 - ETA: 27:56 - loss: 0.0272 - dice_coef: 0.18 - ETA: 27:48 - loss: 0.0272 - dice_coef: 0.18 - ETA: 27:40 - loss: 0.0271 - dice_coef: 0.18 - ETA: 27:33 - loss: 0.0271 - dice_coef: 0.18 - ETA: 27:23 - loss: 0.0270 - dice_coef: 0.18 - ETA: 27:14 - loss: 0.0271 - dice_coef: 0.18 - ETA: 27:05 - loss: 0.0271 - dice_coef: 0.18 - ETA: 26:56 - loss: 0.0272 - dice_coef: 0.18 - ETA: 26:47 - loss: 0.0273 - dice_coef: 0.18 - ETA: 26:38 - loss: 0.0272 - dice_coef: 0.18 - ETA: 26:28 - loss: 0.0272 - dice_coef: 0.18 - ETA: 26:19 - loss: 0.0271 - dice_coef: 0.18 - ETA: 26:10 - loss: 0.0271 - dice_coef: 0.19 - ETA: 26:00 - loss: 0.0271 - dice_coef: 0.19 - ETA: 25:52 - loss: 0.0271 - dice_coef: 0.19 - ETA: 25:42 - loss: 0.0271 - dice_coef: 0.19 - ETA: 25:33 - loss: 0.0271 - dice_coef: 0.19 - ETA: 25:23 - loss: 0.0271 - dice_coef: 0.19 - ETA: 25:14 - loss: 0.0270 - dice_coef: 0.19 - ETA: 25:05 - loss: 0.0270 - dice_coef: 0.19 - ETA: 24:55 - loss: 0.0270 - dice_coef: 0.19 - ETA: 24:46 - loss: 0.0271 - dice_coef: 0.19 - ETA: 24:37 - loss: 0.0271 - dice_coef: 0.19 - ETA: 24:27 - loss: 0.0271 - dice_coef: 0.19 - ETA: 24:18 - loss: 0.0272 - dice_coef: 0.19 - ETA: 24:09 - loss: 0.0271 - dice_coef: 0.19 - ETA: 23:59 - loss: 0.0271 - dice_coef: 0.19 - ETA: 23:50 - loss: 0.0271 - dice_coef: 0.19 - ETA: 23:40 - loss: 0.0271 - dice_coef: 0.19 - ETA: 23:31 - loss: 0.0271 - dice_coef: 0.19 - ETA: 23:22 - loss: 0.0271 - dice_coef: 0.19 - ETA: 23:12 - loss: 0.0270 - dice_coef: 0.19 - ETA: 23:02 - loss: 0.0270 - dice_coef: 0.19 - ETA: 22:52 - loss: 0.0270 - dice_coef: 0.19 - ETA: 22:43 - loss: 0.0269 - dice_coef: 0.19 - ETA: 22:34 - loss: 0.0272 - dice_coef: 0.19 - ETA: 22:24 - loss: 0.0271 - dice_coef: 0.19 - ETA: 22:13 - loss: 0.0271 - dice_coef: 0.19 - ETA: 22:03 - loss: 0.0270 - dice_coef: 0.19 - ETA: 21:53 - loss: 0.0270 - dice_coef: 0.19 - ETA: 21:43 - loss: 0.0271 - dice_coef: 0.19 - ETA: 21:33 - loss: 0.0271 - dice_coef: 0.19 - ETA: 21:23 - loss: 0.0271 - dice_coef: 0.19 - ETA: 21:12 - loss: 0.0270 - dice_coef: 0.19 - ETA: 21:02 - loss: 0.0270 - dice_coef: 0.19 - ETA: 20:52 - loss: 0.0271 - dice_coef: 0.19 - ETA: 20:42 - loss: 0.0272 - dice_coef: 0.19 - ETA: 20:32 - loss: 0.0272 - dice_coef: 0.19 - ETA: 20:21 - loss: 0.0271 - dice_coef: 0.19 - ETA: 20:11 - loss: 0.0271 - dice_coef: 0.19 - ETA: 20:01 - loss: 0.0271 - dice_coef: 0.19 - ETA: 19:51 - loss: 0.0271 - dice_coef: 0.19 - ETA: 19:41 - loss: 0.0270 - dice_coef: 0.19 - ETA: 19:31 - loss: 0.0272 - dice_coef: 0.19 - ETA: 19:20 - loss: 0.0271 - dice_coef: 0.19 - ETA: 19:10 - loss: 0.0271 - dice_coef: 0.19 - ETA: 19:00 - loss: 0.0272 - dice_coef: 0.19 - ETA: 18:50 - loss: 0.0272 - dice_coef: 0.19 - ETA: 18:40 - loss: 0.0272 - dice_coef: 0.19 - ETA: 18:30 - loss: 0.0272 - dice_coef: 0.19 - ETA: 18:21 - loss: 0.0272 - dice_coef: 0.19 - ETA: 18:11 - loss: 0.0271 - dice_coef: 0.19 - ETA: 18:01 - loss: 0.0271 - dice_coef: 0.19 - ETA: 17:51 - loss: 0.0271 - dice_coef: 0.19 - ETA: 17:41 - loss: 0.0270 - dice_coef: 0.19 - ETA: 17:31 - loss: 0.0270 - dice_coef: 0.19 - ETA: 17:21 - loss: 0.0270 - dice_coef: 0.19 - ETA: 17:11 - loss: 0.0270 - dice_coef: 0.19 - ETA: 17:01 - loss: 0.0270 - dice_coef: 0.19 - ETA: 16:51 - loss: 0.0270 - dice_coef: 0.19 - ETA: 16:41 - loss: 0.0269 - dice_coef: 0.19 - ETA: 16:31 - loss: 0.0269 - dice_coef: 0.19 - ETA: 16:21 - loss: 0.0268 - dice_coef: 0.19 - ETA: 16:10 - loss: 0.0268 - dice_coef: 0.19 - ETA: 16:00 - loss: 0.0268 - dice_coef: 0.19 - ETA: 15:50 - loss: 0.0268 - dice_coef: 0.19 - ETA: 15:40 - loss: 0.0268 - dice_coef: 0.19 - ETA: 15:31 - loss: 0.0268 - dice_coef: 0.19 - ETA: 15:21 - loss: 0.0268 - dice_coef: 0.19 - ETA: 15:10 - loss: 0.0268 - dice_coef: 0.19 - ETA: 15:01 - loss: 0.0268 - dice_coef: 0.19 - ETA: 14:51 - loss: 0.0268 - dice_coef: 0.19 - ETA: 14:41 - loss: 0.0268 - dice_coef: 0.19 - ETA: 14:31 - loss: 0.0267 - dice_coef: 0.19 - ETA: 14:21 - loss: 0.0267 - dice_coef: 0.19 - ETA: 14:11 - loss: 0.0267 - dice_coef: 0.19 - ETA: 14:01 - loss: 0.0267 - dice_coef: 0.19 - ETA: 13:52 - loss: 0.0268 - dice_coef: 0.19 - ETA: 13:42 - loss: 0.0268 - dice_coef: 0.19 - ETA: 13:32 - loss: 0.0269 - dice_coef: 0.19 - ETA: 13:23 - loss: 0.0269 - dice_coef: 0.19 - ETA: 13:13 - loss: 0.0269 - dice_coef: 0.19 - ETA: 13:04 - loss: 0.0269 - dice_coef: 0.19 - ETA: 12:54 - loss: 0.0269 - dice_coef: 0.19 - ETA: 12:44 - loss: 0.0268 - dice_coef: 0.19 - ETA: 12:35 - loss: 0.0270 - dice_coef: 0.19 - ETA: 12:25 - loss: 0.0270 - dice_coef: 0.19 - ETA: 12:15 - loss: 0.0269 - dice_coef: 0.19 - ETA: 12:06 - loss: 0.0269 - dice_coef: 0.19 - ETA: 11:56 - loss: 0.0268 - dice_coef: 0.19 - ETA: 11:46 - loss: 0.0268 - dice_coef: 0.19 - ETA: 11:37 - loss: 0.0268 - dice_coef: 0.19 - ETA: 11:27 - loss: 0.0268 - dice_coef: 0.19 - ETA: 11:17 - loss: 0.0268 - dice_coef: 0.19 - ETA: 11:08 - loss: 0.0268 - dice_coef: 0.20 - ETA: 10:58 - loss: 0.0268 - dice_coef: 0.19 - ETA: 10:48 - loss: 0.0268 - dice_coef: 0.20 - ETA: 10:39 - loss: 0.0267 - dice_coef: 0.20 - ETA: 10:29 - loss: 0.0268 - dice_coef: 0.20 - ETA: 10:19 - loss: 0.0268 - dice_coef: 0.20 - ETA: 10:10 - loss: 0.0269 - dice_coef: 0.20 - ETA: 10:00 - loss: 0.0270 - dice_coef: 0.20 - ETA: 9:50 - loss: 0.0270 - dice_coef: 0.2000 - ETA: 9:41 - loss: 0.0270 - dice_coef: 0.200 - ETA: 9:31 - loss: 0.0270 - dice_coef: 0.200 - ETA: 9:21 - loss: 0.0270 - dice_coef: 0.200 - ETA: 9:11 - loss: 0.0270 - dice_coef: 0.200 - ETA: 9:02 - loss: 0.0269 - dice_coef: 0.200 - ETA: 8:52 - loss: 0.0269 - dice_coef: 0.200 - ETA: 8:42 - loss: 0.0269 - dice_coef: 0.200 - ETA: 8:32 - loss: 0.0268 - dice_coef: 0.200 - ETA: 8:23 - loss: 0.0268 - dice_coef: 0.200 - ETA: 8:13 - loss: 0.0268 - dice_coef: 0.200 - ETA: 8:03 - loss: 0.0268 - dice_coef: 0.200 - ETA: 7:53 - loss: 0.0268 - dice_coef: 0.200 - ETA: 7:44 - loss: 0.0268 - dice_coef: 0.201 - ETA: 7:34 - loss: 0.0267 - dice_coef: 0.201 - ETA: 7:24 - loss: 0.0267 - dice_coef: 0.202 - ETA: 7:14 - loss: 0.0267 - dice_coef: 0.202 - ETA: 7:04 - loss: 0.0268 - dice_coef: 0.201 - ETA: 6:54 - loss: 0.0269 - dice_coef: 0.202 - ETA: 6:44 - loss: 0.0269 - dice_coef: 0.202 - ETA: 6:34 - loss: 0.0269 - dice_coef: 0.201 - ETA: 6:24 - loss: 0.0269 - dice_coef: 0.202 - ETA: 6:14 - loss: 0.0269 - dice_coef: 0.202 - ETA: 6:04 - loss: 0.0269 - dice_coef: 0.203 - ETA: 5:54 - loss: 0.0269 - dice_coef: 0.203 - ETA: 5:44 - loss: 0.0269 - dice_coef: 0.203 - ETA: 5:34 - loss: 0.0270 - dice_coef: 0.203 - ETA: 5:24 - loss: 0.0269 - dice_coef: 0.203 - ETA: 5:15 - loss: 0.0269 - dice_coef: 0.203 - ETA: 5:05 - loss: 0.0269 - dice_coef: 0.203 - ETA: 4:55 - loss: 0.0269 - dice_coef: 0.203 - ETA: 4:45 - loss: 0.0270 - dice_coef: 0.203 - ETA: 4:35 - loss: 0.0270 - dice_coef: 0.203 - ETA: 4:25 - loss: 0.0270 - dice_coef: 0.203 - ETA: 4:15 - loss: 0.0271 - dice_coef: 0.203 - ETA: 4:05 - loss: 0.0271 - dice_coef: 0.202 - ETA: 3:55 - loss: 0.0271 - dice_coef: 0.202 - ETA: 3:45 - loss: 0.0271 - dice_coef: 0.203 - ETA: 3:36 - loss: 0.0272 - dice_coef: 0.203 - ETA: 3:26 - loss: 0.0272 - dice_coef: 0.203 - ETA: 3:16 - loss: 0.0271 - dice_coef: 0.203 - ETA: 3:06 - loss: 0.0271 - dice_coef: 0.203 - ETA: 2:56 - loss: 0.0271 - dice_coef: 0.203 - ETA: 2:46 - loss: 0.0271 - dice_coef: 0.203 - ETA: 2:37 - loss: 0.0271 - dice_coef: 0.203 - ETA: 2:27 - loss: 0.0270 - dice_coef: 0.203 - ETA: 2:17 - loss: 0.0270 - dice_coef: 0.203 - ETA: 2:07 - loss: 0.0270 - dice_coef: 0.204 - ETA: 1:57 - loss: 0.0271 - dice_coef: 0.204 - ETA: 1:47 - loss: 0.0270 - dice_coef: 0.203 - ETA: 1:38 - loss: 0.0270 - dice_coef: 0.204 - ETA: 1:28 - loss: 0.0270 - dice_coef: 0.204 - ETA: 1:18 - loss: 0.0271 - dice_coef: 0.204 - ETA: 1:08 - loss: 0.0271 - dice_coef: 0.204 - ETA: 58s - loss: 0.0271 - dice_coef: 0.204 - ETA: 48s - loss: 0.0271 - dice_coef: 0.20 - ETA: 39s - loss: 0.0272 - dice_coef: 0.20 - ETA: 29s - loss: 0.0272 - dice_coef: 0.20 - ETA: 19s - loss: 0.0272 - dice_coef: 0.20 - ETA: 9s - loss: 0.0272 - dice_coef: 0.2053 - 3780s 11s/step - loss: 0.0272 - dice_coef: 0.2051 - val_loss: 0.0139 - val_dice_coef: 0.2179\n",
      "Epoch 4/10\n",
      "354/354 [==============================] - ETA: 1:15:28 - loss: 0.0310 - dice_coef: 0.15 - ETA: 1:09:46 - loss: 0.0361 - dice_coef: 0.13 - ETA: 1:07:53 - loss: 0.0320 - dice_coef: 0.16 - ETA: 1:05:45 - loss: 0.0327 - dice_coef: 0.22 - ETA: 1:04:41 - loss: 0.0291 - dice_coef: 0.21 - ETA: 1:03:52 - loss: 0.0265 - dice_coef: 0.21 - ETA: 1:03:32 - loss: 0.0255 - dice_coef: 0.23 - ETA: 1:03:14 - loss: 0.0305 - dice_coef: 0.22 - ETA: 1:02:51 - loss: 0.0287 - dice_coef: 0.22 - ETA: 1:02:27 - loss: 0.0275 - dice_coef: 0.21 - ETA: 1:02:04 - loss: 0.0277 - dice_coef: 0.21 - ETA: 1:01:24 - loss: 0.0285 - dice_coef: 0.21 - ETA: 1:00:43 - loss: 0.0278 - dice_coef: 0.21 - ETA: 1:00:22 - loss: 0.0279 - dice_coef: 0.21 - ETA: 59:49 - loss: 0.0274 - dice_coef: 0.2230 - ETA: 59:23 - loss: 0.0267 - dice_coef: 0.21 - ETA: 59:08 - loss: 0.0259 - dice_coef: 0.21 - ETA: 58:37 - loss: 0.0274 - dice_coef: 0.21 - ETA: 58:06 - loss: 0.0267 - dice_coef: 0.20 - ETA: 57:32 - loss: 0.0261 - dice_coef: 0.20 - ETA: 57:00 - loss: 0.0257 - dice_coef: 0.20 - ETA: 56:30 - loss: 0.0258 - dice_coef: 0.20 - ETA: 56:04 - loss: 0.0257 - dice_coef: 0.20 - ETA: 55:43 - loss: 0.0270 - dice_coef: 0.21 - ETA: 55:18 - loss: 0.0267 - dice_coef: 0.20 - ETA: 54:59 - loss: 0.0263 - dice_coef: 0.20 - ETA: 54:36 - loss: 0.0259 - dice_coef: 0.20 - ETA: 54:14 - loss: 0.0269 - dice_coef: 0.20 - ETA: 53:51 - loss: 0.0271 - dice_coef: 0.20 - ETA: 53:32 - loss: 0.0272 - dice_coef: 0.20 - ETA: 53:19 - loss: 0.0279 - dice_coef: 0.20 - ETA: 53:00 - loss: 0.0277 - dice_coef: 0.20 - ETA: 52:43 - loss: 0.0277 - dice_coef: 0.20 - ETA: 52:25 - loss: 0.0290 - dice_coef: 0.20 - ETA: 52:08 - loss: 0.0288 - dice_coef: 0.20 - ETA: 51:51 - loss: 0.0287 - dice_coef: 0.20 - ETA: 51:36 - loss: 0.0284 - dice_coef: 0.20 - ETA: 51:22 - loss: 0.0282 - dice_coef: 0.20 - ETA: 51:06 - loss: 0.0277 - dice_coef: 0.20 - ETA: 50:53 - loss: 0.0280 - dice_coef: 0.20 - ETA: 50:38 - loss: 0.0281 - dice_coef: 0.20 - ETA: 50:25 - loss: 0.0278 - dice_coef: 0.20 - ETA: 50:10 - loss: 0.0278 - dice_coef: 0.20 - ETA: 49:57 - loss: 0.0275 - dice_coef: 0.20 - ETA: 49:46 - loss: 0.0271 - dice_coef: 0.20 - ETA: 49:31 - loss: 0.0267 - dice_coef: 0.20 - ETA: 49:19 - loss: 0.0265 - dice_coef: 0.19 - ETA: 49:05 - loss: 0.0263 - dice_coef: 0.20 - ETA: 48:52 - loss: 0.0266 - dice_coef: 0.19 - ETA: 48:40 - loss: 0.0267 - dice_coef: 0.19 - ETA: 48:30 - loss: 0.0268 - dice_coef: 0.19 - ETA: 48:18 - loss: 0.0268 - dice_coef: 0.20 - ETA: 48:04 - loss: 0.0266 - dice_coef: 0.19 - ETA: 47:53 - loss: 0.0264 - dice_coef: 0.19 - ETA: 47:40 - loss: 0.0266 - dice_coef: 0.19 - ETA: 47:27 - loss: 0.0268 - dice_coef: 0.20 - ETA: 47:15 - loss: 0.0266 - dice_coef: 0.20 - ETA: 47:03 - loss: 0.0265 - dice_coef: 0.20 - ETA: 46:53 - loss: 0.0265 - dice_coef: 0.20 - ETA: 46:40 - loss: 0.0263 - dice_coef: 0.20 - ETA: 46:30 - loss: 0.0265 - dice_coef: 0.20 - ETA: 46:17 - loss: 0.0264 - dice_coef: 0.20 - ETA: 46:05 - loss: 0.0262 - dice_coef: 0.20 - ETA: 45:54 - loss: 0.0261 - dice_coef: 0.20 - ETA: 45:43 - loss: 0.0261 - dice_coef: 0.21 - ETA: 45:33 - loss: 0.0265 - dice_coef: 0.21 - ETA: 45:26 - loss: 0.0264 - dice_coef: 0.20 - ETA: 45:20 - loss: 0.0262 - dice_coef: 0.20 - ETA: 45:13 - loss: 0.0262 - dice_coef: 0.20 - ETA: 45:07 - loss: 0.0267 - dice_coef: 0.20 - ETA: 45:01 - loss: 0.0266 - dice_coef: 0.20 - ETA: 44:54 - loss: 0.0265 - dice_coef: 0.20 - ETA: 44:48 - loss: 0.0264 - dice_coef: 0.20 - ETA: 44:42 - loss: 0.0263 - dice_coef: 0.20 - ETA: 44:33 - loss: 0.0263 - dice_coef: 0.20 - ETA: 44:27 - loss: 0.0262 - dice_coef: 0.20 - ETA: 44:20 - loss: 0.0262 - dice_coef: 0.20 - ETA: 44:13 - loss: 0.0262 - dice_coef: 0.20 - ETA: 44:05 - loss: 0.0261 - dice_coef: 0.20 - ETA: 43:58 - loss: 0.0263 - dice_coef: 0.20 - ETA: 43:50 - loss: 0.0262 - dice_coef: 0.20 - ETA: 43:43 - loss: 0.0263 - dice_coef: 0.20 - ETA: 43:36 - loss: 0.0263 - dice_coef: 0.20 - ETA: 43:27 - loss: 0.0264 - dice_coef: 0.20 - ETA: 43:20 - loss: 0.0262 - dice_coef: 0.20 - ETA: 43:11 - loss: 0.0264 - dice_coef: 0.20 - ETA: 43:03 - loss: 0.0264 - dice_coef: 0.20 - ETA: 42:56 - loss: 0.0264 - dice_coef: 0.20 - ETA: 42:50 - loss: 0.0263 - dice_coef: 0.20 - ETA: 42:43 - loss: 0.0264 - dice_coef: 0.20 - ETA: 42:36 - loss: 0.0267 - dice_coef: 0.20 - ETA: 42:28 - loss: 0.0266 - dice_coef: 0.20 - ETA: 42:21 - loss: 0.0267 - dice_coef: 0.20 - ETA: 42:13 - loss: 0.0267 - dice_coef: 0.20 - ETA: 42:05 - loss: 0.0266 - dice_coef: 0.20 - ETA: 41:58 - loss: 0.0265 - dice_coef: 0.20 - ETA: 41:50 - loss: 0.0264 - dice_coef: 0.20 - ETA: 41:41 - loss: 0.0265 - dice_coef: 0.20 - ETA: 41:33 - loss: 0.0267 - dice_coef: 0.20 - ETA: 41:26 - loss: 0.0266 - dice_coef: 0.20 - ETA: 41:18 - loss: 0.0265 - dice_coef: 0.20 - ETA: 41:11 - loss: 0.0265 - dice_coef: 0.20 - ETA: 41:03 - loss: 0.0266 - dice_coef: 0.21 - ETA: 40:54 - loss: 0.0266 - dice_coef: 0.20 - ETA: 40:46 - loss: 0.0265 - dice_coef: 0.20 - ETA: 40:39 - loss: 0.0266 - dice_coef: 0.21 - ETA: 40:29 - loss: 0.0266 - dice_coef: 0.21 - ETA: 40:20 - loss: 0.0266 - dice_coef: 0.21 - ETA: 40:11 - loss: 0.0267 - dice_coef: 0.21 - ETA: 40:02 - loss: 0.0269 - dice_coef: 0.21 - ETA: 39:53 - loss: 0.0268 - dice_coef: 0.20 - ETA: 39:43 - loss: 0.0268 - dice_coef: 0.21 - ETA: 39:34 - loss: 0.0268 - dice_coef: 0.21 - ETA: 39:27 - loss: 0.0268 - dice_coef: 0.21 - ETA: 39:15 - loss: 0.0267 - dice_coef: 0.21 - ETA: 39:04 - loss: 0.0268 - dice_coef: 0.21 - ETA: 38:53 - loss: 0.0267 - dice_coef: 0.21 - ETA: 38:42 - loss: 0.0266 - dice_coef: 0.21 - ETA: 38:31 - loss: 0.0266 - dice_coef: 0.21 - ETA: 38:21 - loss: 0.0264 - dice_coef: 0.21 - ETA: 38:10 - loss: 0.0264 - dice_coef: 0.21 - ETA: 37:58 - loss: 0.0263 - dice_coef: 0.21 - ETA: 37:48 - loss: 0.0263 - dice_coef: 0.21 - ETA: 37:37 - loss: 0.0262 - dice_coef: 0.21 - ETA: 37:26 - loss: 0.0263 - dice_coef: 0.21 - ETA: 37:16 - loss: 0.0261 - dice_coef: 0.21 - ETA: 37:04 - loss: 0.0261 - dice_coef: 0.21 - ETA: 36:54 - loss: 0.0262 - dice_coef: 0.21 - ETA: 36:43 - loss: 0.0262 - dice_coef: 0.21 - ETA: 36:32 - loss: 0.0262 - dice_coef: 0.21 - ETA: 36:22 - loss: 0.0262 - dice_coef: 0.21 - ETA: 36:11 - loss: 0.0263 - dice_coef: 0.21 - ETA: 36:00 - loss: 0.0266 - dice_coef: 0.21 - ETA: 35:49 - loss: 0.0268 - dice_coef: 0.21 - ETA: 35:38 - loss: 0.0269 - dice_coef: 0.21 - ETA: 35:28 - loss: 0.0270 - dice_coef: 0.21 - ETA: 35:17 - loss: 0.0269 - dice_coef: 0.21 - ETA: 35:07 - loss: 0.0270 - dice_coef: 0.21 - ETA: 34:56 - loss: 0.0269 - dice_coef: 0.21 - ETA: 34:46 - loss: 0.0268 - dice_coef: 0.21 - ETA: 34:35 - loss: 0.0270 - dice_coef: 0.21 - ETA: 34:24 - loss: 0.0269 - dice_coef: 0.21 - ETA: 34:14 - loss: 0.0268 - dice_coef: 0.21 - ETA: 34:05 - loss: 0.0268 - dice_coef: 0.21 - ETA: 33:55 - loss: 0.0268 - dice_coef: 0.21 - ETA: 33:45 - loss: 0.0267 - dice_coef: 0.21 - ETA: 33:34 - loss: 0.0267 - dice_coef: 0.21 - ETA: 33:24 - loss: 0.0267 - dice_coef: 0.21 - ETA: 33:13 - loss: 0.0266 - dice_coef: 0.21 - ETA: 33:03 - loss: 0.0265 - dice_coef: 0.21 - ETA: 32:52 - loss: 0.0265 - dice_coef: 0.21 - ETA: 32:42 - loss: 0.0265 - dice_coef: 0.21 - ETA: 32:32 - loss: 0.0265 - dice_coef: 0.21 - ETA: 32:21 - loss: 0.0265 - dice_coef: 0.21 - ETA: 32:11 - loss: 0.0264 - dice_coef: 0.21 - ETA: 32:02 - loss: 0.0264 - dice_coef: 0.22 - ETA: 31:53 - loss: 0.0264 - dice_coef: 0.22 - ETA: 31:43 - loss: 0.0264 - dice_coef: 0.22 - ETA: 31:34 - loss: 0.0265 - dice_coef: 0.22 - ETA: 31:26 - loss: 0.0265 - dice_coef: 0.22 - ETA: 31:17 - loss: 0.0264 - dice_coef: 0.22 - ETA: 31:08 - loss: 0.0264 - dice_coef: 0.22 - ETA: 31:00 - loss: 0.0264 - dice_coef: 0.22 - ETA: 30:51 - loss: 0.0263 - dice_coef: 0.22 - ETA: 30:42 - loss: 0.0263 - dice_coef: 0.22 - ETA: 30:33 - loss: 0.0263 - dice_coef: 0.22 - ETA: 30:24 - loss: 0.0263 - dice_coef: 0.22 - ETA: 30:15 - loss: 0.0262 - dice_coef: 0.22 - ETA: 30:06 - loss: 0.0262 - dice_coef: 0.22 - ETA: 29:57 - loss: 0.0262 - dice_coef: 0.22 - ETA: 29:48 - loss: 0.0263 - dice_coef: 0.22 - ETA: 29:39 - loss: 0.0264 - dice_coef: 0.22 - ETA: 29:29 - loss: 0.0265 - dice_coef: 0.22 - ETA: 29:21 - loss: 0.0265 - dice_coef: 0.22 - ETA: 29:12 - loss: 0.0265 - dice_coef: 0.22 - ETA: 29:03 - loss: 0.0266 - dice_coef: 0.22 - ETA: 28:54 - loss: 0.0266 - dice_coef: 0.22 - ETA: 28:44 - loss: 0.0267 - dice_coef: 0.22 - ETA: 28:35 - loss: 0.0267 - dice_coef: 0.22 - ETA: 28:26 - loss: 0.0267 - dice_coef: 0.22 - ETA: 28:18 - loss: 0.0266 - dice_coef: 0.22 - ETA: 28:09 - loss: 0.0267 - dice_coef: 0.22 - ETA: 28:00 - loss: 0.0268 - dice_coef: 0.22 - ETA: 27:51 - loss: 0.0267 - dice_coef: 0.22 - ETA: 27:42 - loss: 0.0268 - dice_coef: 0.22 - ETA: 27:33 - loss: 0.0267 - dice_coef: 0.22 - ETA: 27:24 - loss: 0.0268 - dice_coef: 0.22 - ETA: 27:15 - loss: 0.0268 - dice_coef: 0.22 - ETA: 27:06 - loss: 0.0268 - dice_coef: 0.22 - ETA: 26:56 - loss: 0.0267 - dice_coef: 0.22 - ETA: 26:47 - loss: 0.0267 - dice_coef: 0.22 - ETA: 26:38 - loss: 0.0266 - dice_coef: 0.22 - ETA: 26:30 - loss: 0.0266 - dice_coef: 0.22 - ETA: 26:19 - loss: 0.0265 - dice_coef: 0.22 - ETA: 26:09 - loss: 0.0264 - dice_coef: 0.22 - ETA: 25:59 - loss: 0.0264 - dice_coef: 0.22 - ETA: 25:48 - loss: 0.0263 - dice_coef: 0.22 - ETA: 25:38 - loss: 0.0262 - dice_coef: 0.22 - ETA: 25:27 - loss: 0.0264 - dice_coef: 0.22 - ETA: 25:17 - loss: 0.0264 - dice_coef: 0.22 - ETA: 25:07 - loss: 0.0263 - dice_coef: 0.22 - ETA: 24:56 - loss: 0.0263 - dice_coef: 0.22 - ETA: 24:46 - loss: 0.0265 - dice_coef: 0.22 - ETA: 24:36 - loss: 0.0264 - dice_coef: 0.22 - ETA: 24:25 - loss: 0.0264 - dice_coef: 0.22 - ETA: 24:15 - loss: 0.0263 - dice_coef: 0.22 - ETA: 24:05 - loss: 0.0263 - dice_coef: 0.22 - ETA: 23:54 - loss: 0.0262 - dice_coef: 0.22 - ETA: 23:44 - loss: 0.0262 - dice_coef: 0.22 - ETA: 23:34 - loss: 0.0262 - dice_coef: 0.22 - ETA: 23:23 - loss: 0.0262 - dice_coef: 0.22 - ETA: 23:13 - loss: 0.0262 - dice_coef: 0.22 - ETA: 23:03 - loss: 0.0262 - dice_coef: 0.22 - ETA: 22:53 - loss: 0.0262 - dice_coef: 0.22 - ETA: 22:43 - loss: 0.0262 - dice_coef: 0.22 - ETA: 22:33 - loss: 0.0262 - dice_coef: 0.22 - ETA: 22:23 - loss: 0.0263 - dice_coef: 0.22 - ETA: 22:13 - loss: 0.0262 - dice_coef: 0.22 - ETA: 22:03 - loss: 0.0262 - dice_coef: 0.22 - ETA: 21:53 - loss: 0.0263 - dice_coef: 0.22 - ETA: 21:43 - loss: 0.0263 - dice_coef: 0.22 - ETA: 21:33 - loss: 0.0262 - dice_coef: 0.22 - ETA: 21:23 - loss: 0.0263 - dice_coef: 0.22 - ETA: 21:13 - loss: 0.0262 - dice_coef: 0.22 - ETA: 21:03 - loss: 0.0261 - dice_coef: 0.22 - ETA: 20:53 - loss: 0.0261 - dice_coef: 0.22 - ETA: 20:43 - loss: 0.0261 - dice_coef: 0.22 - ETA: 20:33 - loss: 0.0260 - dice_coef: 0.22 - ETA: 20:23 - loss: 0.0260 - dice_coef: 0.22 - ETA: 20:13 - loss: 0.0259 - dice_coef: 0.22 - ETA: 20:03 - loss: 0.0260 - dice_coef: 0.22 - ETA: 19:53 - loss: 0.0260 - dice_coef: 0.22 - ETA: 19:44 - loss: 0.0259 - dice_coef: 0.22 - ETA: 19:34 - loss: 0.0259 - dice_coef: 0.22 - ETA: 19:24 - loss: 0.0259 - dice_coef: 0.22 - ETA: 19:14 - loss: 0.0259 - dice_coef: 0.22 - ETA: 19:04 - loss: 0.0259 - dice_coef: 0.22 - ETA: 18:54 - loss: 0.0260 - dice_coef: 0.22 - ETA: 18:44 - loss: 0.0260 - dice_coef: 0.22 - ETA: 18:34 - loss: 0.0260 - dice_coef: 0.22 - ETA: 18:24 - loss: 0.0259 - dice_coef: 0.22 - ETA: 18:14 - loss: 0.0259 - dice_coef: 0.22 - ETA: 18:04 - loss: 0.0258 - dice_coef: 0.22 - ETA: 17:54 - loss: 0.0258 - dice_coef: 0.22 - ETA: 17:44 - loss: 0.0258 - dice_coef: 0.22 - ETA: 17:34 - loss: 0.0259 - dice_coef: 0.22 - ETA: 17:24 - loss: 0.0259 - dice_coef: 0.22 - ETA: 17:14 - loss: 0.0259 - dice_coef: 0.22 - ETA: 17:04 - loss: 0.0258 - dice_coef: 0.22 - ETA: 16:55 - loss: 0.0258 - dice_coef: 0.22 - ETA: 16:46 - loss: 0.0258 - dice_coef: 0.22 - ETA: 16:36 - loss: 0.0258 - dice_coef: 0.22 - ETA: 16:27 - loss: 0.0258 - dice_coef: 0.22 - ETA: 16:17 - loss: 0.0258 - dice_coef: 0.22 - ETA: 16:08 - loss: 0.0258 - dice_coef: 0.22 - ETA: 15:59 - loss: 0.0259 - dice_coef: 0.22 - ETA: 15:49 - loss: 0.0259 - dice_coef: 0.22 - ETA: 15:40 - loss: 0.0259 - dice_coef: 0.22 - ETA: 15:30 - loss: 0.0259 - dice_coef: 0.22 - ETA: 15:21 - loss: 0.0258 - dice_coef: 0.22 - ETA: 15:11 - loss: 0.0259 - dice_coef: 0.22 - ETA: 15:01 - loss: 0.0259 - dice_coef: 0.22 - ETA: 14:52 - loss: 0.0259 - dice_coef: 0.22 - ETA: 14:42 - loss: 0.0258 - dice_coef: 0.22 - ETA: 14:33 - loss: 0.0258 - dice_coef: 0.22 - ETA: 14:23 - loss: 0.0258 - dice_coef: 0.22 - ETA: 14:13 - loss: 0.0258 - dice_coef: 0.22 - ETA: 14:04 - loss: 0.0258 - dice_coef: 0.22 - ETA: 13:54 - loss: 0.0258 - dice_coef: 0.22 - ETA: 13:44 - loss: 0.0258 - dice_coef: 0.22 - ETA: 13:35 - loss: 0.0258 - dice_coef: 0.22 - ETA: 13:26 - loss: 0.0258 - dice_coef: 0.22 - ETA: 13:16 - loss: 0.0260 - dice_coef: 0.22 - ETA: 13:07 - loss: 0.0260 - dice_coef: 0.22 - ETA: 12:57 - loss: 0.0259 - dice_coef: 0.22 - ETA: 12:47 - loss: 0.0259 - dice_coef: 0.22 - ETA: 12:38 - loss: 0.0259 - dice_coef: 0.22 - ETA: 12:28 - loss: 0.0260 - dice_coef: 0.22 - ETA: 12:18 - loss: 0.0260 - dice_coef: 0.22 - ETA: 12:09 - loss: 0.0259 - dice_coef: 0.22 - ETA: 11:59 - loss: 0.0260 - dice_coef: 0.22 - ETA: 11:50 - loss: 0.0260 - dice_coef: 0.22 - ETA: 11:40 - loss: 0.0262 - dice_coef: 0.22 - ETA: 11:30 - loss: 0.0261 - dice_coef: 0.22 - ETA: 11:21 - loss: 0.0261 - dice_coef: 0.22 - ETA: 11:11 - loss: 0.0262 - dice_coef: 0.22 - ETA: 11:01 - loss: 0.0262 - dice_coef: 0.22 - ETA: 10:51 - loss: 0.0263 - dice_coef: 0.22 - ETA: 10:41 - loss: 0.0262 - dice_coef: 0.22 - ETA: 10:32 - loss: 0.0262 - dice_coef: 0.22 - ETA: 10:22 - loss: 0.0262 - dice_coef: 0.22 - ETA: 10:12 - loss: 0.0262 - dice_coef: 0.22 - ETA: 10:01 - loss: 0.0262 - dice_coef: 0.22 - ETA: 9:52 - loss: 0.0261 - dice_coef: 0.2237 - ETA: 9:42 - loss: 0.0263 - dice_coef: 0.223 - ETA: 9:32 - loss: 0.0262 - dice_coef: 0.223 - ETA: 9:22 - loss: 0.0263 - dice_coef: 0.223 - ETA: 9:12 - loss: 0.0263 - dice_coef: 0.223 - ETA: 9:02 - loss: 0.0263 - dice_coef: 0.223 - ETA: 8:52 - loss: 0.0263 - dice_coef: 0.223 - ETA: 8:42 - loss: 0.0263 - dice_coef: 0.223 - ETA: 8:32 - loss: 0.0263 - dice_coef: 0.223 - ETA: 8:22 - loss: 0.0263 - dice_coef: 0.224 - ETA: 8:12 - loss: 0.0263 - dice_coef: 0.223 - ETA: 8:02 - loss: 0.0263 - dice_coef: 0.223 - ETA: 7:52 - loss: 0.0263 - dice_coef: 0.223 - ETA: 7:42 - loss: 0.0263 - dice_coef: 0.224 - ETA: 7:32 - loss: 0.0263 - dice_coef: 0.223 - ETA: 7:22 - loss: 0.0264 - dice_coef: 0.223 - ETA: 7:12 - loss: 0.0264 - dice_coef: 0.223 - ETA: 7:02 - loss: 0.0265 - dice_coef: 0.223 - ETA: 6:52 - loss: 0.0264 - dice_coef: 0.223 - ETA: 6:42 - loss: 0.0264 - dice_coef: 0.223 - ETA: 6:33 - loss: 0.0264 - dice_coef: 0.223 - ETA: 6:23 - loss: 0.0265 - dice_coef: 0.223 - ETA: 6:13 - loss: 0.0265 - dice_coef: 0.224 - ETA: 6:03 - loss: 0.0264 - dice_coef: 0.223 - ETA: 5:53 - loss: 0.0265 - dice_coef: 0.224 - ETA: 5:43 - loss: 0.0266 - dice_coef: 0.224 - ETA: 5:33 - loss: 0.0266 - dice_coef: 0.224 - ETA: 5:23 - loss: 0.0266 - dice_coef: 0.224 - ETA: 5:13 - loss: 0.0267 - dice_coef: 0.224 - ETA: 5:04 - loss: 0.0267 - dice_coef: 0.224 - ETA: 4:54 - loss: 0.0267 - dice_coef: 0.224 - ETA: 4:44 - loss: 0.0268 - dice_coef: 0.224 - ETA: 4:34 - loss: 0.0268 - dice_coef: 0.224 - ETA: 4:24 - loss: 0.0268 - dice_coef: 0.225 - ETA: 4:14 - loss: 0.0267 - dice_coef: 0.225 - ETA: 4:04 - loss: 0.0267 - dice_coef: 0.225 - ETA: 3:55 - loss: 0.0266 - dice_coef: 0.225 - ETA: 3:45 - loss: 0.0266 - dice_coef: 0.225 - ETA: 3:35 - loss: 0.0266 - dice_coef: 0.224 - ETA: 3:25 - loss: 0.0266 - dice_coef: 0.224 - ETA: 3:15 - loss: 0.0266 - dice_coef: 0.224 - ETA: 3:05 - loss: 0.0265 - dice_coef: 0.224 - ETA: 2:56 - loss: 0.0265 - dice_coef: 0.224 - ETA: 2:46 - loss: 0.0265 - dice_coef: 0.224 - ETA: 2:36 - loss: 0.0265 - dice_coef: 0.224 - ETA: 2:26 - loss: 0.0264 - dice_coef: 0.224 - ETA: 2:16 - loss: 0.0264 - dice_coef: 0.224 - ETA: 2:07 - loss: 0.0264 - dice_coef: 0.223 - ETA: 1:57 - loss: 0.0264 - dice_coef: 0.224 - ETA: 1:47 - loss: 0.0264 - dice_coef: 0.224 - ETA: 1:37 - loss: 0.0264 - dice_coef: 0.223 - ETA: 1:28 - loss: 0.0263 - dice_coef: 0.223 - ETA: 1:18 - loss: 0.0264 - dice_coef: 0.223 - ETA: 1:08 - loss: 0.0264 - dice_coef: 0.223 - ETA: 58s - loss: 0.0265 - dice_coef: 0.223 - ETA: 48s - loss: 0.0264 - dice_coef: 0.22 - ETA: 39s - loss: 0.0264 - dice_coef: 0.22 - ETA: 29s - loss: 0.0264 - dice_coef: 0.22 - ETA: 19s - loss: 0.0264 - dice_coef: 0.22 - ETA: 9s - loss: 0.0264 - dice_coef: 0.2220 - 3778s 11s/step - loss: 0.0264 - dice_coef: 0.2221 - val_loss: 0.0138 - val_dice_coef: 0.1854\n",
      "Epoch 5/10\n",
      "354/354 [==============================] - ETA: 58:32 - loss: 0.0179 - dice_coef: 0.23 - ETA: 56:42 - loss: 0.0284 - dice_coef: 0.28 - ETA: 55:18 - loss: 0.0226 - dice_coef: 0.28 - ETA: 54:47 - loss: 0.0188 - dice_coef: 0.22 - ETA: 54:14 - loss: 0.0241 - dice_coef: 0.22 - ETA: 54:16 - loss: 0.0232 - dice_coef: 0.23 - ETA: 54:15 - loss: 0.0226 - dice_coef: 0.22 - ETA: 54:01 - loss: 0.0245 - dice_coef: 0.21 - ETA: 53:52 - loss: 0.0262 - dice_coef: 0.20 - ETA: 53:36 - loss: 0.0252 - dice_coef: 0.20 - ETA: 53:29 - loss: 0.0266 - dice_coef: 0.21 - ETA: 53:27 - loss: 0.0258 - dice_coef: 0.22 - ETA: 53:08 - loss: 0.0254 - dice_coef: 0.22 - ETA: 53:06 - loss: 0.0274 - dice_coef: 0.23 - ETA: 52:46 - loss: 0.0270 - dice_coef: 0.24 - ETA: 52:31 - loss: 0.0270 - dice_coef: 0.23 - ETA: 52:14 - loss: 0.0268 - dice_coef: 0.23 - ETA: 52:04 - loss: 0.0262 - dice_coef: 0.24 - ETA: 51:56 - loss: 0.0258 - dice_coef: 0.24 - ETA: 51:41 - loss: 0.0256 - dice_coef: 0.24 - ETA: 51:34 - loss: 0.0252 - dice_coef: 0.23 - ETA: 51:22 - loss: 0.0245 - dice_coef: 0.23 - ETA: 51:13 - loss: 0.0244 - dice_coef: 0.23 - ETA: 51:02 - loss: 0.0245 - dice_coef: 0.23 - ETA: 50:50 - loss: 0.0240 - dice_coef: 0.23 - ETA: 50:40 - loss: 0.0244 - dice_coef: 0.23 - ETA: 50:28 - loss: 0.0242 - dice_coef: 0.23 - ETA: 50:20 - loss: 0.0241 - dice_coef: 0.23 - ETA: 50:07 - loss: 0.0243 - dice_coef: 0.24 - ETA: 49:56 - loss: 0.0238 - dice_coef: 0.23 - ETA: 49:45 - loss: 0.0246 - dice_coef: 0.23 - ETA: 49:33 - loss: 0.0246 - dice_coef: 0.23 - ETA: 49:25 - loss: 0.0247 - dice_coef: 0.23 - ETA: 49:16 - loss: 0.0252 - dice_coef: 0.23 - ETA: 49:09 - loss: 0.0256 - dice_coef: 0.24 - ETA: 49:04 - loss: 0.0253 - dice_coef: 0.23 - ETA: 48:55 - loss: 0.0252 - dice_coef: 0.24 - ETA: 48:46 - loss: 0.0261 - dice_coef: 0.23 - ETA: 48:34 - loss: 0.0258 - dice_coef: 0.24 - ETA: 48:26 - loss: 0.0258 - dice_coef: 0.23 - ETA: 48:14 - loss: 0.0255 - dice_coef: 0.23 - ETA: 48:04 - loss: 0.0254 - dice_coef: 0.23 - ETA: 47:53 - loss: 0.0259 - dice_coef: 0.23 - ETA: 47:44 - loss: 0.0256 - dice_coef: 0.23 - ETA: 47:35 - loss: 0.0255 - dice_coef: 0.23 - ETA: 47:25 - loss: 0.0256 - dice_coef: 0.23 - ETA: 47:16 - loss: 0.0255 - dice_coef: 0.23 - ETA: 47:04 - loss: 0.0253 - dice_coef: 0.22 - ETA: 46:56 - loss: 0.0256 - dice_coef: 0.22 - ETA: 46:51 - loss: 0.0262 - dice_coef: 0.22 - ETA: 46:47 - loss: 0.0261 - dice_coef: 0.23 - ETA: 46:44 - loss: 0.0258 - dice_coef: 0.22 - ETA: 46:40 - loss: 0.0263 - dice_coef: 0.22 - ETA: 46:37 - loss: 0.0268 - dice_coef: 0.22 - ETA: 46:35 - loss: 0.0270 - dice_coef: 0.22 - ETA: 46:29 - loss: 0.0268 - dice_coef: 0.22 - ETA: 46:25 - loss: 0.0266 - dice_coef: 0.22 - ETA: 46:21 - loss: 0.0266 - dice_coef: 0.22 - ETA: 46:15 - loss: 0.0264 - dice_coef: 0.22 - ETA: 46:10 - loss: 0.0262 - dice_coef: 0.22 - ETA: 46:06 - loss: 0.0261 - dice_coef: 0.22 - ETA: 46:00 - loss: 0.0262 - dice_coef: 0.22 - ETA: 45:54 - loss: 0.0263 - dice_coef: 0.22 - ETA: 45:48 - loss: 0.0260 - dice_coef: 0.22 - ETA: 45:42 - loss: 0.0261 - dice_coef: 0.22 - ETA: 45:36 - loss: 0.0259 - dice_coef: 0.22 - ETA: 45:29 - loss: 0.0256 - dice_coef: 0.22 - ETA: 45:23 - loss: 0.0256 - dice_coef: 0.22 - ETA: 45:17 - loss: 0.0256 - dice_coef: 0.22 - ETA: 45:10 - loss: 0.0254 - dice_coef: 0.22 - ETA: 45:04 - loss: 0.0253 - dice_coef: 0.22 - ETA: 44:58 - loss: 0.0252 - dice_coef: 0.22 - ETA: 44:52 - loss: 0.0251 - dice_coef: 0.22 - ETA: 44:48 - loss: 0.0249 - dice_coef: 0.22 - ETA: 44:42 - loss: 0.0249 - dice_coef: 0.22 - ETA: 44:35 - loss: 0.0252 - dice_coef: 0.22 - ETA: 44:29 - loss: 0.0257 - dice_coef: 0.22 - ETA: 44:23 - loss: 0.0256 - dice_coef: 0.22 - ETA: 44:15 - loss: 0.0254 - dice_coef: 0.22 - ETA: 44:09 - loss: 0.0255 - dice_coef: 0.22 - ETA: 44:02 - loss: 0.0254 - dice_coef: 0.22 - ETA: 43:54 - loss: 0.0254 - dice_coef: 0.22 - ETA: 43:47 - loss: 0.0255 - dice_coef: 0.22 - ETA: 43:40 - loss: 0.0254 - dice_coef: 0.22 - ETA: 43:35 - loss: 0.0253 - dice_coef: 0.22 - ETA: 43:27 - loss: 0.0254 - dice_coef: 0.22 - ETA: 43:20 - loss: 0.0256 - dice_coef: 0.22 - ETA: 43:12 - loss: 0.0254 - dice_coef: 0.22 - ETA: 43:04 - loss: 0.0254 - dice_coef: 0.22 - ETA: 42:54 - loss: 0.0252 - dice_coef: 0.22 - ETA: 42:46 - loss: 0.0251 - dice_coef: 0.22 - ETA: 42:38 - loss: 0.0252 - dice_coef: 0.22 - ETA: 42:29 - loss: 0.0250 - dice_coef: 0.22 - ETA: 42:18 - loss: 0.0250 - dice_coef: 0.22 - ETA: 42:07 - loss: 0.0252 - dice_coef: 0.22 - ETA: 41:56 - loss: 0.0252 - dice_coef: 0.23 - ETA: 41:47 - loss: 0.0252 - dice_coef: 0.22 - ETA: 41:35 - loss: 0.0252 - dice_coef: 0.22 - ETA: 41:24 - loss: 0.0251 - dice_coef: 0.22 - ETA: 41:13 - loss: 0.0253 - dice_coef: 0.22 - ETA: 41:02 - loss: 0.0252 - dice_coef: 0.22 - ETA: 40:51 - loss: 0.0251 - dice_coef: 0.23 - ETA: 40:40 - loss: 0.0251 - dice_coef: 0.23 - ETA: 40:29 - loss: 0.0254 - dice_coef: 0.23 - ETA: 40:18 - loss: 0.0255 - dice_coef: 0.23 - ETA: 40:07 - loss: 0.0257 - dice_coef: 0.23 - ETA: 39:56 - loss: 0.0257 - dice_coef: 0.23 - ETA: 39:46 - loss: 0.0259 - dice_coef: 0.23 - ETA: 39:35 - loss: 0.0259 - dice_coef: 0.23 - ETA: 39:24 - loss: 0.0258 - dice_coef: 0.22 - ETA: 39:14 - loss: 0.0257 - dice_coef: 0.23 - ETA: 39:03 - loss: 0.0257 - dice_coef: 0.22 - ETA: 38:52 - loss: 0.0255 - dice_coef: 0.22 - ETA: 38:42 - loss: 0.0256 - dice_coef: 0.22 - ETA: 38:31 - loss: 0.0255 - dice_coef: 0.22 - ETA: 38:21 - loss: 0.0254 - dice_coef: 0.22 - ETA: 38:10 - loss: 0.0255 - dice_coef: 0.22 - ETA: 38:00 - loss: 0.0255 - dice_coef: 0.22 - ETA: 37:49 - loss: 0.0254 - dice_coef: 0.22 - ETA: 37:39 - loss: 0.0253 - dice_coef: 0.22 - ETA: 37:28 - loss: 0.0252 - dice_coef: 0.23 - ETA: 37:17 - loss: 0.0252 - dice_coef: 0.23 - ETA: 37:07 - loss: 0.0251 - dice_coef: 0.23 - ETA: 36:57 - loss: 0.0252 - dice_coef: 0.23 - ETA: 36:46 - loss: 0.0252 - dice_coef: 0.23 - ETA: 36:35 - loss: 0.0254 - dice_coef: 0.23 - ETA: 36:25 - loss: 0.0253 - dice_coef: 0.23 - ETA: 36:15 - loss: 0.0253 - dice_coef: 0.23 - ETA: 36:05 - loss: 0.0254 - dice_coef: 0.23 - ETA: 35:55 - loss: 0.0253 - dice_coef: 0.23 - ETA: 35:44 - loss: 0.0255 - dice_coef: 0.23 - ETA: 35:34 - loss: 0.0254 - dice_coef: 0.23 - ETA: 35:23 - loss: 0.0255 - dice_coef: 0.23 - ETA: 35:13 - loss: 0.0255 - dice_coef: 0.23 - ETA: 35:03 - loss: 0.0255 - dice_coef: 0.23 - ETA: 34:53 - loss: 0.0254 - dice_coef: 0.23 - ETA: 34:43 - loss: 0.0253 - dice_coef: 0.22 - ETA: 34:32 - loss: 0.0253 - dice_coef: 0.22 - ETA: 34:22 - loss: 0.0253 - dice_coef: 0.22 - ETA: 34:12 - loss: 0.0253 - dice_coef: 0.22 - ETA: 34:03 - loss: 0.0253 - dice_coef: 0.22 - ETA: 33:54 - loss: 0.0253 - dice_coef: 0.22 - ETA: 33:45 - loss: 0.0252 - dice_coef: 0.22 - ETA: 33:37 - loss: 0.0252 - dice_coef: 0.22 - ETA: 33:29 - loss: 0.0252 - dice_coef: 0.22 - ETA: 33:20 - loss: 0.0253 - dice_coef: 0.22 - ETA: 33:12 - loss: 0.0252 - dice_coef: 0.23 - ETA: 33:03 - loss: 0.0252 - dice_coef: 0.22 - ETA: 32:55 - loss: 0.0254 - dice_coef: 0.22 - ETA: 32:46 - loss: 0.0254 - dice_coef: 0.22 - ETA: 32:37 - loss: 0.0255 - dice_coef: 0.22 - ETA: 32:28 - loss: 0.0254 - dice_coef: 0.22 - ETA: 32:20 - loss: 0.0256 - dice_coef: 0.22 - ETA: 32:12 - loss: 0.0256 - dice_coef: 0.22 - ETA: 32:03 - loss: 0.0256 - dice_coef: 0.22 - ETA: 31:54 - loss: 0.0255 - dice_coef: 0.22 - ETA: 31:45 - loss: 0.0255 - dice_coef: 0.22 - ETA: 31:36 - loss: 0.0255 - dice_coef: 0.22 - ETA: 31:28 - loss: 0.0254 - dice_coef: 0.22 - ETA: 31:20 - loss: 0.0255 - dice_coef: 0.22 - ETA: 31:11 - loss: 0.0254 - dice_coef: 0.22 - ETA: 31:02 - loss: 0.0254 - dice_coef: 0.22 - ETA: 30:53 - loss: 0.0255 - dice_coef: 0.22 - ETA: 30:45 - loss: 0.0254 - dice_coef: 0.22 - ETA: 30:36 - loss: 0.0255 - dice_coef: 0.22 - ETA: 30:27 - loss: 0.0254 - dice_coef: 0.22 - ETA: 30:19 - loss: 0.0254 - dice_coef: 0.22 - ETA: 30:10 - loss: 0.0254 - dice_coef: 0.22 - ETA: 30:01 - loss: 0.0254 - dice_coef: 0.22 - ETA: 29:52 - loss: 0.0257 - dice_coef: 0.22 - ETA: 29:43 - loss: 0.0256 - dice_coef: 0.22 - ETA: 29:34 - loss: 0.0256 - dice_coef: 0.22 - ETA: 29:26 - loss: 0.0256 - dice_coef: 0.22 - ETA: 29:17 - loss: 0.0255 - dice_coef: 0.22 - ETA: 29:08 - loss: 0.0255 - dice_coef: 0.22 - ETA: 28:59 - loss: 0.0255 - dice_coef: 0.22 - ETA: 28:50 - loss: 0.0254 - dice_coef: 0.22 - ETA: 28:40 - loss: 0.0254 - dice_coef: 0.22 - ETA: 28:29 - loss: 0.0253 - dice_coef: 0.22 - ETA: 28:19 - loss: 0.0253 - dice_coef: 0.22 - ETA: 28:09 - loss: 0.0254 - dice_coef: 0.22 - ETA: 27:58 - loss: 0.0254 - dice_coef: 0.22 - ETA: 27:48 - loss: 0.0253 - dice_coef: 0.22 - ETA: 27:38 - loss: 0.0253 - dice_coef: 0.22 - ETA: 27:28 - loss: 0.0253 - dice_coef: 0.22 - ETA: 27:17 - loss: 0.0254 - dice_coef: 0.22 - ETA: 27:07 - loss: 0.0253 - dice_coef: 0.22 - ETA: 26:57 - loss: 0.0253 - dice_coef: 0.22 - ETA: 26:47 - loss: 0.0255 - dice_coef: 0.22 - ETA: 26:36 - loss: 0.0254 - dice_coef: 0.22 - ETA: 26:26 - loss: 0.0255 - dice_coef: 0.22 - ETA: 26:16 - loss: 0.0255 - dice_coef: 0.22 - ETA: 26:06 - loss: 0.0255 - dice_coef: 0.22 - ETA: 25:55 - loss: 0.0257 - dice_coef: 0.22 - ETA: 25:45 - loss: 0.0257 - dice_coef: 0.22 - ETA: 25:35 - loss: 0.0257 - dice_coef: 0.22 - ETA: 25:25 - loss: 0.0257 - dice_coef: 0.23 - ETA: 25:15 - loss: 0.0258 - dice_coef: 0.23 - ETA: 25:05 - loss: 0.0257 - dice_coef: 0.22 - ETA: 24:55 - loss: 0.0257 - dice_coef: 0.23 - ETA: 24:45 - loss: 0.0258 - dice_coef: 0.23 - ETA: 24:35 - loss: 0.0259 - dice_coef: 0.22 - ETA: 24:25 - loss: 0.0259 - dice_coef: 0.22 - ETA: 24:15 - loss: 0.0260 - dice_coef: 0.22 - ETA: 24:05 - loss: 0.0260 - dice_coef: 0.23 - ETA: 23:55 - loss: 0.0260 - dice_coef: 0.23 - ETA: 23:44 - loss: 0.0259 - dice_coef: 0.23 - ETA: 23:35 - loss: 0.0260 - dice_coef: 0.23 - ETA: 23:25 - loss: 0.0260 - dice_coef: 0.23 - ETA: 23:15 - loss: 0.0259 - dice_coef: 0.23 - ETA: 23:05 - loss: 0.0259 - dice_coef: 0.23 - ETA: 22:55 - loss: 0.0259 - dice_coef: 0.23 - ETA: 22:45 - loss: 0.0259 - dice_coef: 0.23 - ETA: 22:35 - loss: 0.0260 - dice_coef: 0.23 - ETA: 22:25 - loss: 0.0260 - dice_coef: 0.23 - ETA: 22:15 - loss: 0.0260 - dice_coef: 0.22 - ETA: 22:05 - loss: 0.0260 - dice_coef: 0.22 - ETA: 21:55 - loss: 0.0261 - dice_coef: 0.22 - ETA: 21:45 - loss: 0.0261 - dice_coef: 0.22 - ETA: 21:35 - loss: 0.0260 - dice_coef: 0.22 - ETA: 21:26 - loss: 0.0260 - dice_coef: 0.22 - ETA: 21:16 - loss: 0.0260 - dice_coef: 0.22 - ETA: 21:06 - loss: 0.0259 - dice_coef: 0.22 - ETA: 20:56 - loss: 0.0259 - dice_coef: 0.22 - ETA: 20:46 - loss: 0.0258 - dice_coef: 0.22 - ETA: 20:36 - loss: 0.0258 - dice_coef: 0.22 - ETA: 20:26 - loss: 0.0257 - dice_coef: 0.22 - ETA: 20:16 - loss: 0.0257 - dice_coef: 0.22 - ETA: 20:07 - loss: 0.0256 - dice_coef: 0.22 - ETA: 19:57 - loss: 0.0257 - dice_coef: 0.22 - ETA: 19:47 - loss: 0.0257 - dice_coef: 0.22 - ETA: 19:37 - loss: 0.0257 - dice_coef: 0.22 - ETA: 19:27 - loss: 0.0257 - dice_coef: 0.22 - ETA: 19:18 - loss: 0.0256 - dice_coef: 0.22 - ETA: 19:09 - loss: 0.0256 - dice_coef: 0.22 - ETA: 19:00 - loss: 0.0256 - dice_coef: 0.22 - ETA: 18:50 - loss: 0.0256 - dice_coef: 0.22 - ETA: 18:41 - loss: 0.0257 - dice_coef: 0.22 - ETA: 18:32 - loss: 0.0257 - dice_coef: 0.22 - ETA: 18:23 - loss: 0.0256 - dice_coef: 0.22 - ETA: 18:13 - loss: 0.0256 - dice_coef: 0.22 - ETA: 18:04 - loss: 0.0256 - dice_coef: 0.22 - ETA: 17:55 - loss: 0.0256 - dice_coef: 0.22 - ETA: 17:45 - loss: 0.0256 - dice_coef: 0.22 - ETA: 17:36 - loss: 0.0257 - dice_coef: 0.22 - ETA: 17:27 - loss: 0.0257 - dice_coef: 0.22 - ETA: 17:17 - loss: 0.0258 - dice_coef: 0.22 - ETA: 17:08 - loss: 0.0259 - dice_coef: 0.22 - ETA: 16:58 - loss: 0.0259 - dice_coef: 0.22 - ETA: 16:49 - loss: 0.0261 - dice_coef: 0.22 - ETA: 16:40 - loss: 0.0261 - dice_coef: 0.22 - ETA: 16:30 - loss: 0.0261 - dice_coef: 0.22 - ETA: 16:21 - loss: 0.0261 - dice_coef: 0.22 - ETA: 16:12 - loss: 0.0263 - dice_coef: 0.22 - ETA: 16:02 - loss: 0.0263 - dice_coef: 0.22 - ETA: 15:53 - loss: 0.0263 - dice_coef: 0.22 - ETA: 15:44 - loss: 0.0263 - dice_coef: 0.22 - ETA: 15:34 - loss: 0.0263 - dice_coef: 0.22 - ETA: 15:25 - loss: 0.0264 - dice_coef: 0.22 - ETA: 15:16 - loss: 0.0265 - dice_coef: 0.22 - ETA: 15:06 - loss: 0.0265 - dice_coef: 0.22 - ETA: 14:57 - loss: 0.0266 - dice_coef: 0.22 - ETA: 14:47 - loss: 0.0265 - dice_coef: 0.22 - ETA: 14:38 - loss: 0.0265 - dice_coef: 0.22 - ETA: 14:28 - loss: 0.0266 - dice_coef: 0.22 - ETA: 14:19 - loss: 0.0266 - dice_coef: 0.22 - ETA: 14:09 - loss: 0.0266 - dice_coef: 0.22 - ETA: 14:00 - loss: 0.0268 - dice_coef: 0.22 - ETA: 13:51 - loss: 0.0268 - dice_coef: 0.22 - ETA: 13:41 - loss: 0.0268 - dice_coef: 0.22 - ETA: 13:31 - loss: 0.0267 - dice_coef: 0.22 - ETA: 13:22 - loss: 0.0267 - dice_coef: 0.22 - ETA: 13:12 - loss: 0.0267 - dice_coef: 0.22 - ETA: 13:02 - loss: 0.0267 - dice_coef: 0.22 - ETA: 12:53 - loss: 0.0267 - dice_coef: 0.22 - ETA: 12:43 - loss: 0.0267 - dice_coef: 0.22 - ETA: 12:33 - loss: 0.0267 - dice_coef: 0.22 - ETA: 12:23 - loss: 0.0267 - dice_coef: 0.22 - ETA: 12:13 - loss: 0.0268 - dice_coef: 0.22 - ETA: 12:03 - loss: 0.0268 - dice_coef: 0.22 - ETA: 11:53 - loss: 0.0268 - dice_coef: 0.22 - ETA: 11:43 - loss: 0.0268 - dice_coef: 0.22 - ETA: 11:34 - loss: 0.0267 - dice_coef: 0.22 - ETA: 11:24 - loss: 0.0267 - dice_coef: 0.22 - ETA: 11:14 - loss: 0.0267 - dice_coef: 0.22 - ETA: 11:04 - loss: 0.0267 - dice_coef: 0.22 - ETA: 10:54 - loss: 0.0267 - dice_coef: 0.22 - ETA: 10:44 - loss: 0.0267 - dice_coef: 0.22 - ETA: 10:34 - loss: 0.0266 - dice_coef: 0.22 - ETA: 10:24 - loss: 0.0266 - dice_coef: 0.22 - ETA: 10:14 - loss: 0.0266 - dice_coef: 0.22 - ETA: 10:05 - loss: 0.0266 - dice_coef: 0.22 - ETA: 9:55 - loss: 0.0265 - dice_coef: 0.2240 - ETA: 9:45 - loss: 0.0265 - dice_coef: 0.223 - ETA: 9:35 - loss: 0.0265 - dice_coef: 0.223 - ETA: 9:25 - loss: 0.0265 - dice_coef: 0.223 - ETA: 9:15 - loss: 0.0265 - dice_coef: 0.224 - ETA: 9:05 - loss: 0.0265 - dice_coef: 0.224 - ETA: 8:56 - loss: 0.0264 - dice_coef: 0.223 - ETA: 8:46 - loss: 0.0265 - dice_coef: 0.223 - ETA: 8:36 - loss: 0.0265 - dice_coef: 0.223 - ETA: 8:26 - loss: 0.0265 - dice_coef: 0.223 - ETA: 8:17 - loss: 0.0265 - dice_coef: 0.223 - ETA: 8:07 - loss: 0.0265 - dice_coef: 0.223 - ETA: 7:57 - loss: 0.0265 - dice_coef: 0.223 - ETA: 7:47 - loss: 0.0265 - dice_coef: 0.223 - ETA: 7:37 - loss: 0.0265 - dice_coef: 0.224 - ETA: 7:27 - loss: 0.0265 - dice_coef: 0.224 - ETA: 7:18 - loss: 0.0265 - dice_coef: 0.224 - ETA: 7:08 - loss: 0.0265 - dice_coef: 0.225 - ETA: 6:58 - loss: 0.0265 - dice_coef: 0.224 - ETA: 6:48 - loss: 0.0264 - dice_coef: 0.225 - ETA: 6:38 - loss: 0.0264 - dice_coef: 0.225 - ETA: 6:29 - loss: 0.0264 - dice_coef: 0.225 - ETA: 6:19 - loss: 0.0264 - dice_coef: 0.226 - ETA: 6:09 - loss: 0.0264 - dice_coef: 0.225 - ETA: 5:59 - loss: 0.0264 - dice_coef: 0.225 - ETA: 5:50 - loss: 0.0264 - dice_coef: 0.226 - ETA: 5:40 - loss: 0.0264 - dice_coef: 0.226 - ETA: 5:30 - loss: 0.0264 - dice_coef: 0.225 - ETA: 5:20 - loss: 0.0263 - dice_coef: 0.225 - ETA: 5:10 - loss: 0.0263 - dice_coef: 0.225 - ETA: 5:01 - loss: 0.0262 - dice_coef: 0.225 - ETA: 4:51 - loss: 0.0262 - dice_coef: 0.224 - ETA: 4:41 - loss: 0.0262 - dice_coef: 0.224 - ETA: 4:32 - loss: 0.0262 - dice_coef: 0.224 - ETA: 4:22 - loss: 0.0261 - dice_coef: 0.224 - ETA: 4:12 - loss: 0.0261 - dice_coef: 0.224 - ETA: 4:03 - loss: 0.0261 - dice_coef: 0.225 - ETA: 3:53 - loss: 0.0262 - dice_coef: 0.224 - ETA: 3:43 - loss: 0.0262 - dice_coef: 0.225 - ETA: 3:34 - loss: 0.0262 - dice_coef: 0.224 - ETA: 3:24 - loss: 0.0262 - dice_coef: 0.225 - ETA: 3:14 - loss: 0.0262 - dice_coef: 0.224 - ETA: 3:05 - loss: 0.0262 - dice_coef: 0.224 - ETA: 2:55 - loss: 0.0262 - dice_coef: 0.224 - ETA: 2:45 - loss: 0.0262 - dice_coef: 0.224 - ETA: 2:35 - loss: 0.0262 - dice_coef: 0.224 - ETA: 2:26 - loss: 0.0262 - dice_coef: 0.224 - ETA: 2:16 - loss: 0.0262 - dice_coef: 0.223 - ETA: 2:06 - loss: 0.0262 - dice_coef: 0.223 - ETA: 1:57 - loss: 0.0264 - dice_coef: 0.223 - ETA: 1:47 - loss: 0.0264 - dice_coef: 0.223 - ETA: 1:37 - loss: 0.0264 - dice_coef: 0.223 - ETA: 1:27 - loss: 0.0264 - dice_coef: 0.224 - ETA: 1:18 - loss: 0.0264 - dice_coef: 0.224 - ETA: 1:08 - loss: 0.0264 - dice_coef: 0.224 - ETA: 58s - loss: 0.0265 - dice_coef: 0.224 - ETA: 48s - loss: 0.0264 - dice_coef: 0.22 - ETA: 39s - loss: 0.0264 - dice_coef: 0.22 - ETA: 29s - loss: 0.0264 - dice_coef: 0.22 - ETA: 19s - loss: 0.0264 - dice_coef: 0.22 - ETA: 9s - loss: 0.0264 - dice_coef: 0.2235 - 3752s 11s/step - loss: 0.0264 - dice_coef: 0.2234 - val_loss: 0.0133 - val_dice_coef: 0.2139\n",
      "Epoch 6/10\n",
      "354/354 [==============================] - ETA: 1:01:45 - loss: 0.0270 - dice_coef: 0.22 - ETA: 57:17 - loss: 0.0251 - dice_coef: 0.2902 - ETA: 55:45 - loss: 0.0220 - dice_coef: 0.22 - ETA: 55:01 - loss: 0.0228 - dice_coef: 0.21 - ETA: 54:53 - loss: 0.0248 - dice_coef: 0.21 - ETA: 54:56 - loss: 0.0283 - dice_coef: 0.22 - ETA: 54:50 - loss: 0.0271 - dice_coef: 0.23 - ETA: 54:37 - loss: 0.0267 - dice_coef: 0.22 - ETA: 54:20 - loss: 0.0251 - dice_coef: 0.21 - ETA: 54:11 - loss: 0.0270 - dice_coef: 0.23 - ETA: 54:22 - loss: 0.0279 - dice_coef: 0.24 - ETA: 54:00 - loss: 0.0274 - dice_coef: 0.23 - ETA: 53:48 - loss: 0.0276 - dice_coef: 0.22 - ETA: 53:25 - loss: 0.0266 - dice_coef: 0.22 - ETA: 53:09 - loss: 0.0263 - dice_coef: 0.23 - ETA: 52:58 - loss: 0.0269 - dice_coef: 0.22 - ETA: 52:45 - loss: 0.0283 - dice_coef: 0.23 - ETA: 52:40 - loss: 0.0288 - dice_coef: 0.23 - ETA: 52:29 - loss: 0.0293 - dice_coef: 0.22 - ETA: 52:26 - loss: 0.0291 - dice_coef: 0.23 - ETA: 52:27 - loss: 0.0285 - dice_coef: 0.24 - ETA: 52:26 - loss: 0.0294 - dice_coef: 0.24 - ETA: 52:20 - loss: 0.0298 - dice_coef: 0.24 - ETA: 52:05 - loss: 0.0297 - dice_coef: 0.23 - ETA: 51:50 - loss: 0.0294 - dice_coef: 0.23 - ETA: 51:35 - loss: 0.0294 - dice_coef: 0.24 - ETA: 51:23 - loss: 0.0291 - dice_coef: 0.24 - ETA: 51:14 - loss: 0.0284 - dice_coef: 0.23 - ETA: 51:00 - loss: 0.0287 - dice_coef: 0.23 - ETA: 50:54 - loss: 0.0289 - dice_coef: 0.23 - ETA: 50:43 - loss: 0.0288 - dice_coef: 0.23 - ETA: 50:37 - loss: 0.0287 - dice_coef: 0.23 - ETA: 50:32 - loss: 0.0287 - dice_coef: 0.23 - ETA: 50:29 - loss: 0.0282 - dice_coef: 0.23 - ETA: 50:25 - loss: 0.0279 - dice_coef: 0.23 - ETA: 50:21 - loss: 0.0278 - dice_coef: 0.23 - ETA: 50:16 - loss: 0.0275 - dice_coef: 0.22 - ETA: 50:13 - loss: 0.0272 - dice_coef: 0.22 - ETA: 50:10 - loss: 0.0269 - dice_coef: 0.22 - ETA: 50:09 - loss: 0.0269 - dice_coef: 0.22 - ETA: 50:08 - loss: 0.0268 - dice_coef: 0.21 - ETA: 50:06 - loss: 0.0264 - dice_coef: 0.21 - ETA: 50:02 - loss: 0.0262 - dice_coef: 0.21 - ETA: 50:01 - loss: 0.0257 - dice_coef: 0.21 - ETA: 49:55 - loss: 0.0260 - dice_coef: 0.21 - ETA: 49:48 - loss: 0.0262 - dice_coef: 0.21 - ETA: 49:44 - loss: 0.0262 - dice_coef: 0.21 - ETA: 49:34 - loss: 0.0261 - dice_coef: 0.21 - ETA: 49:28 - loss: 0.0261 - dice_coef: 0.21 - ETA: 49:21 - loss: 0.0266 - dice_coef: 0.21 - ETA: 49:11 - loss: 0.0263 - dice_coef: 0.21 - ETA: 49:04 - loss: 0.0262 - dice_coef: 0.21 - ETA: 48:56 - loss: 0.0261 - dice_coef: 0.21 - ETA: 48:50 - loss: 0.0262 - dice_coef: 0.21 - ETA: 48:43 - loss: 0.0262 - dice_coef: 0.21 - ETA: 48:34 - loss: 0.0260 - dice_coef: 0.22 - ETA: 48:25 - loss: 0.0259 - dice_coef: 0.22 - ETA: 48:19 - loss: 0.0256 - dice_coef: 0.22 - ETA: 48:13 - loss: 0.0256 - dice_coef: 0.22 - ETA: 48:06 - loss: 0.0254 - dice_coef: 0.22 - ETA: 47:59 - loss: 0.0252 - dice_coef: 0.22 - ETA: 47:51 - loss: 0.0250 - dice_coef: 0.22 - ETA: 47:44 - loss: 0.0251 - dice_coef: 0.22 - ETA: 47:36 - loss: 0.0253 - dice_coef: 0.22 - ETA: 47:29 - loss: 0.0258 - dice_coef: 0.22 - ETA: 47:22 - loss: 0.0259 - dice_coef: 0.22 - ETA: 47:13 - loss: 0.0262 - dice_coef: 0.22 - ETA: 47:07 - loss: 0.0261 - dice_coef: 0.22 - ETA: 47:01 - loss: 0.0261 - dice_coef: 0.22 - ETA: 46:52 - loss: 0.0266 - dice_coef: 0.22 - ETA: 46:45 - loss: 0.0271 - dice_coef: 0.22 - ETA: 46:37 - loss: 0.0272 - dice_coef: 0.22 - ETA: 46:28 - loss: 0.0272 - dice_coef: 0.22 - ETA: 46:19 - loss: 0.0271 - dice_coef: 0.22 - ETA: 46:12 - loss: 0.0271 - dice_coef: 0.22 - ETA: 46:02 - loss: 0.0270 - dice_coef: 0.22 - ETA: 45:53 - loss: 0.0270 - dice_coef: 0.22 - ETA: 45:45 - loss: 0.0267 - dice_coef: 0.22 - ETA: 45:36 - loss: 0.0266 - dice_coef: 0.22 - ETA: 45:27 - loss: 0.0268 - dice_coef: 0.22 - ETA: 45:18 - loss: 0.0267 - dice_coef: 0.22 - ETA: 45:12 - loss: 0.0266 - dice_coef: 0.22 - ETA: 45:05 - loss: 0.0273 - dice_coef: 0.22 - ETA: 44:56 - loss: 0.0273 - dice_coef: 0.23 - ETA: 44:47 - loss: 0.0271 - dice_coef: 0.22 - ETA: 44:37 - loss: 0.0271 - dice_coef: 0.23 - ETA: 44:26 - loss: 0.0271 - dice_coef: 0.22 - ETA: 44:16 - loss: 0.0273 - dice_coef: 0.23 - ETA: 44:06 - loss: 0.0274 - dice_coef: 0.23 - ETA: 43:56 - loss: 0.0272 - dice_coef: 0.23 - ETA: 43:47 - loss: 0.0275 - dice_coef: 0.22 - ETA: 43:38 - loss: 0.0277 - dice_coef: 0.22 - ETA: 43:26 - loss: 0.0275 - dice_coef: 0.22 - ETA: 43:14 - loss: 0.0275 - dice_coef: 0.22 - ETA: 43:03 - loss: 0.0275 - dice_coef: 0.22 - ETA: 42:51 - loss: 0.0277 - dice_coef: 0.23 - ETA: 42:39 - loss: 0.0277 - dice_coef: 0.23 - ETA: 42:27 - loss: 0.0275 - dice_coef: 0.22 - ETA: 42:15 - loss: 0.0275 - dice_coef: 0.22 - ETA: 42:03 - loss: 0.0275 - dice_coef: 0.23 - ETA: 41:52 - loss: 0.0274 - dice_coef: 0.23 - ETA: 41:40 - loss: 0.0274 - dice_coef: 0.23 - ETA: 41:28 - loss: 0.0273 - dice_coef: 0.23 - ETA: 41:16 - loss: 0.0271 - dice_coef: 0.23 - ETA: 41:04 - loss: 0.0274 - dice_coef: 0.23 - ETA: 40:53 - loss: 0.0273 - dice_coef: 0.23 - ETA: 40:41 - loss: 0.0272 - dice_coef: 0.23 - ETA: 40:31 - loss: 0.0271 - dice_coef: 0.23 - ETA: 40:19 - loss: 0.0270 - dice_coef: 0.23 - ETA: 40:08 - loss: 0.0271 - dice_coef: 0.23 - ETA: 39:56 - loss: 0.0272 - dice_coef: 0.23 - ETA: 39:45 - loss: 0.0271 - dice_coef: 0.23 - ETA: 39:34 - loss: 0.0272 - dice_coef: 0.23 - ETA: 39:22 - loss: 0.0271 - dice_coef: 0.23 - ETA: 39:12 - loss: 0.0269 - dice_coef: 0.23 - ETA: 39:00 - loss: 0.0272 - dice_coef: 0.23 - ETA: 38:49 - loss: 0.0272 - dice_coef: 0.23 - ETA: 38:38 - loss: 0.0272 - dice_coef: 0.23 - ETA: 38:27 - loss: 0.0272 - dice_coef: 0.23 - ETA: 38:16 - loss: 0.0272 - dice_coef: 0.23 - ETA: 38:05 - loss: 0.0271 - dice_coef: 0.23 - ETA: 37:54 - loss: 0.0270 - dice_coef: 0.23 - ETA: 37:45 - loss: 0.0270 - dice_coef: 0.23 - ETA: 37:36 - loss: 0.0270 - dice_coef: 0.23 - ETA: 37:28 - loss: 0.0268 - dice_coef: 0.23 - ETA: 37:18 - loss: 0.0269 - dice_coef: 0.23 - ETA: 37:10 - loss: 0.0268 - dice_coef: 0.23 - ETA: 37:02 - loss: 0.0266 - dice_coef: 0.23 - ETA: 36:53 - loss: 0.0265 - dice_coef: 0.23 - ETA: 36:44 - loss: 0.0264 - dice_coef: 0.23 - ETA: 36:35 - loss: 0.0263 - dice_coef: 0.23 - ETA: 36:26 - loss: 0.0263 - dice_coef: 0.23 - ETA: 36:17 - loss: 0.0262 - dice_coef: 0.23 - ETA: 36:08 - loss: 0.0263 - dice_coef: 0.23 - ETA: 35:59 - loss: 0.0266 - dice_coef: 0.23 - ETA: 35:49 - loss: 0.0268 - dice_coef: 0.23 - ETA: 35:41 - loss: 0.0268 - dice_coef: 0.23 - ETA: 35:31 - loss: 0.0268 - dice_coef: 0.22 - ETA: 35:22 - loss: 0.0267 - dice_coef: 0.23 - ETA: 35:14 - loss: 0.0267 - dice_coef: 0.23 - ETA: 35:04 - loss: 0.0267 - dice_coef: 0.23 - ETA: 34:55 - loss: 0.0267 - dice_coef: 0.23 - ETA: 34:46 - loss: 0.0269 - dice_coef: 0.23 - ETA: 34:37 - loss: 0.0267 - dice_coef: 0.22 - ETA: 34:29 - loss: 0.0267 - dice_coef: 0.22 - ETA: 34:19 - loss: 0.0267 - dice_coef: 0.22 - ETA: 34:10 - loss: 0.0267 - dice_coef: 0.22 - ETA: 34:01 - loss: 0.0266 - dice_coef: 0.22 - ETA: 33:51 - loss: 0.0267 - dice_coef: 0.22 - ETA: 33:43 - loss: 0.0268 - dice_coef: 0.22 - ETA: 33:34 - loss: 0.0267 - dice_coef: 0.22 - ETA: 33:24 - loss: 0.0268 - dice_coef: 0.22 - ETA: 33:15 - loss: 0.0267 - dice_coef: 0.22 - ETA: 33:06 - loss: 0.0270 - dice_coef: 0.22 - ETA: 32:57 - loss: 0.0269 - dice_coef: 0.22 - ETA: 32:48 - loss: 0.0269 - dice_coef: 0.22 - ETA: 32:40 - loss: 0.0269 - dice_coef: 0.22 - ETA: 32:31 - loss: 0.0269 - dice_coef: 0.22 - ETA: 32:22 - loss: 0.0271 - dice_coef: 0.22 - ETA: 32:13 - loss: 0.0272 - dice_coef: 0.22 - ETA: 32:03 - loss: 0.0271 - dice_coef: 0.22 - ETA: 31:53 - loss: 0.0270 - dice_coef: 0.22 - ETA: 31:44 - loss: 0.0270 - dice_coef: 0.22 - ETA: 31:34 - loss: 0.0270 - dice_coef: 0.22 - ETA: 31:24 - loss: 0.0270 - dice_coef: 0.22 - ETA: 31:14 - loss: 0.0269 - dice_coef: 0.22 - ETA: 31:03 - loss: 0.0270 - dice_coef: 0.22 - ETA: 30:52 - loss: 0.0270 - dice_coef: 0.22 - ETA: 30:41 - loss: 0.0271 - dice_coef: 0.23 - ETA: 30:30 - loss: 0.0270 - dice_coef: 0.23 - ETA: 30:19 - loss: 0.0269 - dice_coef: 0.22 - ETA: 30:09 - loss: 0.0269 - dice_coef: 0.23 - ETA: 29:58 - loss: 0.0269 - dice_coef: 0.23 - ETA: 29:47 - loss: 0.0272 - dice_coef: 0.23 - ETA: 29:37 - loss: 0.0272 - dice_coef: 0.23 - ETA: 29:26 - loss: 0.0273 - dice_coef: 0.23 - ETA: 29:15 - loss: 0.0272 - dice_coef: 0.22 - ETA: 29:05 - loss: 0.0273 - dice_coef: 0.23 - ETA: 28:54 - loss: 0.0272 - dice_coef: 0.22 - ETA: 28:43 - loss: 0.0272 - dice_coef: 0.22 - ETA: 28:33 - loss: 0.0271 - dice_coef: 0.22 - ETA: 28:22 - loss: 0.0271 - dice_coef: 0.22 - ETA: 28:11 - loss: 0.0271 - dice_coef: 0.22 - ETA: 28:01 - loss: 0.0272 - dice_coef: 0.22 - ETA: 27:50 - loss: 0.0271 - dice_coef: 0.22 - ETA: 27:40 - loss: 0.0271 - dice_coef: 0.22 - ETA: 27:29 - loss: 0.0270 - dice_coef: 0.23 - ETA: 27:19 - loss: 0.0270 - dice_coef: 0.23 - ETA: 27:09 - loss: 0.0271 - dice_coef: 0.23 - ETA: 26:58 - loss: 0.0271 - dice_coef: 0.23 - ETA: 26:48 - loss: 0.0272 - dice_coef: 0.23 - ETA: 26:37 - loss: 0.0272 - dice_coef: 0.23 - ETA: 26:27 - loss: 0.0274 - dice_coef: 0.23 - ETA: 26:17 - loss: 0.0274 - dice_coef: 0.23 - ETA: 26:06 - loss: 0.0274 - dice_coef: 0.23 - ETA: 25:56 - loss: 0.0274 - dice_coef: 0.23 - ETA: 25:46 - loss: 0.0274 - dice_coef: 0.23 - ETA: 25:35 - loss: 0.0274 - dice_coef: 0.23 - ETA: 25:25 - loss: 0.0274 - dice_coef: 0.23 - ETA: 25:14 - loss: 0.0274 - dice_coef: 0.22 - ETA: 25:04 - loss: 0.0273 - dice_coef: 0.22 - ETA: 24:54 - loss: 0.0275 - dice_coef: 0.22 - ETA: 24:43 - loss: 0.0275 - dice_coef: 0.22 - ETA: 24:33 - loss: 0.0274 - dice_coef: 0.22 - ETA: 24:23 - loss: 0.0274 - dice_coef: 0.22 - ETA: 24:12 - loss: 0.0274 - dice_coef: 0.22 - ETA: 24:02 - loss: 0.0274 - dice_coef: 0.22 - ETA: 23:52 - loss: 0.0273 - dice_coef: 0.22 - ETA: 23:42 - loss: 0.0274 - dice_coef: 0.22 - ETA: 23:32 - loss: 0.0273 - dice_coef: 0.22 - ETA: 23:22 - loss: 0.0273 - dice_coef: 0.22 - ETA: 23:11 - loss: 0.0272 - dice_coef: 0.22 - ETA: 23:01 - loss: 0.0272 - dice_coef: 0.22 - ETA: 22:51 - loss: 0.0272 - dice_coef: 0.22 - ETA: 22:42 - loss: 0.0271 - dice_coef: 0.22 - ETA: 22:32 - loss: 0.0271 - dice_coef: 0.22 - ETA: 22:23 - loss: 0.0270 - dice_coef: 0.22 - ETA: 22:13 - loss: 0.0270 - dice_coef: 0.22 - ETA: 22:04 - loss: 0.0270 - dice_coef: 0.22 - ETA: 21:55 - loss: 0.0271 - dice_coef: 0.22 - ETA: 21:45 - loss: 0.0270 - dice_coef: 0.22 - ETA: 21:36 - loss: 0.0270 - dice_coef: 0.22 - ETA: 21:26 - loss: 0.0270 - dice_coef: 0.22 - ETA: 21:17 - loss: 0.0269 - dice_coef: 0.22 - ETA: 21:07 - loss: 0.0268 - dice_coef: 0.22 - ETA: 20:58 - loss: 0.0268 - dice_coef: 0.22 - ETA: 20:48 - loss: 0.0268 - dice_coef: 0.22 - ETA: 20:39 - loss: 0.0268 - dice_coef: 0.22 - ETA: 20:29 - loss: 0.0269 - dice_coef: 0.22 - ETA: 20:20 - loss: 0.0268 - dice_coef: 0.22 - ETA: 20:10 - loss: 0.0268 - dice_coef: 0.22 - ETA: 20:01 - loss: 0.0268 - dice_coef: 0.22 - ETA: 19:51 - loss: 0.0268 - dice_coef: 0.22 - ETA: 19:41 - loss: 0.0267 - dice_coef: 0.22 - ETA: 19:32 - loss: 0.0267 - dice_coef: 0.22 - ETA: 19:22 - loss: 0.0267 - dice_coef: 0.22 - ETA: 19:12 - loss: 0.0268 - dice_coef: 0.22 - ETA: 19:03 - loss: 0.0268 - dice_coef: 0.22 - ETA: 18:53 - loss: 0.0268 - dice_coef: 0.22 - ETA: 18:44 - loss: 0.0269 - dice_coef: 0.22 - ETA: 18:34 - loss: 0.0269 - dice_coef: 0.22 - ETA: 18:25 - loss: 0.0269 - dice_coef: 0.22 - ETA: 18:15 - loss: 0.0270 - dice_coef: 0.22 - ETA: 18:05 - loss: 0.0269 - dice_coef: 0.22 - ETA: 17:56 - loss: 0.0269 - dice_coef: 0.22 - ETA: 17:46 - loss: 0.0269 - dice_coef: 0.22 - ETA: 17:36 - loss: 0.0269 - dice_coef: 0.22 - ETA: 17:27 - loss: 0.0269 - dice_coef: 0.22 - ETA: 17:17 - loss: 0.0269 - dice_coef: 0.22 - ETA: 17:09 - loss: 0.0268 - dice_coef: 0.22 - ETA: 16:59 - loss: 0.0268 - dice_coef: 0.22 - ETA: 16:50 - loss: 0.0268 - dice_coef: 0.22 - ETA: 16:40 - loss: 0.0268 - dice_coef: 0.22 - ETA: 16:30 - loss: 0.0267 - dice_coef: 0.22 - ETA: 16:20 - loss: 0.0267 - dice_coef: 0.22 - ETA: 16:11 - loss: 0.0267 - dice_coef: 0.22 - ETA: 16:00 - loss: 0.0266 - dice_coef: 0.22 - ETA: 15:50 - loss: 0.0266 - dice_coef: 0.22 - ETA: 15:40 - loss: 0.0265 - dice_coef: 0.22 - ETA: 15:30 - loss: 0.0265 - dice_coef: 0.22 - ETA: 15:20 - loss: 0.0265 - dice_coef: 0.22 - ETA: 15:09 - loss: 0.0265 - dice_coef: 0.22 - ETA: 14:59 - loss: 0.0265 - dice_coef: 0.22 - ETA: 14:49 - loss: 0.0265 - dice_coef: 0.22 - ETA: 14:39 - loss: 0.0265 - dice_coef: 0.22 - ETA: 14:29 - loss: 0.0264 - dice_coef: 0.22 - ETA: 14:19 - loss: 0.0264 - dice_coef: 0.22 - ETA: 14:09 - loss: 0.0264 - dice_coef: 0.22 - ETA: 13:59 - loss: 0.0264 - dice_coef: 0.22 - ETA: 13:49 - loss: 0.0264 - dice_coef: 0.22 - ETA: 13:39 - loss: 0.0264 - dice_coef: 0.22 - ETA: 13:29 - loss: 0.0264 - dice_coef: 0.22 - ETA: 13:19 - loss: 0.0264 - dice_coef: 0.22 - ETA: 13:09 - loss: 0.0264 - dice_coef: 0.22 - ETA: 12:59 - loss: 0.0264 - dice_coef: 0.22 - ETA: 12:49 - loss: 0.0264 - dice_coef: 0.22 - ETA: 12:39 - loss: 0.0264 - dice_coef: 0.22 - ETA: 12:28 - loss: 0.0263 - dice_coef: 0.22 - ETA: 12:18 - loss: 0.0264 - dice_coef: 0.22 - ETA: 12:08 - loss: 0.0264 - dice_coef: 0.22 - ETA: 11:58 - loss: 0.0264 - dice_coef: 0.22 - ETA: 11:48 - loss: 0.0263 - dice_coef: 0.22 - ETA: 11:38 - loss: 0.0263 - dice_coef: 0.22 - ETA: 11:28 - loss: 0.0263 - dice_coef: 0.22 - ETA: 11:18 - loss: 0.0262 - dice_coef: 0.22 - ETA: 11:08 - loss: 0.0262 - dice_coef: 0.22 - ETA: 10:58 - loss: 0.0262 - dice_coef: 0.22 - ETA: 10:48 - loss: 0.0263 - dice_coef: 0.22 - ETA: 10:39 - loss: 0.0263 - dice_coef: 0.22 - ETA: 10:28 - loss: 0.0262 - dice_coef: 0.22 - ETA: 10:19 - loss: 0.0262 - dice_coef: 0.22 - ETA: 10:09 - loss: 0.0262 - dice_coef: 0.22 - ETA: 9:59 - loss: 0.0262 - dice_coef: 0.2255 - ETA: 9:49 - loss: 0.0262 - dice_coef: 0.225 - ETA: 9:39 - loss: 0.0262 - dice_coef: 0.225 - ETA: 9:29 - loss: 0.0263 - dice_coef: 0.225 - ETA: 9:19 - loss: 0.0265 - dice_coef: 0.224 - ETA: 9:09 - loss: 0.0265 - dice_coef: 0.224 - ETA: 8:59 - loss: 0.0265 - dice_coef: 0.224 - ETA: 8:49 - loss: 0.0264 - dice_coef: 0.224 - ETA: 8:39 - loss: 0.0265 - dice_coef: 0.224 - ETA: 8:29 - loss: 0.0265 - dice_coef: 0.224 - ETA: 8:19 - loss: 0.0265 - dice_coef: 0.224 - ETA: 8:09 - loss: 0.0264 - dice_coef: 0.223 - ETA: 8:00 - loss: 0.0264 - dice_coef: 0.223 - ETA: 7:50 - loss: 0.0263 - dice_coef: 0.223 - ETA: 7:40 - loss: 0.0263 - dice_coef: 0.223 - ETA: 7:31 - loss: 0.0264 - dice_coef: 0.224 - ETA: 7:21 - loss: 0.0264 - dice_coef: 0.224 - ETA: 7:11 - loss: 0.0264 - dice_coef: 0.224 - ETA: 7:01 - loss: 0.0264 - dice_coef: 0.224 - ETA: 6:52 - loss: 0.0264 - dice_coef: 0.223 - ETA: 6:42 - loss: 0.0264 - dice_coef: 0.223 - ETA: 6:32 - loss: 0.0264 - dice_coef: 0.224 - ETA: 6:22 - loss: 0.0263 - dice_coef: 0.224 - ETA: 6:13 - loss: 0.0264 - dice_coef: 0.224 - ETA: 6:03 - loss: 0.0263 - dice_coef: 0.224 - ETA: 5:53 - loss: 0.0263 - dice_coef: 0.224 - ETA: 5:43 - loss: 0.0263 - dice_coef: 0.224 - ETA: 5:34 - loss: 0.0263 - dice_coef: 0.224 - ETA: 5:24 - loss: 0.0263 - dice_coef: 0.223 - ETA: 5:14 - loss: 0.0262 - dice_coef: 0.223 - ETA: 5:04 - loss: 0.0263 - dice_coef: 0.224 - ETA: 4:55 - loss: 0.0262 - dice_coef: 0.224 - ETA: 4:45 - loss: 0.0264 - dice_coef: 0.224 - ETA: 4:35 - loss: 0.0265 - dice_coef: 0.224 - ETA: 4:25 - loss: 0.0264 - dice_coef: 0.224 - ETA: 4:15 - loss: 0.0264 - dice_coef: 0.224 - ETA: 4:06 - loss: 0.0265 - dice_coef: 0.223 - ETA: 3:56 - loss: 0.0264 - dice_coef: 0.223 - ETA: 3:46 - loss: 0.0264 - dice_coef: 0.223 - ETA: 3:36 - loss: 0.0264 - dice_coef: 0.222 - ETA: 3:26 - loss: 0.0264 - dice_coef: 0.223 - ETA: 3:17 - loss: 0.0264 - dice_coef: 0.223 - ETA: 3:07 - loss: 0.0264 - dice_coef: 0.223 - ETA: 2:57 - loss: 0.0264 - dice_coef: 0.223 - ETA: 2:47 - loss: 0.0264 - dice_coef: 0.223 - ETA: 2:37 - loss: 0.0264 - dice_coef: 0.223 - ETA: 2:28 - loss: 0.0264 - dice_coef: 0.223 - ETA: 2:18 - loss: 0.0264 - dice_coef: 0.223 - ETA: 2:08 - loss: 0.0264 - dice_coef: 0.223 - ETA: 1:58 - loss: 0.0264 - dice_coef: 0.224 - ETA: 1:48 - loss: 0.0264 - dice_coef: 0.224 - ETA: 1:38 - loss: 0.0264 - dice_coef: 0.224 - ETA: 1:28 - loss: 0.0264 - dice_coef: 0.223 - ETA: 1:19 - loss: 0.0263 - dice_coef: 0.223 - ETA: 1:09 - loss: 0.0263 - dice_coef: 0.223 - ETA: 59s - loss: 0.0264 - dice_coef: 0.222 - ETA: 49s - loss: 0.0263 - dice_coef: 0.22 - ETA: 39s - loss: 0.0263 - dice_coef: 0.22 - ETA: 29s - loss: 0.0263 - dice_coef: 0.22 - ETA: 19s - loss: 0.0264 - dice_coef: 0.22 - ETA: 9s - loss: 0.0263 - dice_coef: 0.2226 - 3792s 11s/step - loss: 0.0265 - dice_coef: 0.2229 - val_loss: 0.0140 - val_dice_coef: 0.2040\n",
      "Epoch 7/10\n",
      "354/354 [==============================] - ETA: 1:02:38 - loss: 0.0331 - dice_coef: 0.18 - ETA: 57:45 - loss: 0.0312 - dice_coef: 0.2263 - ETA: 56:15 - loss: 0.0366 - dice_coef: 0.20 - ETA: 55:07 - loss: 0.0328 - dice_coef: 0.18 - ETA: 54:43 - loss: 0.0313 - dice_coef: 0.18 - ETA: 55:17 - loss: 0.0314 - dice_coef: 0.18 - ETA: 56:07 - loss: 0.0308 - dice_coef: 0.18 - ETA: 55:51 - loss: 0.0312 - dice_coef: 0.19 - ETA: 55:36 - loss: 0.0292 - dice_coef: 0.19 - ETA: 55:18 - loss: 0.0280 - dice_coef: 0.19 - ETA: 55:08 - loss: 0.0274 - dice_coef: 0.19 - ETA: 55:08 - loss: 0.0269 - dice_coef: 0.19 - ETA: 55:16 - loss: 0.0273 - dice_coef: 0.19 - ETA: 55:28 - loss: 0.0299 - dice_coef: 0.19 - ETA: 55:31 - loss: 0.0290 - dice_coef: 0.20 - ETA: 55:38 - loss: 0.0281 - dice_coef: 0.19 - ETA: 55:45 - loss: 0.0287 - dice_coef: 0.20 - ETA: 55:44 - loss: 0.0284 - dice_coef: 0.20 - ETA: 55:45 - loss: 0.0287 - dice_coef: 0.20 - ETA: 55:44 - loss: 0.0281 - dice_coef: 0.20 - ETA: 55:34 - loss: 0.0284 - dice_coef: 0.20 - ETA: 55:30 - loss: 0.0287 - dice_coef: 0.20 - ETA: 55:25 - loss: 0.0286 - dice_coef: 0.21 - ETA: 55:17 - loss: 0.0281 - dice_coef: 0.21 - ETA: 55:10 - loss: 0.0274 - dice_coef: 0.20 - ETA: 55:00 - loss: 0.0270 - dice_coef: 0.20 - ETA: 54:56 - loss: 0.0270 - dice_coef: 0.20 - ETA: 54:50 - loss: 0.0289 - dice_coef: 0.20 - ETA: 54:39 - loss: 0.0285 - dice_coef: 0.19 - ETA: 54:31 - loss: 0.0280 - dice_coef: 0.19 - ETA: 54:23 - loss: 0.0278 - dice_coef: 0.19 - ETA: 54:12 - loss: 0.0279 - dice_coef: 0.19 - ETA: 54:05 - loss: 0.0278 - dice_coef: 0.19 - ETA: 53:57 - loss: 0.0275 - dice_coef: 0.19 - ETA: 53:46 - loss: 0.0280 - dice_coef: 0.19 - ETA: 53:39 - loss: 0.0275 - dice_coef: 0.19 - ETA: 53:30 - loss: 0.0272 - dice_coef: 0.19 - ETA: 53:22 - loss: 0.0270 - dice_coef: 0.18 - ETA: 53:13 - loss: 0.0267 - dice_coef: 0.19 - ETA: 53:01 - loss: 0.0269 - dice_coef: 0.20 - ETA: 52:53 - loss: 0.0270 - dice_coef: 0.20 - ETA: 52:46 - loss: 0.0268 - dice_coef: 0.20 - ETA: 52:34 - loss: 0.0267 - dice_coef: 0.20 - ETA: 52:26 - loss: 0.0263 - dice_coef: 0.20 - ETA: 52:20 - loss: 0.0260 - dice_coef: 0.20 - ETA: 52:11 - loss: 0.0257 - dice_coef: 0.21 - ETA: 52:04 - loss: 0.0258 - dice_coef: 0.21 - ETA: 52:09 - loss: 0.0258 - dice_coef: 0.20 - ETA: 52:19 - loss: 0.0256 - dice_coef: 0.21 - ETA: 52:08 - loss: 0.0261 - dice_coef: 0.21 - ETA: 52:00 - loss: 0.0261 - dice_coef: 0.21 - ETA: 51:53 - loss: 0.0257 - dice_coef: 0.21 - ETA: 51:41 - loss: 0.0258 - dice_coef: 0.21 - ETA: 51:30 - loss: 0.0258 - dice_coef: 0.21 - ETA: 51:20 - loss: 0.0257 - dice_coef: 0.21 - ETA: 51:08 - loss: 0.0255 - dice_coef: 0.21 - ETA: 50:56 - loss: 0.0257 - dice_coef: 0.22 - ETA: 50:39 - loss: 0.0254 - dice_coef: 0.21 - ETA: 50:24 - loss: 0.0254 - dice_coef: 0.21 - ETA: 50:08 - loss: 0.0251 - dice_coef: 0.21 - ETA: 49:53 - loss: 0.0250 - dice_coef: 0.21 - ETA: 49:39 - loss: 0.0248 - dice_coef: 0.21 - ETA: 49:23 - loss: 0.0245 - dice_coef: 0.21 - ETA: 49:09 - loss: 0.0245 - dice_coef: 0.21 - ETA: 48:55 - loss: 0.0244 - dice_coef: 0.22 - ETA: 48:42 - loss: 0.0245 - dice_coef: 0.22 - ETA: 48:30 - loss: 0.0243 - dice_coef: 0.22 - ETA: 48:19 - loss: 0.0243 - dice_coef: 0.22 - ETA: 48:09 - loss: 0.0245 - dice_coef: 0.22 - ETA: 47:56 - loss: 0.0243 - dice_coef: 0.22 - ETA: 47:49 - loss: 0.0241 - dice_coef: 0.22 - ETA: 47:40 - loss: 0.0240 - dice_coef: 0.22 - ETA: 47:26 - loss: 0.0240 - dice_coef: 0.22 - ETA: 47:20 - loss: 0.0242 - dice_coef: 0.22 - ETA: 47:14 - loss: 0.0242 - dice_coef: 0.22 - ETA: 47:03 - loss: 0.0242 - dice_coef: 0.22 - ETA: 46:52 - loss: 0.0240 - dice_coef: 0.22 - ETA: 46:42 - loss: 0.0239 - dice_coef: 0.22 - ETA: 46:29 - loss: 0.0239 - dice_coef: 0.22 - ETA: 46:22 - loss: 0.0241 - dice_coef: 0.22 - ETA: 46:12 - loss: 0.0242 - dice_coef: 0.22 - ETA: 46:00 - loss: 0.0243 - dice_coef: 0.22 - ETA: 45:49 - loss: 0.0242 - dice_coef: 0.22 - ETA: 45:37 - loss: 0.0242 - dice_coef: 0.22 - ETA: 45:24 - loss: 0.0245 - dice_coef: 0.22 - ETA: 45:12 - loss: 0.0246 - dice_coef: 0.22 - ETA: 44:59 - loss: 0.0248 - dice_coef: 0.22 - ETA: 44:48 - loss: 0.0247 - dice_coef: 0.22 - ETA: 44:36 - loss: 0.0248 - dice_coef: 0.22 - ETA: 44:27 - loss: 0.0247 - dice_coef: 0.22 - ETA: 44:17 - loss: 0.0247 - dice_coef: 0.22 - ETA: 44:09 - loss: 0.0247 - dice_coef: 0.22 - ETA: 43:57 - loss: 0.0247 - dice_coef: 0.22 - ETA: 43:44 - loss: 0.0246 - dice_coef: 0.22 - ETA: 43:31 - loss: 0.0245 - dice_coef: 0.22 - ETA: 43:20 - loss: 0.0250 - dice_coef: 0.22 - ETA: 43:10 - loss: 0.0252 - dice_coef: 0.22 - ETA: 42:59 - loss: 0.0251 - dice_coef: 0.22 - ETA: 42:46 - loss: 0.0251 - dice_coef: 0.22 - ETA: 42:35 - loss: 0.0250 - dice_coef: 0.22 - ETA: 42:26 - loss: 0.0253 - dice_coef: 0.22 - ETA: 42:16 - loss: 0.0252 - dice_coef: 0.22 - ETA: 42:07 - loss: 0.0252 - dice_coef: 0.22 - ETA: 41:58 - loss: 0.0252 - dice_coef: 0.22 - ETA: 41:48 - loss: 0.0252 - dice_coef: 0.22 - ETA: 41:40 - loss: 0.0251 - dice_coef: 0.22 - ETA: 41:30 - loss: 0.0252 - dice_coef: 0.21 - ETA: 41:21 - loss: 0.0253 - dice_coef: 0.21 - ETA: 41:11 - loss: 0.0253 - dice_coef: 0.21 - ETA: 41:01 - loss: 0.0256 - dice_coef: 0.21 - ETA: 40:52 - loss: 0.0255 - dice_coef: 0.21 - ETA: 40:44 - loss: 0.0254 - dice_coef: 0.21 - ETA: 40:37 - loss: 0.0253 - dice_coef: 0.21 - ETA: 40:28 - loss: 0.0252 - dice_coef: 0.21 - ETA: 40:20 - loss: 0.0253 - dice_coef: 0.21 - ETA: 40:11 - loss: 0.0253 - dice_coef: 0.21 - ETA: 40:02 - loss: 0.0255 - dice_coef: 0.21 - ETA: 39:52 - loss: 0.0255 - dice_coef: 0.21 - ETA: 39:43 - loss: 0.0253 - dice_coef: 0.21 - ETA: 39:34 - loss: 0.0253 - dice_coef: 0.21 - ETA: 39:24 - loss: 0.0253 - dice_coef: 0.21 - ETA: 39:15 - loss: 0.0254 - dice_coef: 0.21 - ETA: 39:06 - loss: 0.0254 - dice_coef: 0.22 - ETA: 38:56 - loss: 0.0254 - dice_coef: 0.21 - ETA: 38:48 - loss: 0.0257 - dice_coef: 0.22 - ETA: 38:39 - loss: 0.0257 - dice_coef: 0.22 - ETA: 38:29 - loss: 0.0257 - dice_coef: 0.22 - ETA: 38:19 - loss: 0.0256 - dice_coef: 0.22 - ETA: 38:09 - loss: 0.0258 - dice_coef: 0.22 - ETA: 38:01 - loss: 0.0259 - dice_coef: 0.22 - ETA: 37:53 - loss: 0.0258 - dice_coef: 0.22 - ETA: 37:45 - loss: 0.0258 - dice_coef: 0.22 - ETA: 37:36 - loss: 0.0257 - dice_coef: 0.22 - ETA: 37:27 - loss: 0.0258 - dice_coef: 0.22 - ETA: 37:17 - loss: 0.0259 - dice_coef: 0.22 - ETA: 37:07 - loss: 0.0259 - dice_coef: 0.22 - ETA: 36:58 - loss: 0.0259 - dice_coef: 0.22 - ETA: 36:47 - loss: 0.0259 - dice_coef: 0.22 - ETA: 36:37 - loss: 0.0259 - dice_coef: 0.22 - ETA: 36:26 - loss: 0.0259 - dice_coef: 0.22 - ETA: 36:16 - loss: 0.0259 - dice_coef: 0.22 - ETA: 36:06 - loss: 0.0259 - dice_coef: 0.22 - ETA: 35:54 - loss: 0.0259 - dice_coef: 0.22 - ETA: 35:43 - loss: 0.0258 - dice_coef: 0.22 - ETA: 35:31 - loss: 0.0257 - dice_coef: 0.22 - ETA: 35:20 - loss: 0.0257 - dice_coef: 0.22 - ETA: 35:08 - loss: 0.0257 - dice_coef: 0.22 - ETA: 34:56 - loss: 0.0259 - dice_coef: 0.22 - ETA: 34:45 - loss: 0.0259 - dice_coef: 0.22 - ETA: 34:33 - loss: 0.0258 - dice_coef: 0.22 - ETA: 34:22 - loss: 0.0259 - dice_coef: 0.22 - ETA: 34:11 - loss: 0.0258 - dice_coef: 0.22 - ETA: 33:59 - loss: 0.0258 - dice_coef: 0.22 - ETA: 33:48 - loss: 0.0258 - dice_coef: 0.22 - ETA: 33:36 - loss: 0.0258 - dice_coef: 0.22 - ETA: 33:25 - loss: 0.0259 - dice_coef: 0.22 - ETA: 33:14 - loss: 0.0258 - dice_coef: 0.22 - ETA: 33:02 - loss: 0.0259 - dice_coef: 0.22 - ETA: 32:52 - loss: 0.0259 - dice_coef: 0.22 - ETA: 32:40 - loss: 0.0259 - dice_coef: 0.22 - ETA: 32:29 - loss: 0.0258 - dice_coef: 0.22 - ETA: 32:18 - loss: 0.0260 - dice_coef: 0.22 - ETA: 32:07 - loss: 0.0259 - dice_coef: 0.22 - ETA: 31:56 - loss: 0.0258 - dice_coef: 0.22 - ETA: 31:45 - loss: 0.0258 - dice_coef: 0.22 - ETA: 31:34 - loss: 0.0257 - dice_coef: 0.22 - ETA: 31:23 - loss: 0.0257 - dice_coef: 0.22 - ETA: 31:12 - loss: 0.0256 - dice_coef: 0.22 - ETA: 31:01 - loss: 0.0257 - dice_coef: 0.22 - ETA: 30:50 - loss: 0.0257 - dice_coef: 0.22 - ETA: 30:39 - loss: 0.0256 - dice_coef: 0.22 - ETA: 30:28 - loss: 0.0256 - dice_coef: 0.22 - ETA: 30:18 - loss: 0.0255 - dice_coef: 0.22 - ETA: 30:07 - loss: 0.0258 - dice_coef: 0.22 - ETA: 29:56 - loss: 0.0257 - dice_coef: 0.22 - ETA: 29:45 - loss: 0.0257 - dice_coef: 0.22 - ETA: 29:34 - loss: 0.0256 - dice_coef: 0.22 - ETA: 29:26 - loss: 0.0256 - dice_coef: 0.22 - ETA: 29:16 - loss: 0.0255 - dice_coef: 0.22 - ETA: 29:07 - loss: 0.0257 - dice_coef: 0.22 - ETA: 28:56 - loss: 0.0257 - dice_coef: 0.22 - ETA: 28:45 - loss: 0.0257 - dice_coef: 0.22 - ETA: 28:35 - loss: 0.0257 - dice_coef: 0.22 - ETA: 28:24 - loss: 0.0256 - dice_coef: 0.22 - ETA: 28:13 - loss: 0.0258 - dice_coef: 0.22 - ETA: 28:02 - loss: 0.0260 - dice_coef: 0.22 - ETA: 27:53 - loss: 0.0259 - dice_coef: 0.22 - ETA: 27:45 - loss: 0.0260 - dice_coef: 0.22 - ETA: 27:35 - loss: 0.0259 - dice_coef: 0.22 - ETA: 27:24 - loss: 0.0259 - dice_coef: 0.22 - ETA: 27:14 - loss: 0.0259 - dice_coef: 0.22 - ETA: 27:04 - loss: 0.0259 - dice_coef: 0.22 - ETA: 26:55 - loss: 0.0259 - dice_coef: 0.22 - ETA: 26:45 - loss: 0.0261 - dice_coef: 0.22 - ETA: 26:35 - loss: 0.0261 - dice_coef: 0.22 - ETA: 26:26 - loss: 0.0261 - dice_coef: 0.22 - ETA: 26:16 - loss: 0.0260 - dice_coef: 0.22 - ETA: 26:07 - loss: 0.0261 - dice_coef: 0.22 - ETA: 25:57 - loss: 0.0260 - dice_coef: 0.22 - ETA: 25:47 - loss: 0.0260 - dice_coef: 0.22 - ETA: 25:38 - loss: 0.0260 - dice_coef: 0.22 - ETA: 25:28 - loss: 0.0259 - dice_coef: 0.22 - ETA: 25:18 - loss: 0.0259 - dice_coef: 0.22 - ETA: 25:08 - loss: 0.0260 - dice_coef: 0.22 - ETA: 24:58 - loss: 0.0260 - dice_coef: 0.22 - ETA: 24:49 - loss: 0.0260 - dice_coef: 0.22 - ETA: 24:39 - loss: 0.0260 - dice_coef: 0.22 - ETA: 24:29 - loss: 0.0260 - dice_coef: 0.22 - ETA: 24:19 - loss: 0.0260 - dice_coef: 0.22 - ETA: 24:09 - loss: 0.0259 - dice_coef: 0.22 - ETA: 24:00 - loss: 0.0258 - dice_coef: 0.22 - ETA: 23:50 - loss: 0.0258 - dice_coef: 0.22 - ETA: 23:40 - loss: 0.0258 - dice_coef: 0.22 - ETA: 23:31 - loss: 0.0258 - dice_coef: 0.22 - ETA: 23:21 - loss: 0.0258 - dice_coef: 0.22 - ETA: 23:11 - loss: 0.0258 - dice_coef: 0.22 - ETA: 23:02 - loss: 0.0259 - dice_coef: 0.22 - ETA: 22:52 - loss: 0.0258 - dice_coef: 0.22 - ETA: 22:42 - loss: 0.0258 - dice_coef: 0.22 - ETA: 22:32 - loss: 0.0258 - dice_coef: 0.22 - ETA: 22:22 - loss: 0.0258 - dice_coef: 0.22 - ETA: 22:12 - loss: 0.0257 - dice_coef: 0.22 - ETA: 22:03 - loss: 0.0257 - dice_coef: 0.22 - ETA: 21:52 - loss: 0.0258 - dice_coef: 0.22 - ETA: 21:41 - loss: 0.0258 - dice_coef: 0.22 - ETA: 21:31 - loss: 0.0258 - dice_coef: 0.22 - ETA: 21:21 - loss: 0.0257 - dice_coef: 0.22 - ETA: 21:10 - loss: 0.0258 - dice_coef: 0.22 - ETA: 20:59 - loss: 0.0258 - dice_coef: 0.22 - ETA: 20:49 - loss: 0.0258 - dice_coef: 0.22 - ETA: 20:38 - loss: 0.0258 - dice_coef: 0.22 - ETA: 20:28 - loss: 0.0258 - dice_coef: 0.22 - ETA: 20:17 - loss: 0.0257 - dice_coef: 0.22 - ETA: 20:07 - loss: 0.0258 - dice_coef: 0.22 - ETA: 19:56 - loss: 0.0258 - dice_coef: 0.22 - ETA: 19:46 - loss: 0.0260 - dice_coef: 0.22 - ETA: 19:36 - loss: 0.0261 - dice_coef: 0.22 - ETA: 19:25 - loss: 0.0260 - dice_coef: 0.22 - ETA: 19:15 - loss: 0.0262 - dice_coef: 0.22 - ETA: 19:05 - loss: 0.0263 - dice_coef: 0.22 - ETA: 18:54 - loss: 0.0262 - dice_coef: 0.22 - ETA: 18:44 - loss: 0.0262 - dice_coef: 0.22 - ETA: 18:34 - loss: 0.0261 - dice_coef: 0.23 - ETA: 18:23 - loss: 0.0261 - dice_coef: 0.22 - ETA: 18:13 - loss: 0.0260 - dice_coef: 0.23 - ETA: 18:03 - loss: 0.0260 - dice_coef: 0.23 - ETA: 17:52 - loss: 0.0261 - dice_coef: 0.23 - ETA: 17:42 - loss: 0.0260 - dice_coef: 0.23 - ETA: 17:32 - loss: 0.0260 - dice_coef: 0.23 - ETA: 17:22 - loss: 0.0260 - dice_coef: 0.23 - ETA: 17:12 - loss: 0.0260 - dice_coef: 0.23 - ETA: 17:01 - loss: 0.0260 - dice_coef: 0.23 - ETA: 16:51 - loss: 0.0259 - dice_coef: 0.23 - ETA: 16:41 - loss: 0.0260 - dice_coef: 0.23 - ETA: 16:31 - loss: 0.0260 - dice_coef: 0.23 - ETA: 16:20 - loss: 0.0260 - dice_coef: 0.23 - ETA: 16:10 - loss: 0.0261 - dice_coef: 0.23 - ETA: 16:00 - loss: 0.0260 - dice_coef: 0.23 - ETA: 15:50 - loss: 0.0260 - dice_coef: 0.23 - ETA: 15:39 - loss: 0.0259 - dice_coef: 0.23 - ETA: 15:29 - loss: 0.0259 - dice_coef: 0.23 - ETA: 15:19 - loss: 0.0259 - dice_coef: 0.23 - ETA: 15:09 - loss: 0.0259 - dice_coef: 0.23 - ETA: 14:58 - loss: 0.0259 - dice_coef: 0.23 - ETA: 14:48 - loss: 0.0258 - dice_coef: 0.23 - ETA: 14:38 - loss: 0.0259 - dice_coef: 0.23 - ETA: 14:28 - loss: 0.0259 - dice_coef: 0.23 - ETA: 14:17 - loss: 0.0258 - dice_coef: 0.23 - ETA: 14:07 - loss: 0.0258 - dice_coef: 0.23 - ETA: 13:57 - loss: 0.0258 - dice_coef: 0.23 - ETA: 13:47 - loss: 0.0258 - dice_coef: 0.23 - ETA: 13:37 - loss: 0.0260 - dice_coef: 0.23 - ETA: 13:26 - loss: 0.0260 - dice_coef: 0.23 - ETA: 13:16 - loss: 0.0259 - dice_coef: 0.23 - ETA: 13:06 - loss: 0.0259 - dice_coef: 0.23 - ETA: 12:56 - loss: 0.0259 - dice_coef: 0.23 - ETA: 12:46 - loss: 0.0260 - dice_coef: 0.23 - ETA: 12:36 - loss: 0.0260 - dice_coef: 0.23 - ETA: 12:25 - loss: 0.0259 - dice_coef: 0.23 - ETA: 12:15 - loss: 0.0260 - dice_coef: 0.23 - ETA: 12:05 - loss: 0.0260 - dice_coef: 0.23 - ETA: 11:55 - loss: 0.0259 - dice_coef: 0.23 - ETA: 11:45 - loss: 0.0260 - dice_coef: 0.23 - ETA: 11:35 - loss: 0.0259 - dice_coef: 0.23 - ETA: 11:26 - loss: 0.0259 - dice_coef: 0.23 - ETA: 11:16 - loss: 0.0260 - dice_coef: 0.23 - ETA: 11:06 - loss: 0.0260 - dice_coef: 0.23 - ETA: 10:56 - loss: 0.0260 - dice_coef: 0.23 - ETA: 10:47 - loss: 0.0260 - dice_coef: 0.23 - ETA: 10:37 - loss: 0.0260 - dice_coef: 0.23 - ETA: 10:27 - loss: 0.0260 - dice_coef: 0.23 - ETA: 10:17 - loss: 0.0260 - dice_coef: 0.23 - ETA: 10:07 - loss: 0.0260 - dice_coef: 0.23 - ETA: 9:58 - loss: 0.0260 - dice_coef: 0.2341 - ETA: 9:48 - loss: 0.0261 - dice_coef: 0.233 - ETA: 9:38 - loss: 0.0261 - dice_coef: 0.234 - ETA: 9:28 - loss: 0.0260 - dice_coef: 0.233 - ETA: 9:18 - loss: 0.0261 - dice_coef: 0.234 - ETA: 9:08 - loss: 0.0261 - dice_coef: 0.234 - ETA: 8:58 - loss: 0.0261 - dice_coef: 0.233 - ETA: 8:49 - loss: 0.0261 - dice_coef: 0.233 - ETA: 8:39 - loss: 0.0261 - dice_coef: 0.232 - ETA: 8:29 - loss: 0.0261 - dice_coef: 0.233 - ETA: 8:19 - loss: 0.0261 - dice_coef: 0.233 - ETA: 8:09 - loss: 0.0261 - dice_coef: 0.234 - ETA: 7:59 - loss: 0.0261 - dice_coef: 0.234 - ETA: 7:49 - loss: 0.0261 - dice_coef: 0.233 - ETA: 7:39 - loss: 0.0260 - dice_coef: 0.234 - ETA: 7:30 - loss: 0.0260 - dice_coef: 0.234 - ETA: 7:20 - loss: 0.0260 - dice_coef: 0.234 - ETA: 7:10 - loss: 0.0260 - dice_coef: 0.234 - ETA: 7:00 - loss: 0.0260 - dice_coef: 0.234 - ETA: 6:50 - loss: 0.0260 - dice_coef: 0.234 - ETA: 6:40 - loss: 0.0260 - dice_coef: 0.235 - ETA: 6:30 - loss: 0.0260 - dice_coef: 0.235 - ETA: 6:20 - loss: 0.0259 - dice_coef: 0.235 - ETA: 6:10 - loss: 0.0260 - dice_coef: 0.235 - ETA: 6:00 - loss: 0.0260 - dice_coef: 0.236 - ETA: 5:50 - loss: 0.0260 - dice_coef: 0.236 - ETA: 5:40 - loss: 0.0260 - dice_coef: 0.236 - ETA: 5:30 - loss: 0.0260 - dice_coef: 0.235 - ETA: 5:20 - loss: 0.0259 - dice_coef: 0.236 - ETA: 5:10 - loss: 0.0259 - dice_coef: 0.235 - ETA: 5:00 - loss: 0.0259 - dice_coef: 0.235 - ETA: 4:50 - loss: 0.0258 - dice_coef: 0.236 - ETA: 4:40 - loss: 0.0259 - dice_coef: 0.236 - ETA: 4:30 - loss: 0.0260 - dice_coef: 0.236 - ETA: 4:20 - loss: 0.0260 - dice_coef: 0.236 - ETA: 4:10 - loss: 0.0259 - dice_coef: 0.236 - ETA: 4:00 - loss: 0.0259 - dice_coef: 0.237 - ETA: 3:50 - loss: 0.0259 - dice_coef: 0.237 - ETA: 3:39 - loss: 0.0259 - dice_coef: 0.236 - ETA: 3:29 - loss: 0.0259 - dice_coef: 0.237 - ETA: 3:19 - loss: 0.0259 - dice_coef: 0.237 - ETA: 3:09 - loss: 0.0259 - dice_coef: 0.237 - ETA: 2:59 - loss: 0.0259 - dice_coef: 0.237 - ETA: 2:49 - loss: 0.0259 - dice_coef: 0.237 - ETA: 2:39 - loss: 0.0259 - dice_coef: 0.238 - ETA: 2:29 - loss: 0.0259 - dice_coef: 0.238 - ETA: 2:19 - loss: 0.0259 - dice_coef: 0.238 - ETA: 2:09 - loss: 0.0259 - dice_coef: 0.238 - ETA: 1:59 - loss: 0.0259 - dice_coef: 0.238 - ETA: 1:49 - loss: 0.0258 - dice_coef: 0.238 - ETA: 1:39 - loss: 0.0258 - dice_coef: 0.238 - ETA: 1:29 - loss: 0.0258 - dice_coef: 0.238 - ETA: 1:19 - loss: 0.0258 - dice_coef: 0.238 - ETA: 1:09 - loss: 0.0258 - dice_coef: 0.238 - ETA: 59s - loss: 0.0257 - dice_coef: 0.238 - ETA: 49s - loss: 0.0257 - dice_coef: 0.23 - ETA: 39s - loss: 0.0257 - dice_coef: 0.23 - ETA: 29s - loss: 0.0256 - dice_coef: 0.23 - ETA: 19s - loss: 0.0257 - dice_coef: 0.23 - ETA: 9s - loss: 0.0257 - dice_coef: 0.2385 - 3813s 11s/step - loss: 0.0257 - dice_coef: 0.2385 - val_loss: 0.0126 - val_dice_coef: 0.2522\n",
      "Epoch 8/10\n",
      "354/354 [==============================] - ETA: 1:06:54 - loss: 0.0148 - dice_coef: 0.33 - ETA: 1:04:15 - loss: 0.0171 - dice_coef: 0.18 - ETA: 1:03:24 - loss: 0.0274 - dice_coef: 0.18 - ETA: 1:02:05 - loss: 0.0267 - dice_coef: 0.25 - ETA: 1:01:36 - loss: 0.0248 - dice_coef: 0.25 - ETA: 1:01:32 - loss: 0.0252 - dice_coef: 0.24 - ETA: 1:01:10 - loss: 0.0257 - dice_coef: 0.24 - ETA: 1:01:00 - loss: 0.0241 - dice_coef: 0.23 - ETA: 1:00:52 - loss: 0.0239 - dice_coef: 0.23 - ETA: 1:00:30 - loss: 0.0250 - dice_coef: 0.24 - ETA: 1:00:16 - loss: 0.0257 - dice_coef: 0.25 - ETA: 1:00:01 - loss: 0.0261 - dice_coef: 0.25 - ETA: 59:40 - loss: 0.0254 - dice_coef: 0.2564 - ETA: 59:44 - loss: 0.0261 - dice_coef: 0.24 - ETA: 59:35 - loss: 0.0253 - dice_coef: 0.25 - ETA: 59:21 - loss: 0.0254 - dice_coef: 0.25 - ETA: 59:09 - loss: 0.0248 - dice_coef: 0.25 - ETA: 58:57 - loss: 0.0239 - dice_coef: 0.23 - ETA: 58:38 - loss: 0.0238 - dice_coef: 0.24 - ETA: 58:29 - loss: 0.0244 - dice_coef: 0.24 - ETA: 58:19 - loss: 0.0245 - dice_coef: 0.24 - ETA: 58:06 - loss: 0.0243 - dice_coef: 0.25 - ETA: 57:55 - loss: 0.0238 - dice_coef: 0.25 - ETA: 57:41 - loss: 0.0242 - dice_coef: 0.25 - ETA: 57:36 - loss: 0.0245 - dice_coef: 0.26 - ETA: 57:28 - loss: 0.0242 - dice_coef: 0.26 - ETA: 57:13 - loss: 0.0246 - dice_coef: 0.26 - ETA: 57:00 - loss: 0.0244 - dice_coef: 0.26 - ETA: 56:44 - loss: 0.0247 - dice_coef: 0.26 - ETA: 56:27 - loss: 0.0245 - dice_coef: 0.26 - ETA: 56:15 - loss: 0.0250 - dice_coef: 0.26 - ETA: 56:05 - loss: 0.0253 - dice_coef: 0.26 - ETA: 55:42 - loss: 0.0251 - dice_coef: 0.26 - ETA: 55:21 - loss: 0.0252 - dice_coef: 0.27 - ETA: 54:59 - loss: 0.0252 - dice_coef: 0.27 - ETA: 54:39 - loss: 0.0250 - dice_coef: 0.26 - ETA: 54:17 - loss: 0.0249 - dice_coef: 0.26 - ETA: 53:58 - loss: 0.0247 - dice_coef: 0.26 - ETA: 53:40 - loss: 0.0245 - dice_coef: 0.26 - ETA: 53:21 - loss: 0.0254 - dice_coef: 0.26 - ETA: 53:04 - loss: 0.0254 - dice_coef: 0.26 - ETA: 52:45 - loss: 0.0256 - dice_coef: 0.26 - ETA: 52:28 - loss: 0.0262 - dice_coef: 0.26 - ETA: 52:11 - loss: 0.0261 - dice_coef: 0.25 - ETA: 51:53 - loss: 0.0260 - dice_coef: 0.25 - ETA: 51:38 - loss: 0.0263 - dice_coef: 0.25 - ETA: 51:23 - loss: 0.0261 - dice_coef: 0.25 - ETA: 51:14 - loss: 0.0259 - dice_coef: 0.25 - ETA: 51:00 - loss: 0.0259 - dice_coef: 0.25 - ETA: 50:45 - loss: 0.0255 - dice_coef: 0.24 - ETA: 50:31 - loss: 0.0253 - dice_coef: 0.24 - ETA: 50:16 - loss: 0.0255 - dice_coef: 0.24 - ETA: 50:02 - loss: 0.0264 - dice_coef: 0.24 - ETA: 49:47 - loss: 0.0267 - dice_coef: 0.24 - ETA: 49:34 - loss: 0.0264 - dice_coef: 0.24 - ETA: 49:19 - loss: 0.0265 - dice_coef: 0.24 - ETA: 49:05 - loss: 0.0267 - dice_coef: 0.24 - ETA: 48:52 - loss: 0.0265 - dice_coef: 0.24 - ETA: 48:38 - loss: 0.0265 - dice_coef: 0.24 - ETA: 48:26 - loss: 0.0265 - dice_coef: 0.24 - ETA: 48:12 - loss: 0.0264 - dice_coef: 0.24 - ETA: 47:59 - loss: 0.0262 - dice_coef: 0.24 - ETA: 47:46 - loss: 0.0260 - dice_coef: 0.24 - ETA: 47:32 - loss: 0.0260 - dice_coef: 0.24 - ETA: 47:20 - loss: 0.0259 - dice_coef: 0.24 - ETA: 47:07 - loss: 0.0259 - dice_coef: 0.24 - ETA: 46:55 - loss: 0.0259 - dice_coef: 0.24 - ETA: 46:42 - loss: 0.0258 - dice_coef: 0.24 - ETA: 46:29 - loss: 0.0260 - dice_coef: 0.24 - ETA: 46:17 - loss: 0.0261 - dice_coef: 0.25 - ETA: 46:04 - loss: 0.0261 - dice_coef: 0.25 - ETA: 45:52 - loss: 0.0265 - dice_coef: 0.25 - ETA: 45:40 - loss: 0.0263 - dice_coef: 0.25 - ETA: 45:29 - loss: 0.0263 - dice_coef: 0.25 - ETA: 45:16 - loss: 0.0267 - dice_coef: 0.25 - ETA: 45:04 - loss: 0.0267 - dice_coef: 0.24 - ETA: 44:52 - loss: 0.0268 - dice_coef: 0.24 - ETA: 44:40 - loss: 0.0268 - dice_coef: 0.24 - ETA: 44:30 - loss: 0.0267 - dice_coef: 0.24 - ETA: 44:18 - loss: 0.0265 - dice_coef: 0.24 - ETA: 44:07 - loss: 0.0265 - dice_coef: 0.24 - ETA: 43:58 - loss: 0.0264 - dice_coef: 0.24 - ETA: 43:50 - loss: 0.0265 - dice_coef: 0.24 - ETA: 43:43 - loss: 0.0265 - dice_coef: 0.24 - ETA: 43:35 - loss: 0.0267 - dice_coef: 0.24 - ETA: 43:28 - loss: 0.0268 - dice_coef: 0.23 - ETA: 43:21 - loss: 0.0269 - dice_coef: 0.23 - ETA: 43:13 - loss: 0.0268 - dice_coef: 0.23 - ETA: 43:04 - loss: 0.0267 - dice_coef: 0.24 - ETA: 42:57 - loss: 0.0266 - dice_coef: 0.23 - ETA: 42:48 - loss: 0.0267 - dice_coef: 0.23 - ETA: 42:40 - loss: 0.0267 - dice_coef: 0.23 - ETA: 42:33 - loss: 0.0267 - dice_coef: 0.23 - ETA: 42:24 - loss: 0.0272 - dice_coef: 0.23 - ETA: 42:16 - loss: 0.0272 - dice_coef: 0.23 - ETA: 42:07 - loss: 0.0271 - dice_coef: 0.23 - ETA: 41:59 - loss: 0.0271 - dice_coef: 0.23 - ETA: 41:51 - loss: 0.0272 - dice_coef: 0.23 - ETA: 41:42 - loss: 0.0271 - dice_coef: 0.23 - ETA: 41:34 - loss: 0.0275 - dice_coef: 0.23 - ETA: 41:26 - loss: 0.0276 - dice_coef: 0.23 - ETA: 41:17 - loss: 0.0275 - dice_coef: 0.23 - ETA: 41:08 - loss: 0.0275 - dice_coef: 0.23 - ETA: 41:00 - loss: 0.0274 - dice_coef: 0.23 - ETA: 40:51 - loss: 0.0273 - dice_coef: 0.23 - ETA: 40:42 - loss: 0.0272 - dice_coef: 0.23 - ETA: 40:35 - loss: 0.0270 - dice_coef: 0.23 - ETA: 40:27 - loss: 0.0269 - dice_coef: 0.23 - ETA: 40:19 - loss: 0.0269 - dice_coef: 0.23 - ETA: 40:11 - loss: 0.0268 - dice_coef: 0.23 - ETA: 40:03 - loss: 0.0268 - dice_coef: 0.23 - ETA: 39:55 - loss: 0.0272 - dice_coef: 0.23 - ETA: 39:46 - loss: 0.0272 - dice_coef: 0.23 - ETA: 39:37 - loss: 0.0272 - dice_coef: 0.23 - ETA: 39:29 - loss: 0.0270 - dice_coef: 0.23 - ETA: 39:21 - loss: 0.0270 - dice_coef: 0.23 - ETA: 39:13 - loss: 0.0270 - dice_coef: 0.23 - ETA: 39:03 - loss: 0.0268 - dice_coef: 0.23 - ETA: 38:53 - loss: 0.0268 - dice_coef: 0.23 - ETA: 38:44 - loss: 0.0267 - dice_coef: 0.23 - ETA: 38:34 - loss: 0.0266 - dice_coef: 0.23 - ETA: 38:23 - loss: 0.0265 - dice_coef: 0.24 - ETA: 38:11 - loss: 0.0264 - dice_coef: 0.23 - ETA: 38:01 - loss: 0.0264 - dice_coef: 0.23 - ETA: 37:49 - loss: 0.0264 - dice_coef: 0.23 - ETA: 37:38 - loss: 0.0266 - dice_coef: 0.23 - ETA: 37:27 - loss: 0.0267 - dice_coef: 0.23 - ETA: 37:15 - loss: 0.0266 - dice_coef: 0.23 - ETA: 37:04 - loss: 0.0265 - dice_coef: 0.23 - ETA: 36:53 - loss: 0.0265 - dice_coef: 0.23 - ETA: 36:42 - loss: 0.0264 - dice_coef: 0.23 - ETA: 36:31 - loss: 0.0264 - dice_coef: 0.23 - ETA: 36:20 - loss: 0.0263 - dice_coef: 0.23 - ETA: 36:09 - loss: 0.0263 - dice_coef: 0.23 - ETA: 35:58 - loss: 0.0262 - dice_coef: 0.23 - ETA: 35:47 - loss: 0.0262 - dice_coef: 0.23 - ETA: 35:36 - loss: 0.0261 - dice_coef: 0.23 - ETA: 35:25 - loss: 0.0261 - dice_coef: 0.23 - ETA: 35:14 - loss: 0.0264 - dice_coef: 0.23 - ETA: 35:03 - loss: 0.0265 - dice_coef: 0.23 - ETA: 34:52 - loss: 0.0265 - dice_coef: 0.23 - ETA: 34:41 - loss: 0.0264 - dice_coef: 0.23 - ETA: 34:30 - loss: 0.0263 - dice_coef: 0.23 - ETA: 34:19 - loss: 0.0263 - dice_coef: 0.23 - ETA: 34:09 - loss: 0.0262 - dice_coef: 0.23 - ETA: 33:58 - loss: 0.0263 - dice_coef: 0.23 - ETA: 33:47 - loss: 0.0263 - dice_coef: 0.23 - ETA: 33:37 - loss: 0.0263 - dice_coef: 0.23 - ETA: 33:26 - loss: 0.0263 - dice_coef: 0.23 - ETA: 33:15 - loss: 0.0263 - dice_coef: 0.23 - ETA: 33:05 - loss: 0.0264 - dice_coef: 0.23 - ETA: 32:54 - loss: 0.0263 - dice_coef: 0.23 - ETA: 32:44 - loss: 0.0262 - dice_coef: 0.23 - ETA: 32:33 - loss: 0.0262 - dice_coef: 0.23 - ETA: 32:23 - loss: 0.0261 - dice_coef: 0.23 - ETA: 32:12 - loss: 0.0261 - dice_coef: 0.23 - ETA: 32:02 - loss: 0.0263 - dice_coef: 0.23 - ETA: 31:51 - loss: 0.0262 - dice_coef: 0.23 - ETA: 31:41 - loss: 0.0262 - dice_coef: 0.23 - ETA: 31:30 - loss: 0.0263 - dice_coef: 0.23 - ETA: 31:20 - loss: 0.0262 - dice_coef: 0.23 - ETA: 31:10 - loss: 0.0262 - dice_coef: 0.23 - ETA: 30:59 - loss: 0.0262 - dice_coef: 0.23 - ETA: 30:49 - loss: 0.0261 - dice_coef: 0.23 - ETA: 30:39 - loss: 0.0261 - dice_coef: 0.23 - ETA: 30:28 - loss: 0.0261 - dice_coef: 0.23 - ETA: 30:18 - loss: 0.0261 - dice_coef: 0.23 - ETA: 30:08 - loss: 0.0260 - dice_coef: 0.23 - ETA: 29:57 - loss: 0.0259 - dice_coef: 0.23 - ETA: 29:47 - loss: 0.0259 - dice_coef: 0.23 - ETA: 29:36 - loss: 0.0261 - dice_coef: 0.23 - ETA: 29:26 - loss: 0.0260 - dice_coef: 0.23 - ETA: 29:16 - loss: 0.0260 - dice_coef: 0.23 - ETA: 29:06 - loss: 0.0259 - dice_coef: 0.23 - ETA: 28:59 - loss: 0.0259 - dice_coef: 0.23 - ETA: 28:51 - loss: 0.0258 - dice_coef: 0.23 - ETA: 28:42 - loss: 0.0258 - dice_coef: 0.23 - ETA: 28:33 - loss: 0.0258 - dice_coef: 0.23 - ETA: 28:24 - loss: 0.0258 - dice_coef: 0.23 - ETA: 28:16 - loss: 0.0260 - dice_coef: 0.23 - ETA: 28:06 - loss: 0.0260 - dice_coef: 0.23 - ETA: 27:57 - loss: 0.0260 - dice_coef: 0.23 - ETA: 27:48 - loss: 0.0260 - dice_coef: 0.23 - ETA: 27:39 - loss: 0.0260 - dice_coef: 0.23 - ETA: 27:30 - loss: 0.0260 - dice_coef: 0.23 - ETA: 27:20 - loss: 0.0260 - dice_coef: 0.23 - ETA: 27:11 - loss: 0.0260 - dice_coef: 0.23 - ETA: 27:02 - loss: 0.0260 - dice_coef: 0.23 - ETA: 26:53 - loss: 0.0259 - dice_coef: 0.23 - ETA: 26:44 - loss: 0.0259 - dice_coef: 0.23 - ETA: 26:35 - loss: 0.0258 - dice_coef: 0.23 - ETA: 26:25 - loss: 0.0257 - dice_coef: 0.23 - ETA: 26:16 - loss: 0.0259 - dice_coef: 0.23 - ETA: 26:06 - loss: 0.0258 - dice_coef: 0.23 - ETA: 25:57 - loss: 0.0260 - dice_coef: 0.23 - ETA: 25:48 - loss: 0.0260 - dice_coef: 0.23 - ETA: 25:39 - loss: 0.0259 - dice_coef: 0.23 - ETA: 25:30 - loss: 0.0259 - dice_coef: 0.23 - ETA: 25:20 - loss: 0.0259 - dice_coef: 0.23 - ETA: 25:12 - loss: 0.0259 - dice_coef: 0.23 - ETA: 25:03 - loss: 0.0261 - dice_coef: 0.23 - ETA: 24:53 - loss: 0.0260 - dice_coef: 0.23 - ETA: 24:44 - loss: 0.0260 - dice_coef: 0.23 - ETA: 24:35 - loss: 0.0261 - dice_coef: 0.23 - ETA: 24:25 - loss: 0.0262 - dice_coef: 0.23 - ETA: 24:16 - loss: 0.0261 - dice_coef: 0.23 - ETA: 24:06 - loss: 0.0262 - dice_coef: 0.23 - ETA: 23:56 - loss: 0.0263 - dice_coef: 0.23 - ETA: 23:46 - loss: 0.0263 - dice_coef: 0.23 - ETA: 23:36 - loss: 0.0263 - dice_coef: 0.23 - ETA: 23:26 - loss: 0.0263 - dice_coef: 0.23 - ETA: 23:16 - loss: 0.0262 - dice_coef: 0.23 - ETA: 23:06 - loss: 0.0262 - dice_coef: 0.23 - ETA: 22:56 - loss: 0.0263 - dice_coef: 0.23 - ETA: 22:46 - loss: 0.0262 - dice_coef: 0.23 - ETA: 22:36 - loss: 0.0262 - dice_coef: 0.23 - ETA: 22:26 - loss: 0.0264 - dice_coef: 0.23 - ETA: 22:16 - loss: 0.0264 - dice_coef: 0.23 - ETA: 22:06 - loss: 0.0263 - dice_coef: 0.23 - ETA: 21:56 - loss: 0.0263 - dice_coef: 0.23 - ETA: 21:45 - loss: 0.0263 - dice_coef: 0.23 - ETA: 21:35 - loss: 0.0262 - dice_coef: 0.23 - ETA: 21:26 - loss: 0.0262 - dice_coef: 0.23 - ETA: 21:15 - loss: 0.0263 - dice_coef: 0.23 - ETA: 21:05 - loss: 0.0264 - dice_coef: 0.23 - ETA: 20:55 - loss: 0.0264 - dice_coef: 0.23 - ETA: 20:45 - loss: 0.0264 - dice_coef: 0.23 - ETA: 20:35 - loss: 0.0263 - dice_coef: 0.23 - ETA: 20:25 - loss: 0.0264 - dice_coef: 0.23 - ETA: 20:15 - loss: 0.0264 - dice_coef: 0.23 - ETA: 20:05 - loss: 0.0264 - dice_coef: 0.23 - ETA: 19:55 - loss: 0.0264 - dice_coef: 0.23 - ETA: 19:45 - loss: 0.0264 - dice_coef: 0.23 - ETA: 19:34 - loss: 0.0263 - dice_coef: 0.23 - ETA: 19:25 - loss: 0.0264 - dice_coef: 0.23 - ETA: 19:15 - loss: 0.0264 - dice_coef: 0.23 - ETA: 19:05 - loss: 0.0264 - dice_coef: 0.23 - ETA: 18:55 - loss: 0.0264 - dice_coef: 0.23 - ETA: 18:45 - loss: 0.0264 - dice_coef: 0.23 - ETA: 18:35 - loss: 0.0264 - dice_coef: 0.23 - ETA: 18:25 - loss: 0.0264 - dice_coef: 0.23 - ETA: 18:15 - loss: 0.0263 - dice_coef: 0.23 - ETA: 18:04 - loss: 0.0263 - dice_coef: 0.23 - ETA: 17:54 - loss: 0.0263 - dice_coef: 0.23 - ETA: 17:44 - loss: 0.0263 - dice_coef: 0.23 - ETA: 17:34 - loss: 0.0263 - dice_coef: 0.23 - ETA: 17:24 - loss: 0.0264 - dice_coef: 0.23 - ETA: 17:14 - loss: 0.0264 - dice_coef: 0.23 - ETA: 17:04 - loss: 0.0263 - dice_coef: 0.23 - ETA: 16:54 - loss: 0.0263 - dice_coef: 0.23 - ETA: 16:45 - loss: 0.0263 - dice_coef: 0.23 - ETA: 16:35 - loss: 0.0263 - dice_coef: 0.23 - ETA: 16:25 - loss: 0.0263 - dice_coef: 0.23 - ETA: 16:15 - loss: 0.0263 - dice_coef: 0.23 - ETA: 16:05 - loss: 0.0262 - dice_coef: 0.23 - ETA: 15:55 - loss: 0.0262 - dice_coef: 0.23 - ETA: 15:45 - loss: 0.0262 - dice_coef: 0.23 - ETA: 15:35 - loss: 0.0262 - dice_coef: 0.23 - ETA: 15:25 - loss: 0.0261 - dice_coef: 0.23 - ETA: 15:15 - loss: 0.0262 - dice_coef: 0.23 - ETA: 15:05 - loss: 0.0261 - dice_coef: 0.23 - ETA: 14:55 - loss: 0.0262 - dice_coef: 0.23 - ETA: 14:46 - loss: 0.0262 - dice_coef: 0.23 - ETA: 14:36 - loss: 0.0262 - dice_coef: 0.23 - ETA: 14:26 - loss: 0.0261 - dice_coef: 0.23 - ETA: 14:16 - loss: 0.0261 - dice_coef: 0.23 - ETA: 14:07 - loss: 0.0260 - dice_coef: 0.23 - ETA: 13:57 - loss: 0.0261 - dice_coef: 0.23 - ETA: 13:48 - loss: 0.0260 - dice_coef: 0.23 - ETA: 13:38 - loss: 0.0260 - dice_coef: 0.23 - ETA: 13:29 - loss: 0.0260 - dice_coef: 0.23 - ETA: 13:19 - loss: 0.0260 - dice_coef: 0.23 - ETA: 13:10 - loss: 0.0260 - dice_coef: 0.23 - ETA: 13:00 - loss: 0.0260 - dice_coef: 0.23 - ETA: 12:50 - loss: 0.0260 - dice_coef: 0.23 - ETA: 12:41 - loss: 0.0260 - dice_coef: 0.23 - ETA: 12:31 - loss: 0.0259 - dice_coef: 0.23 - ETA: 12:22 - loss: 0.0259 - dice_coef: 0.23 - ETA: 12:12 - loss: 0.0259 - dice_coef: 0.23 - ETA: 12:03 - loss: 0.0260 - dice_coef: 0.23 - ETA: 11:53 - loss: 0.0260 - dice_coef: 0.23 - ETA: 11:44 - loss: 0.0260 - dice_coef: 0.23 - ETA: 11:34 - loss: 0.0260 - dice_coef: 0.23 - ETA: 11:24 - loss: 0.0260 - dice_coef: 0.23 - ETA: 11:15 - loss: 0.0260 - dice_coef: 0.23 - ETA: 11:05 - loss: 0.0260 - dice_coef: 0.23 - ETA: 10:55 - loss: 0.0260 - dice_coef: 0.23 - ETA: 10:46 - loss: 0.0260 - dice_coef: 0.23 - ETA: 10:36 - loss: 0.0260 - dice_coef: 0.23 - ETA: 10:26 - loss: 0.0260 - dice_coef: 0.23 - ETA: 10:17 - loss: 0.0259 - dice_coef: 0.23 - ETA: 10:07 - loss: 0.0259 - dice_coef: 0.23 - ETA: 9:58 - loss: 0.0259 - dice_coef: 0.2376 - ETA: 9:48 - loss: 0.0260 - dice_coef: 0.237 - ETA: 9:38 - loss: 0.0259 - dice_coef: 0.237 - ETA: 9:29 - loss: 0.0260 - dice_coef: 0.237 - ETA: 9:19 - loss: 0.0260 - dice_coef: 0.237 - ETA: 9:09 - loss: 0.0261 - dice_coef: 0.237 - ETA: 9:00 - loss: 0.0261 - dice_coef: 0.237 - ETA: 8:50 - loss: 0.0261 - dice_coef: 0.237 - ETA: 8:40 - loss: 0.0261 - dice_coef: 0.237 - ETA: 8:31 - loss: 0.0261 - dice_coef: 0.236 - ETA: 8:21 - loss: 0.0260 - dice_coef: 0.236 - ETA: 8:11 - loss: 0.0260 - dice_coef: 0.236 - ETA: 8:01 - loss: 0.0261 - dice_coef: 0.236 - ETA: 7:52 - loss: 0.0261 - dice_coef: 0.236 - ETA: 7:42 - loss: 0.0261 - dice_coef: 0.236 - ETA: 7:32 - loss: 0.0261 - dice_coef: 0.236 - ETA: 7:22 - loss: 0.0261 - dice_coef: 0.236 - ETA: 7:12 - loss: 0.0261 - dice_coef: 0.236 - ETA: 7:02 - loss: 0.0261 - dice_coef: 0.236 - ETA: 6:52 - loss: 0.0261 - dice_coef: 0.237 - ETA: 6:43 - loss: 0.0261 - dice_coef: 0.236 - ETA: 6:33 - loss: 0.0261 - dice_coef: 0.237 - ETA: 6:23 - loss: 0.0260 - dice_coef: 0.236 - ETA: 6:13 - loss: 0.0261 - dice_coef: 0.236 - ETA: 6:03 - loss: 0.0262 - dice_coef: 0.237 - ETA: 5:53 - loss: 0.0261 - dice_coef: 0.237 - ETA: 5:43 - loss: 0.0261 - dice_coef: 0.237 - ETA: 5:33 - loss: 0.0262 - dice_coef: 0.237 - ETA: 5:23 - loss: 0.0262 - dice_coef: 0.237 - ETA: 5:13 - loss: 0.0262 - dice_coef: 0.237 - ETA: 5:04 - loss: 0.0263 - dice_coef: 0.237 - ETA: 4:54 - loss: 0.0262 - dice_coef: 0.237 - ETA: 4:44 - loss: 0.0262 - dice_coef: 0.237 - ETA: 4:34 - loss: 0.0262 - dice_coef: 0.236 - ETA: 4:24 - loss: 0.0262 - dice_coef: 0.236 - ETA: 4:14 - loss: 0.0262 - dice_coef: 0.236 - ETA: 4:04 - loss: 0.0262 - dice_coef: 0.236 - ETA: 3:55 - loss: 0.0262 - dice_coef: 0.235 - ETA: 3:45 - loss: 0.0262 - dice_coef: 0.235 - ETA: 3:35 - loss: 0.0262 - dice_coef: 0.235 - ETA: 3:25 - loss: 0.0261 - dice_coef: 0.235 - ETA: 3:15 - loss: 0.0262 - dice_coef: 0.235 - ETA: 3:06 - loss: 0.0262 - dice_coef: 0.235 - ETA: 2:56 - loss: 0.0262 - dice_coef: 0.235 - ETA: 2:46 - loss: 0.0262 - dice_coef: 0.234 - ETA: 2:36 - loss: 0.0261 - dice_coef: 0.234 - ETA: 2:26 - loss: 0.0261 - dice_coef: 0.234 - ETA: 2:16 - loss: 0.0261 - dice_coef: 0.234 - ETA: 2:07 - loss: 0.0261 - dice_coef: 0.234 - ETA: 1:57 - loss: 0.0262 - dice_coef: 0.233 - ETA: 1:47 - loss: 0.0262 - dice_coef: 0.234 - ETA: 1:37 - loss: 0.0261 - dice_coef: 0.234 - ETA: 1:27 - loss: 0.0261 - dice_coef: 0.233 - ETA: 1:18 - loss: 0.0261 - dice_coef: 0.233 - ETA: 1:08 - loss: 0.0260 - dice_coef: 0.233 - ETA: 58s - loss: 0.0260 - dice_coef: 0.233 - ETA: 48s - loss: 0.0261 - dice_coef: 0.23 - ETA: 39s - loss: 0.0261 - dice_coef: 0.23 - ETA: 29s - loss: 0.0260 - dice_coef: 0.23 - ETA: 19s - loss: 0.0260 - dice_coef: 0.23 - ETA: 9s - loss: 0.0260 - dice_coef: 0.2337 - 3759s 11s/step - loss: 0.0260 - dice_coef: 0.2340 - val_loss: 0.0126 - val_dice_coef: 0.2509\n",
      "Epoch 9/10\n",
      "354/354 [==============================] - ETA: 1:09:28 - loss: 0.0171 - dice_coef: 0.22 - ETA: 1:06:04 - loss: 0.0207 - dice_coef: 0.25 - ETA: 1:04:20 - loss: 0.0238 - dice_coef: 0.27 - ETA: 1:03:06 - loss: 0.0211 - dice_coef: 0.28 - ETA: 1:02:17 - loss: 0.0224 - dice_coef: 0.28 - ETA: 1:01:59 - loss: 0.0226 - dice_coef: 0.28 - ETA: 1:01:33 - loss: 0.0230 - dice_coef: 0.28 - ETA: 1:01:11 - loss: 0.0221 - dice_coef: 0.27 - ETA: 1:01:11 - loss: 0.0265 - dice_coef: 0.27 - ETA: 1:00:59 - loss: 0.0257 - dice_coef: 0.25 - ETA: 1:00:41 - loss: 0.0254 - dice_coef: 0.25 - ETA: 1:00:28 - loss: 0.0242 - dice_coef: 0.25 - ETA: 59:54 - loss: 0.0232 - dice_coef: 0.2518 - ETA: 59:39 - loss: 0.0242 - dice_coef: 0.25 - ETA: 59:23 - loss: 0.0236 - dice_coef: 0.24 - ETA: 58:47 - loss: 0.0231 - dice_coef: 0.23 - ETA: 58:13 - loss: 0.0226 - dice_coef: 0.23 - ETA: 57:37 - loss: 0.0231 - dice_coef: 0.24 - ETA: 57:09 - loss: 0.0233 - dice_coef: 0.24 - ETA: 56:36 - loss: 0.0230 - dice_coef: 0.24 - ETA: 56:09 - loss: 0.0226 - dice_coef: 0.24 - ETA: 55:44 - loss: 0.0236 - dice_coef: 0.24 - ETA: 55:19 - loss: 0.0238 - dice_coef: 0.24 - ETA: 55:00 - loss: 0.0254 - dice_coef: 0.24 - ETA: 54:39 - loss: 0.0258 - dice_coef: 0.24 - ETA: 54:22 - loss: 0.0264 - dice_coef: 0.24 - ETA: 54:02 - loss: 0.0265 - dice_coef: 0.24 - ETA: 53:44 - loss: 0.0265 - dice_coef: 0.23 - ETA: 53:27 - loss: 0.0260 - dice_coef: 0.22 - ETA: 53:09 - loss: 0.0260 - dice_coef: 0.22 - ETA: 52:53 - loss: 0.0266 - dice_coef: 0.23 - ETA: 52:35 - loss: 0.0265 - dice_coef: 0.22 - ETA: 52:21 - loss: 0.0264 - dice_coef: 0.22 - ETA: 52:05 - loss: 0.0261 - dice_coef: 0.23 - ETA: 51:50 - loss: 0.0276 - dice_coef: 0.22 - ETA: 51:39 - loss: 0.0281 - dice_coef: 0.23 - ETA: 51:25 - loss: 0.0282 - dice_coef: 0.23 - ETA: 51:13 - loss: 0.0280 - dice_coef: 0.23 - ETA: 50:59 - loss: 0.0280 - dice_coef: 0.23 - ETA: 50:46 - loss: 0.0281 - dice_coef: 0.23 - ETA: 50:32 - loss: 0.0281 - dice_coef: 0.23 - ETA: 50:18 - loss: 0.0280 - dice_coef: 0.23 - ETA: 50:05 - loss: 0.0277 - dice_coef: 0.23 - ETA: 49:51 - loss: 0.0278 - dice_coef: 0.23 - ETA: 49:44 - loss: 0.0276 - dice_coef: 0.23 - ETA: 49:42 - loss: 0.0273 - dice_coef: 0.23 - ETA: 49:34 - loss: 0.0271 - dice_coef: 0.23 - ETA: 49:30 - loss: 0.0274 - dice_coef: 0.23 - ETA: 49:19 - loss: 0.0283 - dice_coef: 0.23 - ETA: 49:06 - loss: 0.0283 - dice_coef: 0.23 - ETA: 48:55 - loss: 0.0282 - dice_coef: 0.23 - ETA: 48:42 - loss: 0.0282 - dice_coef: 0.23 - ETA: 48:31 - loss: 0.0279 - dice_coef: 0.23 - ETA: 48:18 - loss: 0.0276 - dice_coef: 0.23 - ETA: 48:06 - loss: 0.0275 - dice_coef: 0.23 - ETA: 47:53 - loss: 0.0276 - dice_coef: 0.23 - ETA: 47:41 - loss: 0.0274 - dice_coef: 0.23 - ETA: 47:30 - loss: 0.0282 - dice_coef: 0.23 - ETA: 47:17 - loss: 0.0281 - dice_coef: 0.23 - ETA: 47:07 - loss: 0.0281 - dice_coef: 0.23 - ETA: 46:55 - loss: 0.0279 - dice_coef: 0.23 - ETA: 46:43 - loss: 0.0280 - dice_coef: 0.23 - ETA: 46:30 - loss: 0.0278 - dice_coef: 0.23 - ETA: 46:20 - loss: 0.0275 - dice_coef: 0.23 - ETA: 46:09 - loss: 0.0273 - dice_coef: 0.23 - ETA: 46:01 - loss: 0.0273 - dice_coef: 0.23 - ETA: 45:55 - loss: 0.0273 - dice_coef: 0.23 - ETA: 45:49 - loss: 0.0277 - dice_coef: 0.23 - ETA: 45:42 - loss: 0.0275 - dice_coef: 0.23 - ETA: 45:37 - loss: 0.0275 - dice_coef: 0.23 - ETA: 45:29 - loss: 0.0275 - dice_coef: 0.23 - ETA: 45:23 - loss: 0.0279 - dice_coef: 0.23 - ETA: 45:16 - loss: 0.0278 - dice_coef: 0.23 - ETA: 45:09 - loss: 0.0278 - dice_coef: 0.23 - ETA: 45:02 - loss: 0.0278 - dice_coef: 0.23 - ETA: 44:55 - loss: 0.0277 - dice_coef: 0.23 - ETA: 44:47 - loss: 0.0276 - dice_coef: 0.23 - ETA: 44:40 - loss: 0.0276 - dice_coef: 0.23 - ETA: 44:32 - loss: 0.0275 - dice_coef: 0.23 - ETA: 44:24 - loss: 0.0273 - dice_coef: 0.23 - ETA: 44:16 - loss: 0.0271 - dice_coef: 0.23 - ETA: 44:09 - loss: 0.0270 - dice_coef: 0.23 - ETA: 44:00 - loss: 0.0271 - dice_coef: 0.23 - ETA: 43:52 - loss: 0.0272 - dice_coef: 0.23 - ETA: 43:44 - loss: 0.0272 - dice_coef: 0.23 - ETA: 43:36 - loss: 0.0272 - dice_coef: 0.23 - ETA: 43:30 - loss: 0.0270 - dice_coef: 0.23 - ETA: 43:20 - loss: 0.0272 - dice_coef: 0.23 - ETA: 43:12 - loss: 0.0271 - dice_coef: 0.23 - ETA: 43:04 - loss: 0.0270 - dice_coef: 0.23 - ETA: 42:55 - loss: 0.0270 - dice_coef: 0.23 - ETA: 42:47 - loss: 0.0268 - dice_coef: 0.23 - ETA: 42:39 - loss: 0.0267 - dice_coef: 0.23 - ETA: 42:33 - loss: 0.0267 - dice_coef: 0.23 - ETA: 42:25 - loss: 0.0270 - dice_coef: 0.23 - ETA: 42:17 - loss: 0.0270 - dice_coef: 0.23 - ETA: 42:11 - loss: 0.0271 - dice_coef: 0.23 - ETA: 42:14 - loss: 0.0270 - dice_coef: 0.23 - ETA: 42:11 - loss: 0.0271 - dice_coef: 0.23 - ETA: 42:06 - loss: 0.0272 - dice_coef: 0.23 - ETA: 41:59 - loss: 0.0273 - dice_coef: 0.23 - ETA: 41:51 - loss: 0.0272 - dice_coef: 0.23 - ETA: 41:41 - loss: 0.0271 - dice_coef: 0.23 - ETA: 41:29 - loss: 0.0271 - dice_coef: 0.23 - ETA: 41:17 - loss: 0.0269 - dice_coef: 0.23 - ETA: 41:06 - loss: 0.0268 - dice_coef: 0.23 - ETA: 40:54 - loss: 0.0269 - dice_coef: 0.23 - ETA: 40:43 - loss: 0.0269 - dice_coef: 0.23 - ETA: 40:31 - loss: 0.0268 - dice_coef: 0.23 - ETA: 40:19 - loss: 0.0273 - dice_coef: 0.23 - ETA: 40:08 - loss: 0.0273 - dice_coef: 0.23 - ETA: 39:56 - loss: 0.0274 - dice_coef: 0.23 - ETA: 39:45 - loss: 0.0274 - dice_coef: 0.23 - ETA: 39:33 - loss: 0.0273 - dice_coef: 0.23 - ETA: 39:22 - loss: 0.0274 - dice_coef: 0.23 - ETA: 39:11 - loss: 0.0273 - dice_coef: 0.23 - ETA: 38:59 - loss: 0.0273 - dice_coef: 0.23 - ETA: 38:48 - loss: 0.0272 - dice_coef: 0.23 - ETA: 38:37 - loss: 0.0273 - dice_coef: 0.23 - ETA: 38:26 - loss: 0.0274 - dice_coef: 0.23 - ETA: 38:14 - loss: 0.0276 - dice_coef: 0.23 - ETA: 38:04 - loss: 0.0275 - dice_coef: 0.23 - ETA: 37:53 - loss: 0.0274 - dice_coef: 0.22 - ETA: 37:41 - loss: 0.0273 - dice_coef: 0.22 - ETA: 37:30 - loss: 0.0273 - dice_coef: 0.22 - ETA: 37:19 - loss: 0.0273 - dice_coef: 0.22 - ETA: 37:08 - loss: 0.0273 - dice_coef: 0.22 - ETA: 36:57 - loss: 0.0273 - dice_coef: 0.22 - ETA: 36:47 - loss: 0.0273 - dice_coef: 0.22 - ETA: 36:36 - loss: 0.0272 - dice_coef: 0.22 - ETA: 36:27 - loss: 0.0275 - dice_coef: 0.22 - ETA: 36:16 - loss: 0.0275 - dice_coef: 0.22 - ETA: 36:06 - loss: 0.0274 - dice_coef: 0.22 - ETA: 35:56 - loss: 0.0273 - dice_coef: 0.22 - ETA: 35:45 - loss: 0.0275 - dice_coef: 0.22 - ETA: 35:35 - loss: 0.0275 - dice_coef: 0.22 - ETA: 35:24 - loss: 0.0275 - dice_coef: 0.22 - ETA: 35:14 - loss: 0.0275 - dice_coef: 0.22 - ETA: 35:04 - loss: 0.0274 - dice_coef: 0.22 - ETA: 34:53 - loss: 0.0274 - dice_coef: 0.23 - ETA: 34:42 - loss: 0.0273 - dice_coef: 0.23 - ETA: 34:31 - loss: 0.0274 - dice_coef: 0.22 - ETA: 34:21 - loss: 0.0274 - dice_coef: 0.23 - ETA: 34:10 - loss: 0.0273 - dice_coef: 0.23 - ETA: 33:59 - loss: 0.0273 - dice_coef: 0.23 - ETA: 33:49 - loss: 0.0273 - dice_coef: 0.23 - ETA: 33:38 - loss: 0.0272 - dice_coef: 0.23 - ETA: 33:28 - loss: 0.0272 - dice_coef: 0.23 - ETA: 33:17 - loss: 0.0271 - dice_coef: 0.22 - ETA: 33:07 - loss: 0.0270 - dice_coef: 0.22 - ETA: 32:56 - loss: 0.0269 - dice_coef: 0.22 - ETA: 32:46 - loss: 0.0269 - dice_coef: 0.22 - ETA: 32:35 - loss: 0.0268 - dice_coef: 0.22 - ETA: 32:25 - loss: 0.0267 - dice_coef: 0.22 - ETA: 32:15 - loss: 0.0269 - dice_coef: 0.22 - ETA: 32:04 - loss: 0.0269 - dice_coef: 0.22 - ETA: 31:54 - loss: 0.0269 - dice_coef: 0.22 - ETA: 31:46 - loss: 0.0269 - dice_coef: 0.22 - ETA: 31:36 - loss: 0.0269 - dice_coef: 0.22 - ETA: 31:28 - loss: 0.0269 - dice_coef: 0.23 - ETA: 31:19 - loss: 0.0270 - dice_coef: 0.23 - ETA: 31:10 - loss: 0.0270 - dice_coef: 0.22 - ETA: 31:02 - loss: 0.0270 - dice_coef: 0.23 - ETA: 30:53 - loss: 0.0270 - dice_coef: 0.23 - ETA: 30:44 - loss: 0.0269 - dice_coef: 0.23 - ETA: 30:35 - loss: 0.0269 - dice_coef: 0.23 - ETA: 30:26 - loss: 0.0268 - dice_coef: 0.23 - ETA: 30:17 - loss: 0.0267 - dice_coef: 0.23 - ETA: 30:08 - loss: 0.0267 - dice_coef: 0.23 - ETA: 29:59 - loss: 0.0268 - dice_coef: 0.23 - ETA: 29:50 - loss: 0.0268 - dice_coef: 0.23 - ETA: 29:41 - loss: 0.0267 - dice_coef: 0.22 - ETA: 29:32 - loss: 0.0267 - dice_coef: 0.22 - ETA: 29:23 - loss: 0.0267 - dice_coef: 0.22 - ETA: 29:14 - loss: 0.0268 - dice_coef: 0.22 - ETA: 29:05 - loss: 0.0268 - dice_coef: 0.22 - ETA: 28:55 - loss: 0.0267 - dice_coef: 0.22 - ETA: 28:46 - loss: 0.0267 - dice_coef: 0.23 - ETA: 28:37 - loss: 0.0267 - dice_coef: 0.23 - ETA: 28:28 - loss: 0.0267 - dice_coef: 0.23 - ETA: 28:19 - loss: 0.0268 - dice_coef: 0.23 - ETA: 28:09 - loss: 0.0268 - dice_coef: 0.23 - ETA: 28:00 - loss: 0.0268 - dice_coef: 0.23 - ETA: 27:51 - loss: 0.0268 - dice_coef: 0.23 - ETA: 27:41 - loss: 0.0268 - dice_coef: 0.23 - ETA: 27:33 - loss: 0.0267 - dice_coef: 0.23 - ETA: 27:24 - loss: 0.0269 - dice_coef: 0.23 - ETA: 27:14 - loss: 0.0268 - dice_coef: 0.23 - ETA: 27:05 - loss: 0.0269 - dice_coef: 0.23 - ETA: 26:56 - loss: 0.0268 - dice_coef: 0.23 - ETA: 26:46 - loss: 0.0268 - dice_coef: 0.23 - ETA: 26:35 - loss: 0.0267 - dice_coef: 0.23 - ETA: 26:25 - loss: 0.0267 - dice_coef: 0.23 - ETA: 26:15 - loss: 0.0267 - dice_coef: 0.23 - ETA: 26:05 - loss: 0.0266 - dice_coef: 0.23 - ETA: 25:54 - loss: 0.0268 - dice_coef: 0.23 - ETA: 25:44 - loss: 0.0268 - dice_coef: 0.23 - ETA: 25:34 - loss: 0.0268 - dice_coef: 0.23 - ETA: 25:23 - loss: 0.0268 - dice_coef: 0.23 - ETA: 25:13 - loss: 0.0267 - dice_coef: 0.23 - ETA: 25:02 - loss: 0.0266 - dice_coef: 0.23 - ETA: 24:52 - loss: 0.0266 - dice_coef: 0.23 - ETA: 24:42 - loss: 0.0266 - dice_coef: 0.23 - ETA: 24:32 - loss: 0.0266 - dice_coef: 0.23 - ETA: 24:21 - loss: 0.0265 - dice_coef: 0.23 - ETA: 24:11 - loss: 0.0265 - dice_coef: 0.23 - ETA: 24:01 - loss: 0.0266 - dice_coef: 0.23 - ETA: 23:50 - loss: 0.0265 - dice_coef: 0.23 - ETA: 23:40 - loss: 0.0266 - dice_coef: 0.23 - ETA: 23:30 - loss: 0.0265 - dice_coef: 0.23 - ETA: 23:20 - loss: 0.0265 - dice_coef: 0.23 - ETA: 23:10 - loss: 0.0265 - dice_coef: 0.23 - ETA: 22:59 - loss: 0.0264 - dice_coef: 0.23 - ETA: 22:49 - loss: 0.0264 - dice_coef: 0.23 - ETA: 22:39 - loss: 0.0264 - dice_coef: 0.23 - ETA: 22:29 - loss: 0.0265 - dice_coef: 0.23 - ETA: 22:19 - loss: 0.0264 - dice_coef: 0.23 - ETA: 22:09 - loss: 0.0263 - dice_coef: 0.23 - ETA: 21:59 - loss: 0.0264 - dice_coef: 0.23 - ETA: 21:49 - loss: 0.0264 - dice_coef: 0.23 - ETA: 21:39 - loss: 0.0263 - dice_coef: 0.23 - ETA: 21:29 - loss: 0.0263 - dice_coef: 0.23 - ETA: 21:19 - loss: 0.0262 - dice_coef: 0.23 - ETA: 21:09 - loss: 0.0262 - dice_coef: 0.23 - ETA: 21:00 - loss: 0.0261 - dice_coef: 0.23 - ETA: 20:50 - loss: 0.0262 - dice_coef: 0.23 - ETA: 20:40 - loss: 0.0262 - dice_coef: 0.23 - ETA: 20:30 - loss: 0.0262 - dice_coef: 0.23 - ETA: 20:20 - loss: 0.0262 - dice_coef: 0.23 - ETA: 20:10 - loss: 0.0262 - dice_coef: 0.23 - ETA: 20:00 - loss: 0.0263 - dice_coef: 0.23 - ETA: 19:50 - loss: 0.0263 - dice_coef: 0.23 - ETA: 19:40 - loss: 0.0263 - dice_coef: 0.23 - ETA: 19:30 - loss: 0.0263 - dice_coef: 0.23 - ETA: 19:20 - loss: 0.0263 - dice_coef: 0.23 - ETA: 19:10 - loss: 0.0263 - dice_coef: 0.23 - ETA: 19:00 - loss: 0.0263 - dice_coef: 0.23 - ETA: 18:50 - loss: 0.0262 - dice_coef: 0.23 - ETA: 18:40 - loss: 0.0262 - dice_coef: 0.23 - ETA: 18:30 - loss: 0.0261 - dice_coef: 0.23 - ETA: 18:20 - loss: 0.0261 - dice_coef: 0.23 - ETA: 18:10 - loss: 0.0260 - dice_coef: 0.23 - ETA: 18:00 - loss: 0.0261 - dice_coef: 0.23 - ETA: 17:50 - loss: 0.0260 - dice_coef: 0.23 - ETA: 17:40 - loss: 0.0259 - dice_coef: 0.23 - ETA: 17:30 - loss: 0.0260 - dice_coef: 0.23 - ETA: 17:20 - loss: 0.0260 - dice_coef: 0.23 - ETA: 17:10 - loss: 0.0259 - dice_coef: 0.23 - ETA: 17:00 - loss: 0.0259 - dice_coef: 0.23 - ETA: 16:51 - loss: 0.0259 - dice_coef: 0.23 - ETA: 16:41 - loss: 0.0259 - dice_coef: 0.23 - ETA: 16:32 - loss: 0.0259 - dice_coef: 0.23 - ETA: 16:22 - loss: 0.0258 - dice_coef: 0.23 - ETA: 16:13 - loss: 0.0258 - dice_coef: 0.23 - ETA: 16:04 - loss: 0.0257 - dice_coef: 0.23 - ETA: 15:54 - loss: 0.0257 - dice_coef: 0.23 - ETA: 15:45 - loss: 0.0257 - dice_coef: 0.23 - ETA: 15:35 - loss: 0.0257 - dice_coef: 0.23 - ETA: 15:26 - loss: 0.0257 - dice_coef: 0.23 - ETA: 15:16 - loss: 0.0256 - dice_coef: 0.23 - ETA: 15:07 - loss: 0.0257 - dice_coef: 0.23 - ETA: 14:57 - loss: 0.0256 - dice_coef: 0.23 - ETA: 14:48 - loss: 0.0256 - dice_coef: 0.23 - ETA: 14:38 - loss: 0.0256 - dice_coef: 0.23 - ETA: 14:28 - loss: 0.0256 - dice_coef: 0.23 - ETA: 14:19 - loss: 0.0256 - dice_coef: 0.23 - ETA: 14:10 - loss: 0.0257 - dice_coef: 0.23 - ETA: 14:00 - loss: 0.0256 - dice_coef: 0.23 - ETA: 13:51 - loss: 0.0256 - dice_coef: 0.23 - ETA: 13:41 - loss: 0.0255 - dice_coef: 0.23 - ETA: 13:31 - loss: 0.0257 - dice_coef: 0.23 - ETA: 13:22 - loss: 0.0257 - dice_coef: 0.23 - ETA: 13:12 - loss: 0.0256 - dice_coef: 0.23 - ETA: 13:03 - loss: 0.0256 - dice_coef: 0.23 - ETA: 12:53 - loss: 0.0255 - dice_coef: 0.23 - ETA: 12:44 - loss: 0.0255 - dice_coef: 0.23 - ETA: 12:34 - loss: 0.0255 - dice_coef: 0.23 - ETA: 12:24 - loss: 0.0255 - dice_coef: 0.23 - ETA: 12:15 - loss: 0.0255 - dice_coef: 0.23 - ETA: 12:05 - loss: 0.0255 - dice_coef: 0.23 - ETA: 11:56 - loss: 0.0255 - dice_coef: 0.23 - ETA: 11:46 - loss: 0.0256 - dice_coef: 0.23 - ETA: 11:37 - loss: 0.0255 - dice_coef: 0.23 - ETA: 11:27 - loss: 0.0255 - dice_coef: 0.23 - ETA: 11:18 - loss: 0.0255 - dice_coef: 0.23 - ETA: 11:08 - loss: 0.0255 - dice_coef: 0.23 - ETA: 10:58 - loss: 0.0256 - dice_coef: 0.23 - ETA: 10:49 - loss: 0.0256 - dice_coef: 0.23 - ETA: 10:39 - loss: 0.0256 - dice_coef: 0.24 - ETA: 10:29 - loss: 0.0256 - dice_coef: 0.23 - ETA: 10:19 - loss: 0.0256 - dice_coef: 0.23 - ETA: 10:09 - loss: 0.0256 - dice_coef: 0.23 - ETA: 9:59 - loss: 0.0256 - dice_coef: 0.2395 - ETA: 9:49 - loss: 0.0258 - dice_coef: 0.239 - ETA: 9:39 - loss: 0.0258 - dice_coef: 0.239 - ETA: 9:29 - loss: 0.0258 - dice_coef: 0.239 - ETA: 9:19 - loss: 0.0258 - dice_coef: 0.239 - ETA: 9:09 - loss: 0.0258 - dice_coef: 0.238 - ETA: 8:59 - loss: 0.0258 - dice_coef: 0.238 - ETA: 8:49 - loss: 0.0257 - dice_coef: 0.237 - ETA: 8:39 - loss: 0.0257 - dice_coef: 0.237 - ETA: 8:30 - loss: 0.0257 - dice_coef: 0.236 - ETA: 8:20 - loss: 0.0256 - dice_coef: 0.236 - ETA: 8:10 - loss: 0.0256 - dice_coef: 0.236 - ETA: 8:00 - loss: 0.0257 - dice_coef: 0.236 - ETA: 7:50 - loss: 0.0257 - dice_coef: 0.236 - ETA: 7:41 - loss: 0.0257 - dice_coef: 0.236 - ETA: 7:31 - loss: 0.0258 - dice_coef: 0.236 - ETA: 7:21 - loss: 0.0258 - dice_coef: 0.236 - ETA: 7:11 - loss: 0.0258 - dice_coef: 0.237 - ETA: 7:01 - loss: 0.0258 - dice_coef: 0.237 - ETA: 6:51 - loss: 0.0259 - dice_coef: 0.236 - ETA: 6:42 - loss: 0.0260 - dice_coef: 0.236 - ETA: 6:32 - loss: 0.0260 - dice_coef: 0.236 - ETA: 6:22 - loss: 0.0260 - dice_coef: 0.236 - ETA: 6:12 - loss: 0.0260 - dice_coef: 0.236 - ETA: 6:03 - loss: 0.0260 - dice_coef: 0.236 - ETA: 5:53 - loss: 0.0260 - dice_coef: 0.236 - ETA: 5:43 - loss: 0.0259 - dice_coef: 0.237 - ETA: 5:33 - loss: 0.0260 - dice_coef: 0.236 - ETA: 5:23 - loss: 0.0260 - dice_coef: 0.237 - ETA: 5:14 - loss: 0.0260 - dice_coef: 0.237 - ETA: 5:04 - loss: 0.0259 - dice_coef: 0.236 - ETA: 4:54 - loss: 0.0260 - dice_coef: 0.236 - ETA: 4:44 - loss: 0.0260 - dice_coef: 0.236 - ETA: 4:35 - loss: 0.0261 - dice_coef: 0.236 - ETA: 4:25 - loss: 0.0260 - dice_coef: 0.236 - ETA: 4:15 - loss: 0.0260 - dice_coef: 0.236 - ETA: 4:05 - loss: 0.0260 - dice_coef: 0.236 - ETA: 3:55 - loss: 0.0260 - dice_coef: 0.236 - ETA: 3:45 - loss: 0.0260 - dice_coef: 0.236 - ETA: 3:36 - loss: 0.0259 - dice_coef: 0.235 - ETA: 3:26 - loss: 0.0259 - dice_coef: 0.235 - ETA: 3:16 - loss: 0.0259 - dice_coef: 0.236 - ETA: 3:06 - loss: 0.0259 - dice_coef: 0.236 - ETA: 2:56 - loss: 0.0259 - dice_coef: 0.236 - ETA: 2:47 - loss: 0.0259 - dice_coef: 0.236 - ETA: 2:37 - loss: 0.0258 - dice_coef: 0.235 - ETA: 2:27 - loss: 0.0259 - dice_coef: 0.236 - ETA: 2:17 - loss: 0.0258 - dice_coef: 0.235 - ETA: 2:07 - loss: 0.0258 - dice_coef: 0.235 - ETA: 1:58 - loss: 0.0258 - dice_coef: 0.235 - ETA: 1:48 - loss: 0.0259 - dice_coef: 0.235 - ETA: 1:38 - loss: 0.0258 - dice_coef: 0.235 - ETA: 1:28 - loss: 0.0258 - dice_coef: 0.235 - ETA: 1:19 - loss: 0.0258 - dice_coef: 0.235 - ETA: 1:09 - loss: 0.0259 - dice_coef: 0.235 - ETA: 59s - loss: 0.0258 - dice_coef: 0.235 - ETA: 49s - loss: 0.0258 - dice_coef: 0.23 - ETA: 39s - loss: 0.0258 - dice_coef: 0.23 - ETA: 29s - loss: 0.0258 - dice_coef: 0.23 - ETA: 19s - loss: 0.0259 - dice_coef: 0.23 - ETA: 9s - loss: 0.0260 - dice_coef: 0.2355 - 3844s 11s/step - loss: 0.0260 - dice_coef: 0.2357 - val_loss: 0.0135 - val_dice_coef: 0.2110\n",
      "Epoch 10/10\n",
      "354/354 [==============================] - ETA: 1:08:01 - loss: 0.0241 - dice_coef: 0.30 - ETA: 1:02:51 - loss: 0.0292 - dice_coef: 0.22 - ETA: 59:59 - loss: 0.0308 - dice_coef: 0.2431 - ETA: 58:34 - loss: 0.0316 - dice_coef: 0.24 - ETA: 58:08 - loss: 0.0316 - dice_coef: 0.23 - ETA: 57:51 - loss: 0.0324 - dice_coef: 0.24 - ETA: 57:52 - loss: 0.0304 - dice_coef: 0.25 - ETA: 57:20 - loss: 0.0296 - dice_coef: 0.27 - ETA: 57:14 - loss: 0.0276 - dice_coef: 0.24 - ETA: 56:43 - loss: 0.0266 - dice_coef: 0.25 - ETA: 56:45 - loss: 0.0263 - dice_coef: 0.25 - ETA: 56:21 - loss: 0.0256 - dice_coef: 0.23 - ETA: 56:36 - loss: 0.0287 - dice_coef: 0.25 - ETA: 56:23 - loss: 0.0293 - dice_coef: 0.24 - ETA: 56:34 - loss: 0.0286 - dice_coef: 0.25 - ETA: 56:14 - loss: 0.0287 - dice_coef: 0.26 - ETA: 56:11 - loss: 0.0289 - dice_coef: 0.26 - ETA: 56:10 - loss: 0.0282 - dice_coef: 0.27 - ETA: 55:52 - loss: 0.0276 - dice_coef: 0.26 - ETA: 55:30 - loss: 0.0268 - dice_coef: 0.26 - ETA: 55:08 - loss: 0.0270 - dice_coef: 0.26 - ETA: 54:48 - loss: 0.0273 - dice_coef: 0.26 - ETA: 54:26 - loss: 0.0278 - dice_coef: 0.25 - ETA: 54:12 - loss: 0.0279 - dice_coef: 0.25 - ETA: 53:52 - loss: 0.0275 - dice_coef: 0.25 - ETA: 53:33 - loss: 0.0279 - dice_coef: 0.26 - ETA: 53:14 - loss: 0.0280 - dice_coef: 0.25 - ETA: 52:58 - loss: 0.0283 - dice_coef: 0.25 - ETA: 52:46 - loss: 0.0279 - dice_coef: 0.25 - ETA: 52:29 - loss: 0.0273 - dice_coef: 0.25 - ETA: 52:18 - loss: 0.0269 - dice_coef: 0.25 - ETA: 52:04 - loss: 0.0271 - dice_coef: 0.25 - ETA: 51:48 - loss: 0.0269 - dice_coef: 0.25 - ETA: 51:33 - loss: 0.0268 - dice_coef: 0.25 - ETA: 51:17 - loss: 0.0268 - dice_coef: 0.25 - ETA: 51:05 - loss: 0.0267 - dice_coef: 0.24 - ETA: 50:50 - loss: 0.0264 - dice_coef: 0.24 - ETA: 50:39 - loss: 0.0264 - dice_coef: 0.24 - ETA: 50:24 - loss: 0.0261 - dice_coef: 0.24 - ETA: 50:10 - loss: 0.0258 - dice_coef: 0.24 - ETA: 49:59 - loss: 0.0256 - dice_coef: 0.24 - ETA: 49:51 - loss: 0.0251 - dice_coef: 0.24 - ETA: 49:47 - loss: 0.0248 - dice_coef: 0.24 - ETA: 49:40 - loss: 0.0246 - dice_coef: 0.25 - ETA: 49:37 - loss: 0.0243 - dice_coef: 0.25 - ETA: 49:33 - loss: 0.0248 - dice_coef: 0.25 - ETA: 49:30 - loss: 0.0245 - dice_coef: 0.25 - ETA: 49:32 - loss: 0.0248 - dice_coef: 0.25 - ETA: 49:31 - loss: 0.0245 - dice_coef: 0.25 - ETA: 49:30 - loss: 0.0244 - dice_coef: 0.25 - ETA: 49:23 - loss: 0.0243 - dice_coef: 0.25 - ETA: 49:17 - loss: 0.0243 - dice_coef: 0.25 - ETA: 49:10 - loss: 0.0247 - dice_coef: 0.25 - ETA: 49:04 - loss: 0.0246 - dice_coef: 0.25 - ETA: 48:58 - loss: 0.0247 - dice_coef: 0.25 - ETA: 48:51 - loss: 0.0250 - dice_coef: 0.25 - ETA: 48:44 - loss: 0.0253 - dice_coef: 0.26 - ETA: 48:41 - loss: 0.0251 - dice_coef: 0.25 - ETA: 48:33 - loss: 0.0251 - dice_coef: 0.25 - ETA: 48:25 - loss: 0.0249 - dice_coef: 0.25 - ETA: 48:19 - loss: 0.0252 - dice_coef: 0.25 - ETA: 48:09 - loss: 0.0255 - dice_coef: 0.25 - ETA: 48:00 - loss: 0.0254 - dice_coef: 0.25 - ETA: 47:53 - loss: 0.0253 - dice_coef: 0.25 - ETA: 47:44 - loss: 0.0255 - dice_coef: 0.25 - ETA: 47:37 - loss: 0.0252 - dice_coef: 0.24 - ETA: 47:29 - loss: 0.0251 - dice_coef: 0.24 - ETA: 47:20 - loss: 0.0250 - dice_coef: 0.24 - ETA: 47:12 - loss: 0.0249 - dice_coef: 0.24 - ETA: 47:03 - loss: 0.0248 - dice_coef: 0.24 - ETA: 46:55 - loss: 0.0251 - dice_coef: 0.24 - ETA: 46:47 - loss: 0.0254 - dice_coef: 0.24 - ETA: 46:37 - loss: 0.0255 - dice_coef: 0.24 - ETA: 46:30 - loss: 0.0254 - dice_coef: 0.24 - ETA: 46:22 - loss: 0.0255 - dice_coef: 0.24 - ETA: 46:14 - loss: 0.0255 - dice_coef: 0.24 - ETA: 46:10 - loss: 0.0258 - dice_coef: 0.24 - ETA: 46:08 - loss: 0.0257 - dice_coef: 0.24 - ETA: 46:02 - loss: 0.0260 - dice_coef: 0.24 - ETA: 45:54 - loss: 0.0260 - dice_coef: 0.24 - ETA: 45:57 - loss: 0.0261 - dice_coef: 0.24 - ETA: 45:57 - loss: 0.0262 - dice_coef: 0.24 - ETA: 45:56 - loss: 0.0261 - dice_coef: 0.24 - ETA: 45:52 - loss: 0.0260 - dice_coef: 0.24 - ETA: 45:48 - loss: 0.0260 - dice_coef: 0.24 - ETA: 45:46 - loss: 0.0258 - dice_coef: 0.24 - ETA: 45:43 - loss: 0.0260 - dice_coef: 0.24 - ETA: 45:35 - loss: 0.0264 - dice_coef: 0.24 - ETA: 45:27 - loss: 0.0263 - dice_coef: 0.24 - ETA: 45:19 - loss: 0.0263 - dice_coef: 0.24 - ETA: 45:11 - loss: 0.0262 - dice_coef: 0.24 - ETA: 45:02 - loss: 0.0262 - dice_coef: 0.23 - ETA: 44:54 - loss: 0.0261 - dice_coef: 0.24 - ETA: 44:47 - loss: 0.0262 - dice_coef: 0.23 - ETA: 44:38 - loss: 0.0261 - dice_coef: 0.23 - ETA: 44:29 - loss: 0.0260 - dice_coef: 0.24 - ETA: 44:21 - loss: 0.0262 - dice_coef: 0.24 - ETA: 44:13 - loss: 0.0262 - dice_coef: 0.24 - ETA: 44:04 - loss: 0.0260 - dice_coef: 0.24 - ETA: 43:56 - loss: 0.0260 - dice_coef: 0.24 - ETA: 43:48 - loss: 0.0258 - dice_coef: 0.24 - ETA: 43:39 - loss: 0.0258 - dice_coef: 0.24 - ETA: 43:30 - loss: 0.0257 - dice_coef: 0.24 - ETA: 43:22 - loss: 0.0259 - dice_coef: 0.24 - ETA: 43:16 - loss: 0.0259 - dice_coef: 0.24 - ETA: 43:07 - loss: 0.0258 - dice_coef: 0.24 - ETA: 42:58 - loss: 0.0258 - dice_coef: 0.24 - ETA: 42:49 - loss: 0.0258 - dice_coef: 0.24 - ETA: 42:40 - loss: 0.0258 - dice_coef: 0.24 - ETA: 42:31 - loss: 0.0256 - dice_coef: 0.24 - ETA: 42:23 - loss: 0.0255 - dice_coef: 0.24 - ETA: 42:11 - loss: 0.0256 - dice_coef: 0.24 - ETA: 41:59 - loss: 0.0255 - dice_coef: 0.24 - ETA: 41:47 - loss: 0.0255 - dice_coef: 0.24 - ETA: 41:35 - loss: 0.0255 - dice_coef: 0.24 - ETA: 41:24 - loss: 0.0254 - dice_coef: 0.24 - ETA: 41:12 - loss: 0.0254 - dice_coef: 0.24 - ETA: 41:01 - loss: 0.0257 - dice_coef: 0.24 - ETA: 40:50 - loss: 0.0257 - dice_coef: 0.24 - ETA: 40:38 - loss: 0.0256 - dice_coef: 0.24 - ETA: 40:27 - loss: 0.0256 - dice_coef: 0.24 - ETA: 40:16 - loss: 0.0258 - dice_coef: 0.24 - ETA: 40:04 - loss: 0.0259 - dice_coef: 0.24 - ETA: 39:56 - loss: 0.0259 - dice_coef: 0.24 - ETA: 39:47 - loss: 0.0259 - dice_coef: 0.24 - ETA: 39:39 - loss: 0.0259 - dice_coef: 0.24 - ETA: 39:30 - loss: 0.0259 - dice_coef: 0.24 - ETA: 39:22 - loss: 0.0258 - dice_coef: 0.24 - ETA: 39:13 - loss: 0.0258 - dice_coef: 0.24 - ETA: 39:04 - loss: 0.0257 - dice_coef: 0.24 - ETA: 38:58 - loss: 0.0258 - dice_coef: 0.24 - ETA: 38:50 - loss: 0.0257 - dice_coef: 0.24 - ETA: 38:42 - loss: 0.0256 - dice_coef: 0.24 - ETA: 38:34 - loss: 0.0256 - dice_coef: 0.24 - ETA: 38:25 - loss: 0.0259 - dice_coef: 0.24 - ETA: 38:17 - loss: 0.0258 - dice_coef: 0.24 - ETA: 38:09 - loss: 0.0259 - dice_coef: 0.24 - ETA: 37:59 - loss: 0.0259 - dice_coef: 0.24 - ETA: 37:51 - loss: 0.0258 - dice_coef: 0.24 - ETA: 37:43 - loss: 0.0258 - dice_coef: 0.24 - ETA: 37:36 - loss: 0.0257 - dice_coef: 0.24 - ETA: 37:28 - loss: 0.0257 - dice_coef: 0.24 - ETA: 37:24 - loss: 0.0257 - dice_coef: 0.24 - ETA: 37:17 - loss: 0.0257 - dice_coef: 0.25 - ETA: 37:12 - loss: 0.0257 - dice_coef: 0.25 - ETA: 37:06 - loss: 0.0256 - dice_coef: 0.25 - ETA: 37:00 - loss: 0.0258 - dice_coef: 0.25 - ETA: 36:53 - loss: 0.0258 - dice_coef: 0.25 - ETA: 36:46 - loss: 0.0260 - dice_coef: 0.25 - ETA: 36:39 - loss: 0.0259 - dice_coef: 0.25 - ETA: 36:33 - loss: 0.0260 - dice_coef: 0.25 - ETA: 36:27 - loss: 0.0261 - dice_coef: 0.25 - ETA: 36:22 - loss: 0.0261 - dice_coef: 0.25 - ETA: 36:15 - loss: 0.0260 - dice_coef: 0.25 - ETA: 36:08 - loss: 0.0259 - dice_coef: 0.24 - ETA: 36:02 - loss: 0.0258 - dice_coef: 0.25 - ETA: 35:56 - loss: 0.0258 - dice_coef: 0.24 - ETA: 35:48 - loss: 0.0258 - dice_coef: 0.24 - ETA: 35:44 - loss: 0.0259 - dice_coef: 0.24 - ETA: 35:37 - loss: 0.0259 - dice_coef: 0.24 - ETA: 35:27 - loss: 0.0259 - dice_coef: 0.24 - ETA: 35:16 - loss: 0.0259 - dice_coef: 0.24 - ETA: 35:05 - loss: 0.0261 - dice_coef: 0.24 - ETA: 34:54 - loss: 0.0261 - dice_coef: 0.24 - ETA: 34:43 - loss: 0.0261 - dice_coef: 0.24 - ETA: 34:32 - loss: 0.0260 - dice_coef: 0.24 - ETA: 34:21 - loss: 0.0260 - dice_coef: 0.24 - ETA: 34:11 - loss: 0.0261 - dice_coef: 0.24 - ETA: 34:00 - loss: 0.0260 - dice_coef: 0.24 - ETA: 33:49 - loss: 0.0259 - dice_coef: 0.24 - ETA: 33:38 - loss: 0.0259 - dice_coef: 0.24 - ETA: 33:27 - loss: 0.0259 - dice_coef: 0.24 - ETA: 33:16 - loss: 0.0261 - dice_coef: 0.24 - ETA: 33:06 - loss: 0.0263 - dice_coef: 0.24 - ETA: 32:56 - loss: 0.0263 - dice_coef: 0.24 - ETA: 32:44 - loss: 0.0263 - dice_coef: 0.24 - ETA: 32:31 - loss: 0.0264 - dice_coef: 0.24 - ETA: 32:18 - loss: 0.0264 - dice_coef: 0.24 - ETA: 32:05 - loss: 0.0263 - dice_coef: 0.24 - ETA: 31:53 - loss: 0.0264 - dice_coef: 0.24 - ETA: 31:40 - loss: 0.0264 - dice_coef: 0.24 - ETA: 31:28 - loss: 0.0264 - dice_coef: 0.24 - ETA: 31:16 - loss: 0.0263 - dice_coef: 0.24 - ETA: 31:04 - loss: 0.0263 - dice_coef: 0.24 - ETA: 30:52 - loss: 0.0262 - dice_coef: 0.24 - ETA: 30:39 - loss: 0.0262 - dice_coef: 0.24 - ETA: 30:27 - loss: 0.0264 - dice_coef: 0.24 - ETA: 30:14 - loss: 0.0263 - dice_coef: 0.24 - ETA: 30:02 - loss: 0.0263 - dice_coef: 0.24 - ETA: 29:49 - loss: 0.0263 - dice_coef: 0.24 - ETA: 29:37 - loss: 0.0263 - dice_coef: 0.24 - ETA: 29:25 - loss: 0.0262 - dice_coef: 0.24 - ETA: 29:12 - loss: 0.0262 - dice_coef: 0.24 - ETA: 29:00 - loss: 0.0262 - dice_coef: 0.24 - ETA: 28:48 - loss: 0.0262 - dice_coef: 0.24 - ETA: 28:36 - loss: 0.0263 - dice_coef: 0.24 - ETA: 28:24 - loss: 0.0263 - dice_coef: 0.24 - ETA: 28:11 - loss: 0.0262 - dice_coef: 0.24 - ETA: 27:59 - loss: 0.0262 - dice_coef: 0.24 - ETA: 27:47 - loss: 0.0263 - dice_coef: 0.24 - ETA: 27:35 - loss: 0.0264 - dice_coef: 0.24 - ETA: 27:24 - loss: 0.0265 - dice_coef: 0.24 - ETA: 27:12 - loss: 0.0265 - dice_coef: 0.24 - ETA: 27:02 - loss: 0.0265 - dice_coef: 0.24 - ETA: 26:51 - loss: 0.0265 - dice_coef: 0.24 - ETA: 26:40 - loss: 0.0264 - dice_coef: 0.24 - ETA: 26:29 - loss: 0.0264 - dice_coef: 0.24 - ETA: 26:19 - loss: 0.0264 - dice_coef: 0.24 - ETA: 26:08 - loss: 0.0263 - dice_coef: 0.24 - ETA: 25:57 - loss: 0.0263 - dice_coef: 0.24 - ETA: 25:46 - loss: 0.0264 - dice_coef: 0.24 - ETA: 25:35 - loss: 0.0267 - dice_coef: 0.24 - ETA: 25:24 - loss: 0.0267 - dice_coef: 0.24 - ETA: 25:13 - loss: 0.0266 - dice_coef: 0.24 - ETA: 25:02 - loss: 0.0265 - dice_coef: 0.23 - ETA: 24:51 - loss: 0.0265 - dice_coef: 0.23 - ETA: 24:40 - loss: 0.0264 - dice_coef: 0.23 - ETA: 24:29 - loss: 0.0264 - dice_coef: 0.23 - ETA: 24:18 - loss: 0.0264 - dice_coef: 0.23 - ETA: 24:07 - loss: 0.0263 - dice_coef: 0.23 - ETA: 23:55 - loss: 0.0263 - dice_coef: 0.23 - ETA: 23:44 - loss: 0.0263 - dice_coef: 0.23 - ETA: 23:33 - loss: 0.0263 - dice_coef: 0.23 - ETA: 23:22 - loss: 0.0263 - dice_coef: 0.23 - ETA: 23:11 - loss: 0.0263 - dice_coef: 0.24 - ETA: 23:00 - loss: 0.0262 - dice_coef: 0.24 - ETA: 22:49 - loss: 0.0262 - dice_coef: 0.24 - ETA: 22:38 - loss: 0.0262 - dice_coef: 0.24 - ETA: 22:27 - loss: 0.0262 - dice_coef: 0.23 - ETA: 22:16 - loss: 0.0261 - dice_coef: 0.24 - ETA: 22:05 - loss: 0.0261 - dice_coef: 0.24 - ETA: 21:54 - loss: 0.0262 - dice_coef: 0.24 - ETA: 21:43 - loss: 0.0261 - dice_coef: 0.24 - ETA: 21:33 - loss: 0.0261 - dice_coef: 0.24 - ETA: 21:22 - loss: 0.0260 - dice_coef: 0.24 - ETA: 21:11 - loss: 0.0260 - dice_coef: 0.24 - ETA: 21:00 - loss: 0.0260 - dice_coef: 0.24 - ETA: 20:49 - loss: 0.0260 - dice_coef: 0.24 - ETA: 20:38 - loss: 0.0260 - dice_coef: 0.24 - ETA: 20:27 - loss: 0.0259 - dice_coef: 0.24 - ETA: 20:16 - loss: 0.0260 - dice_coef: 0.24 - ETA: 20:05 - loss: 0.0260 - dice_coef: 0.24 - ETA: 19:54 - loss: 0.0260 - dice_coef: 0.24 - ETA: 19:43 - loss: 0.0259 - dice_coef: 0.24 - ETA: 19:32 - loss: 0.0259 - dice_coef: 0.24 - ETA: 19:21 - loss: 0.0259 - dice_coef: 0.24 - ETA: 19:10 - loss: 0.0259 - dice_coef: 0.24 - ETA: 18:58 - loss: 0.0258 - dice_coef: 0.24 - ETA: 18:47 - loss: 0.0258 - dice_coef: 0.24 - ETA: 18:36 - loss: 0.0257 - dice_coef: 0.24 - ETA: 18:25 - loss: 0.0258 - dice_coef: 0.24 - ETA: 18:14 - loss: 0.0258 - dice_coef: 0.24 - ETA: 18:02 - loss: 0.0258 - dice_coef: 0.24 - ETA: 17:51 - loss: 0.0258 - dice_coef: 0.24 - ETA: 17:40 - loss: 0.0258 - dice_coef: 0.24 - ETA: 17:29 - loss: 0.0258 - dice_coef: 0.24 - ETA: 17:17 - loss: 0.0258 - dice_coef: 0.24 - ETA: 17:06 - loss: 0.0258 - dice_coef: 0.24 - ETA: 16:55 - loss: 0.0258 - dice_coef: 0.24 - ETA: 16:44 - loss: 0.0257 - dice_coef: 0.24 - ETA: 16:33 - loss: 0.0257 - dice_coef: 0.24 - ETA: 16:21 - loss: 0.0257 - dice_coef: 0.24 - ETA: 16:10 - loss: 0.0257 - dice_coef: 0.24 - ETA: 15:59 - loss: 0.0257 - dice_coef: 0.24 - ETA: 15:48 - loss: 0.0257 - dice_coef: 0.24 - ETA: 15:37 - loss: 0.0257 - dice_coef: 0.24 - ETA: 15:26 - loss: 0.0257 - dice_coef: 0.24 - ETA: 15:15 - loss: 0.0256 - dice_coef: 0.24 - ETA: 15:04 - loss: 0.0257 - dice_coef: 0.24 - ETA: 14:53 - loss: 0.0257 - dice_coef: 0.24 - ETA: 14:41 - loss: 0.0258 - dice_coef: 0.24 - ETA: 14:30 - loss: 0.0257 - dice_coef: 0.24 - ETA: 14:19 - loss: 0.0259 - dice_coef: 0.24 - ETA: 14:08 - loss: 0.0259 - dice_coef: 0.24 - ETA: 13:57 - loss: 0.0259 - dice_coef: 0.24 - ETA: 13:46 - loss: 0.0259 - dice_coef: 0.24 - ETA: 13:35 - loss: 0.0259 - dice_coef: 0.24 - ETA: 13:24 - loss: 0.0259 - dice_coef: 0.24 - ETA: 13:13 - loss: 0.0258 - dice_coef: 0.24 - ETA: 13:02 - loss: 0.0259 - dice_coef: 0.24 - ETA: 12:52 - loss: 0.0259 - dice_coef: 0.24 - ETA: 12:40 - loss: 0.0258 - dice_coef: 0.24 - ETA: 12:30 - loss: 0.0259 - dice_coef: 0.24 - ETA: 12:19 - loss: 0.0258 - dice_coef: 0.24 - ETA: 12:08 - loss: 0.0258 - dice_coef: 0.24 - ETA: 11:57 - loss: 0.0258 - dice_coef: 0.24 - ETA: 11:46 - loss: 0.0257 - dice_coef: 0.24 - ETA: 11:35 - loss: 0.0257 - dice_coef: 0.24 - ETA: 11:24 - loss: 0.0257 - dice_coef: 0.24 - ETA: 11:13 - loss: 0.0257 - dice_coef: 0.24 - ETA: 11:03 - loss: 0.0256 - dice_coef: 0.24 - ETA: 10:52 - loss: 0.0256 - dice_coef: 0.24 - ETA: 10:41 - loss: 0.0256 - dice_coef: 0.24 - ETA: 10:30 - loss: 0.0255 - dice_coef: 0.24 - ETA: 10:20 - loss: 0.0256 - dice_coef: 0.24 - ETA: 10:10 - loss: 0.0256 - dice_coef: 0.24 - ETA: 9:59 - loss: 0.0256 - dice_coef: 0.2452 - ETA: 9:49 - loss: 0.0256 - dice_coef: 0.245 - ETA: 9:38 - loss: 0.0258 - dice_coef: 0.245 - ETA: 9:28 - loss: 0.0257 - dice_coef: 0.244 - ETA: 9:17 - loss: 0.0257 - dice_coef: 0.245 - ETA: 9:06 - loss: 0.0257 - dice_coef: 0.244 - ETA: 8:56 - loss: 0.0257 - dice_coef: 0.244 - ETA: 8:46 - loss: 0.0256 - dice_coef: 0.244 - ETA: 8:35 - loss: 0.0256 - dice_coef: 0.244 - ETA: 8:25 - loss: 0.0256 - dice_coef: 0.244 - ETA: 8:14 - loss: 0.0255 - dice_coef: 0.244 - ETA: 8:03 - loss: 0.0255 - dice_coef: 0.243 - ETA: 7:53 - loss: 0.0255 - dice_coef: 0.244 - ETA: 7:42 - loss: 0.0255 - dice_coef: 0.243 - ETA: 7:32 - loss: 0.0254 - dice_coef: 0.243 - ETA: 7:21 - loss: 0.0254 - dice_coef: 0.243 - ETA: 7:11 - loss: 0.0254 - dice_coef: 0.243 - ETA: 7:00 - loss: 0.0254 - dice_coef: 0.243 - ETA: 6:50 - loss: 0.0255 - dice_coef: 0.243 - ETA: 6:39 - loss: 0.0255 - dice_coef: 0.243 - ETA: 6:29 - loss: 0.0256 - dice_coef: 0.243 - ETA: 6:18 - loss: 0.0256 - dice_coef: 0.243 - ETA: 6:08 - loss: 0.0256 - dice_coef: 0.243 - ETA: 5:57 - loss: 0.0256 - dice_coef: 0.242 - ETA: 5:46 - loss: 0.0256 - dice_coef: 0.243 - ETA: 5:36 - loss: 0.0255 - dice_coef: 0.242 - ETA: 5:25 - loss: 0.0255 - dice_coef: 0.243 - ETA: 5:15 - loss: 0.0256 - dice_coef: 0.243 - ETA: 5:04 - loss: 0.0256 - dice_coef: 0.242 - ETA: 4:54 - loss: 0.0256 - dice_coef: 0.242 - ETA: 4:43 - loss: 0.0255 - dice_coef: 0.242 - ETA: 4:33 - loss: 0.0256 - dice_coef: 0.241 - ETA: 4:22 - loss: 0.0256 - dice_coef: 0.241 - ETA: 4:12 - loss: 0.0256 - dice_coef: 0.240 - ETA: 4:01 - loss: 0.0257 - dice_coef: 0.240 - ETA: 3:51 - loss: 0.0257 - dice_coef: 0.240 - ETA: 3:40 - loss: 0.0257 - dice_coef: 0.240 - ETA: 3:30 - loss: 0.0257 - dice_coef: 0.239 - ETA: 3:19 - loss: 0.0256 - dice_coef: 0.239 - ETA: 3:09 - loss: 0.0256 - dice_coef: 0.239 - ETA: 2:58 - loss: 0.0256 - dice_coef: 0.239 - ETA: 2:47 - loss: 0.0257 - dice_coef: 0.239 - ETA: 2:37 - loss: 0.0256 - dice_coef: 0.239 - ETA: 2:26 - loss: 0.0257 - dice_coef: 0.239 - ETA: 2:16 - loss: 0.0257 - dice_coef: 0.239 - ETA: 2:05 - loss: 0.0258 - dice_coef: 0.239 - ETA: 1:55 - loss: 0.0257 - dice_coef: 0.238 - ETA: 1:44 - loss: 0.0257 - dice_coef: 0.238 - ETA: 1:34 - loss: 0.0257 - dice_coef: 0.238 - ETA: 1:23 - loss: 0.0257 - dice_coef: 0.237 - ETA: 1:13 - loss: 0.0257 - dice_coef: 0.237 - ETA: 1:02 - loss: 0.0258 - dice_coef: 0.238 - ETA: 52s - loss: 0.0257 - dice_coef: 0.238 - ETA: 41s - loss: 0.0257 - dice_coef: 0.23 - ETA: 31s - loss: 0.0257 - dice_coef: 0.23 - ETA: 20s - loss: 0.0257 - dice_coef: 0.23 - ETA: 10s - loss: 0.0257 - dice_coef: 0.23 - 3982s 11s/step - loss: 0.0256 - dice_coef: 0.2388 - val_loss: 0.0151 - val_dice_coef: 0.2258\n"
     ]
    }
   ],
   "source": [
    "checkpoint = ModelCheckpoint(\n",
    "    'model.h5', \n",
    "    monitor='val_loss', \n",
    "    verbose=0, \n",
    "    save_best_only=True, \n",
    "    save_weights_only=False,\n",
    "    mode='auto'\n",
    ")\n",
    "\n",
    "history = model.fit_generator(\n",
    "    train_generator,\n",
    "    validation_data=val_generator,\n",
    "    callbacks=[checkpoint],\n",
    "    use_multiprocessing=False,\n",
    "    workers=1,\n",
    "    epochs=10\n",
    ")"
   ]
  },
  {
   "cell_type": "code",
   "execution_count": 69,
   "metadata": {},
   "outputs": [
    {
     "data": {
      "text/plain": [
       "<matplotlib.axes._subplots.AxesSubplot at 0x27c2bae5080>"
      ]
     },
     "execution_count": 69,
     "metadata": {},
     "output_type": "execute_result"
    },
    {
     "data": {
      "image/png": "[encoded data removed]",
      "text/plain": [
       "<Figure size 432x288 with 1 Axes>"
      ]
     },
     "metadata": {
      "needs_background": "light"
     },
     "output_type": "display_data"
    },
    {
     "data": {
      "image/png": "[encoded data removed]",
      "text/plain": [
       "<Figure size 432x288 with 1 Axes>"
      ]
     },
     "metadata": {
      "needs_background": "light"
     },
     "output_type": "display_data"
    }
   ],
   "source": [
    "history_df = pd.DataFrame(history.history)\n",
    "history_df[['loss', 'val_loss']].plot()\n",
    "history_df[['dice_coef', 'val_dice_coef']].plot()"
   ]
  },
  {
   "cell_type": "code",
   "execution_count": 70,
   "metadata": {},
   "outputs": [
    {
     "name": "stdout",
     "output_type": "stream",
     "text": [
      "300/300 [==============================] - ETA: 18:4 - ETA: 10:1 - ETA: 7:1 - ETA: 5: - ETA: 5: - ETA: 4: - ETA: 4: - ETA: 3: - ETA: 3: - ETA: 3: - ETA: 3: - ETA: 3: - ETA: 2: - ETA: 2: - ETA: 2: - ETA: 2: - ETA: 2: - ETA: 2: - ETA: 2: - ETA: 2: - ETA: 2: - ETA: 2: - ETA: 2: - ETA: 2: - ETA: 2: - ETA: 2: - ETA: 2: - ETA: 1: - ETA: 1: - ETA: 1: - ETA: 1: - ETA: 1: - ETA: 1: - ETA: 1: - ETA: 1: - ETA: 1: - ETA: 1: - ETA: 1: - ETA: 1: - ETA: 1: - ETA: 1: - ETA: 1: - ETA: 1: - ETA: 1: - ETA: 1: - ETA: 1: - ETA: 1: - ETA: 1: - ETA: 1: - ETA: 1: - ETA: 1: - ETA: 1: - ETA: 1: - ETA: 1: - ETA: 1: - ETA: 1: - ETA: 1: - ETA: 1: - ETA: 1: - ETA: 1: - ETA: 1: - ETA: 1: - ETA: 1: - ETA: 1: - ETA: 1: - ETA: 1: - ETA: 1: - ETA: 1: - ETA: 1: - ETA: 1: - ETA: 1: - ETA: 1: - ETA: 1: - ETA: 1: - ETA: 1: - ETA: 1: - ETA: 1: - ETA: 1: - ETA: 1: - ETA: 1: - ETA: 1: - ETA: 1: - ETA: 1: - ETA: 1: - ETA: 1: - ETA: 1: - ETA: 1: - ETA: 1: - ETA: 1: - ETA: 1: - ETA: 1: - ETA: 1: - ETA: 1: - ETA: 1: - ETA: 1: - ETA: 1: - ETA: 1: - ETA: 1: - ETA: 1: - ETA: 1: - ETA: 1: - ETA: 1: - ETA: 1: - ETA: 1: - ETA: 1: - ETA: 1: - ETA: 1: - ETA: 1: - ETA: 1: - ETA: 1: - ETA: 1: - ETA: 1: - ETA: 1: - ETA: 59s - ETA: 59 - ETA: 59 - ETA: 59 - ETA: 59 - ETA: 59 - ETA: 58 - ETA: 58 - ETA: 58 - ETA: 57 - ETA: 57 - ETA: 56 - ETA: 56 - ETA: 55 - ETA: 55 - ETA: 55 - ETA: 54 - ETA: 54 - ETA: 53 - ETA: 53 - ETA: 53 - ETA: 52 - ETA: 52 - ETA: 52 - ETA: 51 - ETA: 51 - ETA: 50 - ETA: 50 - ETA: 50 - ETA: 49 - ETA: 49 - ETA: 48 - ETA: 48 - ETA: 48 - ETA: 47 - ETA: 47 - ETA: 47 - ETA: 46 - ETA: 46 - ETA: 45 - ETA: 45 - ETA: 45 - ETA: 44 - ETA: 44 - ETA: 44 - ETA: 44 - ETA: 43 - ETA: 43 - ETA: 43 - ETA: 43 - ETA: 42 - ETA: 42 - ETA: 42 - ETA: 41 - ETA: 41 - ETA: 41 - ETA: 40 - ETA: 40 - ETA: 40 - ETA: 39 - ETA: 39 - ETA: 38 - ETA: 38 - ETA: 38 - ETA: 37 - ETA: 37 - ETA: 37 - ETA: 36 - ETA: 36 - ETA: 36 - ETA: 35 - ETA: 35 - ETA: 35 - ETA: 34 - ETA: 34 - ETA: 34 - ETA: 34 - ETA: 33 - ETA: 33 - ETA: 33 - ETA: 33 - ETA: 32 - ETA: 32 - ETA: 32 - ETA: 32 - ETA: 32 - ETA: 31 - ETA: 31 - ETA: 31 - ETA: 30 - ETA: 30 - ETA: 30 - ETA: 29 - ETA: 29 - ETA: 29 - ETA: 28 - ETA: 28 - ETA: 28 - ETA: 27 - ETA: 27 - ETA: 27 - ETA: 26 - ETA: 26 - ETA: 26 - ETA: 25 - ETA: 25 - ETA: 25 - ETA: 24 - ETA: 24 - ETA: 24 - ETA: 23 - ETA: 23 - ETA: 23 - ETA: 22 - ETA: 22 - ETA: 22 - ETA: 21 - ETA: 21 - ETA: 21 - ETA: 20 - ETA: 20 - ETA: 20 - ETA: 19 - ETA: 19 - ETA: 19 - ETA: 19 - ETA: 18 - ETA: 18 - ETA: 18 - ETA: 17 - ETA: 17 - ETA: 17 - ETA: 16 - ETA: 16 - ETA: 16 - ETA: 15 - ETA: 15 - ETA: 15 - ETA: 14 - ETA: 14 - ETA: 14 - ETA: 13 - ETA: 13 - ETA: 13 - ETA: 12 - ETA: 12 - ETA: 12 - ETA: 12 - ETA: 11 - ETA: 11 - ETA: 11 - ETA: 10 - ETA: 10 - ETA: 10 - ETA: 9 - ETA:  - ETA:  - ETA:  - ETA:  - ETA:  - ETA:  - ETA:  - ETA:  - ETA:  - ETA:  - ETA:  - ETA:  - ETA:  - ETA:  - ETA:  - ETA:  - ETA:  - ETA:  - ETA:  - ETA:  - ETA:  - ETA:  - ETA:  - ETA:  - ETA:  - ETA:  - ETA:  - ETA:  - ETA:  - ETA:  - ETA:  - 92s 306ms/step\n"
     ]
    },
    {
     "name": "stderr",
     "output_type": "stream",
     "text": [
      "300it [00:48,  6.08it/s]\n"
     ]
    },
    {
     "name": "stdout",
     "output_type": "stream",
     "text": [
      "300/300 [==============================] - ETA: 8: - ETA: 4: - ETA: 3: - ETA: 3: - ETA: 2: - ETA: 2: - ETA: 2: - ETA: 2: - ETA: 2: - ETA: 2: - ETA: 1: - ETA: 1: - ETA: 1: - ETA: 1: - ETA: 1: - ETA: 1: - ETA: 1: - ETA: 1: - ETA: 1: - ETA: 1: - ETA: 1: - ETA: 1: - ETA: 1: - ETA: 1: - ETA: 1: - ETA: 1: - ETA: 1: - ETA: 1: - ETA: 1: - ETA: 1: - ETA: 1: - ETA: 1: - ETA: 1: - ETA: 1: - ETA: 1: - ETA: 1: - ETA: 1: - ETA: 1: - ETA: 1: - ETA: 1: - ETA: 1: - ETA: 1: - ETA: 1: - ETA: 1: - ETA: 1: - ETA: 1: - ETA: 1: - ETA: 1: - ETA: 1: - ETA: 1: - ETA: 1: - ETA: 1: - ETA: 1: - ETA: 1: - ETA: 1: - ETA: 1: - ETA: 1: - ETA: 1: - ETA: 1: - ETA: 1: - ETA: 1: - ETA: 1: - ETA: 1: - ETA: 1: - ETA: 1: - ETA: 1: - ETA: 1: - ETA: 1: - ETA: 1: - ETA: 1: - ETA: 1: - ETA: 1: - ETA: 1: - ETA: 1: - ETA: 1: - ETA: 1: - ETA: 1: - ETA: 1: - ETA: 1: - ETA: 1: - ETA: 1: - ETA: 1: - ETA: 1: - ETA: 1: - ETA: 1: - ETA: 1: - ETA: 1: - ETA: 1: - ETA: 1: - ETA: 1: - ETA: 1: - ETA: 1: - ETA: 1: - ETA: 1: - ETA: 1: - ETA: 1: - ETA: 1: - ETA: 1: - ETA: 1: - ETA: 1: - ETA: 1: - ETA: 1: - ETA: 1: - ETA: 59s - ETA: 59 - ETA: 59 - ETA: 58 - ETA: 58 - ETA: 58 - ETA: 57 - ETA: 57 - ETA: 57 - ETA: 56 - ETA: 56 - ETA: 56 - ETA: 56 - ETA: 55 - ETA: 55 - ETA: 55 - ETA: 54 - ETA: 54 - ETA: 54 - ETA: 53 - ETA: 53 - ETA: 53 - ETA: 52 - ETA: 52 - ETA: 52 - ETA: 51 - ETA: 51 - ETA: 51 - ETA: 50 - ETA: 50 - ETA: 49 - ETA: 49 - ETA: 49 - ETA: 48 - ETA: 48 - ETA: 48 - ETA: 47 - ETA: 47 - ETA: 47 - ETA: 46 - ETA: 46 - ETA: 46 - ETA: 45 - ETA: 45 - ETA: 45 - ETA: 44 - ETA: 44 - ETA: 44 - ETA: 43 - ETA: 43 - ETA: 43 - ETA: 43 - ETA: 42 - ETA: 42 - ETA: 42 - ETA: 41 - ETA: 41 - ETA: 41 - ETA: 40 - ETA: 40 - ETA: 40 - ETA: 40 - ETA: 39 - ETA: 39 - ETA: 39 - ETA: 38 - ETA: 38 - ETA: 38 - ETA: 37 - ETA: 37 - ETA: 37 - ETA: 36 - ETA: 36 - ETA: 36 - ETA: 36 - ETA: 35 - ETA: 35 - ETA: 35 - ETA: 34 - ETA: 34 - ETA: 34 - ETA: 34 - ETA: 33 - ETA: 33 - ETA: 33 - ETA: 33 - ETA: 33 - ETA: 32 - ETA: 32 - ETA: 32 - ETA: 32 - ETA: 31 - ETA: 31 - ETA: 31 - ETA: 30 - ETA: 30 - ETA: 30 - ETA: 30 - ETA: 30 - ETA: 30 - ETA: 29 - ETA: 29 - ETA: 29 - ETA: 28 - ETA: 28 - ETA: 28 - ETA: 27 - ETA: 27 - ETA: 27 - ETA: 26 - ETA: 26 - ETA: 26 - ETA: 25 - ETA: 25 - ETA: 25 - ETA: 24 - ETA: 24 - ETA: 24 - ETA: 23 - ETA: 23 - ETA: 23 - ETA: 22 - ETA: 22 - ETA: 22 - ETA: 21 - ETA: 21 - ETA: 21 - ETA: 21 - ETA: 20 - ETA: 20 - ETA: 20 - ETA: 19 - ETA: 19 - ETA: 19 - ETA: 18 - ETA: 18 - ETA: 18 - ETA: 17 - ETA: 17 - ETA: 17 - ETA: 16 - ETA: 16 - ETA: 16 - ETA: 16 - ETA: 15 - ETA: 15 - ETA: 15 - ETA: 14 - ETA: 14 - ETA: 14 - ETA: 13 - ETA: 13 - ETA: 13 - ETA: 12 - ETA: 12 - ETA: 12 - ETA: 12 - ETA: 11 - ETA: 11 - ETA: 11 - ETA: 10 - ETA: 10 - ETA: 10 - ETA: 9 - ETA:  - ETA:  - ETA:  - ETA:  - ETA:  - ETA:  - ETA:  - ETA:  - ETA:  - ETA:  - ETA:  - ETA:  - ETA:  - ETA:  - ETA:  - ETA:  - ETA:  - ETA:  - ETA:  - ETA:  - ETA:  - ETA:  - ETA:  - ETA:  - ETA:  - ETA:  - ETA:  - ETA:  - ETA:  - ETA:  - ETA:  - ETA:  - 93s 311ms/step\n"
     ]
    },
    {
     "name": "stderr",
     "output_type": "stream",
     "text": [
      "300it [00:58,  7.24it/s]\n"
     ]
    },
    {
     "name": "stdout",
     "output_type": "stream",
     "text": [
      "121/121 [==============================] - ETA: 1: - ETA: 1: - ETA: 53s - ETA: 46 - ETA: 42 - ETA: 40 - ETA: 38 - ETA: 36 - ETA: 35 - ETA: 34 - ETA: 33 - ETA: 32 - ETA: 31 - ETA: 31 - ETA: 30 - ETA: 30 - ETA: 30 - ETA: 29 - ETA: 29 - ETA: 29 - ETA: 28 - ETA: 28 - ETA: 27 - ETA: 27 - ETA: 26 - ETA: 26 - ETA: 26 - ETA: 25 - ETA: 25 - ETA: 24 - ETA: 24 - ETA: 24 - ETA: 23 - ETA: 23 - ETA: 23 - ETA: 22 - ETA: 22 - ETA: 22 - ETA: 22 - ETA: 21 - ETA: 21 - ETA: 21 - ETA: 20 - ETA: 20 - ETA: 20 - ETA: 19 - ETA: 19 - ETA: 19 - ETA: 19 - ETA: 18 - ETA: 18 - ETA: 18 - ETA: 17 - ETA: 17 - ETA: 17 - ETA: 17 - ETA: 16 - ETA: 16 - ETA: 16 - ETA: 15 - ETA: 15 - ETA: 15 - ETA: 15 - ETA: 14 - ETA: 14 - ETA: 14 - ETA: 14 - ETA: 13 - ETA: 13 - ETA: 13 - ETA: 12 - ETA: 12 - ETA: 12 - ETA: 12 - ETA: 11 - ETA: 11 - ETA: 11 - ETA: 11 - ETA: 10 - ETA: 10 - ETA: 10 - ETA: 10 - ETA: 9 - ETA:  - ETA:  - ETA:  - ETA:  - ETA:  - ETA:  - ETA:  - ETA:  - ETA:  - ETA:  - ETA:  - ETA:  - ETA:  - ETA:  - ETA:  - ETA:  - ETA:  - ETA:  - ETA:  - ETA:  - ETA:  - ETA:  - ETA:  - ETA:  - ETA:  - ETA:  - ETA:  - ETA:  - ETA:  - ETA:  - ETA:  - ETA:  - ETA:  - ETA:  - ETA:  - ETA:  - ETA:  - 31s 259ms/step\n"
     ]
    },
    {
     "name": "stderr",
     "output_type": "stream",
     "text": [
      "121it [00:18,  5.99it/s]\n"
     ]
    }
   ],
   "source": [
    "model.load_weights('model.h5')\n",
    "test_df = []\n",
    "\n",
    "for i in range(0, filtered_test_imgs.shape[0], 300):\n",
    "    batch_idx = list(\n",
    "        range(i, min(filtered_test_imgs.shape[0], i + 300))\n",
    "    )\n",
    "    \n",
    "    test_generator = DataGenerator(\n",
    "        batch_idx,\n",
    "        df=filtered_test_imgs,\n",
    "        shuffle=False,\n",
    "        mode='predict',\n",
    "        base_path='severstal-steel-defect-detection/test_images',\n",
    "        target_df=filtered_sub_df,\n",
    "        batch_size=1,\n",
    "        n_classes=4\n",
    "    )    \n",
    "    batch_pred_masks = model.predict_generator(\n",
    "        test_generator, \n",
    "        workers=1,\n",
    "        verbose=1,\n",
    "        use_multiprocessing=False\n",
    "    )\n",
    "    \n",
    "    for j, b in tqdm(enumerate(batch_idx)):\n",
    "        filename = filtered_test_imgs['ImageId'].iloc[b]\n",
    "        image_df = filtered_sub_df[filtered_sub_df['ImageId'] == filename].copy()\n",
    "        \n",
    "        pred_masks = batch_pred_masks[j, ].round().astype(int)\n",
    "        pred_rles = build_rles(pred_masks)\n",
    "        \n",
    "        image_df['EncodedPixels'] = pred_rles\n",
    "        test_df.append(image_df)\n",
    "        \n",
    "    gc.collect()"
   ]
  },
  {
   "cell_type": "code",
   "execution_count": 71,
   "metadata": {},
   "outputs": [
    {
     "name": "stdout",
     "output_type": "stream",
     "text": [
      "(2884, 3)\n"
     ]
    },
    {
     "data": {
      "text/html": [
       "<div>\n",
       "<style scoped>\n",
       "    .dataframe tbody tr th:only-of-type {\n",
       "        vertical-align: middle;\n",
       "    }\n",
       "\n",
       "    .dataframe tbody tr th {\n",
       "        vertical-align: top;\n",
       "    }\n",
       "\n",
       "    .dataframe thead th {\n",
       "        text-align: right;\n",
       "    }\n",
       "</style>\n",
       "<table border=\"1\" class=\"dataframe\">\n",
       "  <thead>\n",
       "    <tr style=\"text-align: right;\">\n",
       "      <th></th>\n",
       "      <th>ImageId_ClassId</th>\n",
       "      <th>EncodedPixels</th>\n",
       "      <th>ImageId</th>\n",
       "    </tr>\n",
       "  </thead>\n",
       "  <tbody>\n",
       "    <tr>\n",
       "      <th>0</th>\n",
       "      <td>00bbcd9af.jpg_1</td>\n",
       "      <td></td>\n",
       "      <td>00bbcd9af.jpg</td>\n",
       "    </tr>\n",
       "    <tr>\n",
       "      <th>1</th>\n",
       "      <td>00bbcd9af.jpg_2</td>\n",
       "      <td></td>\n",
       "      <td>00bbcd9af.jpg</td>\n",
       "    </tr>\n",
       "    <tr>\n",
       "      <th>2</th>\n",
       "      <td>00bbcd9af.jpg_3</td>\n",
       "      <td>159404 1 159406 5 159659 9 159912 13 160168 1 ...</td>\n",
       "      <td>00bbcd9af.jpg</td>\n",
       "    </tr>\n",
       "    <tr>\n",
       "      <th>3</th>\n",
       "      <td>00bbcd9af.jpg_4</td>\n",
       "      <td></td>\n",
       "      <td>00bbcd9af.jpg</td>\n",
       "    </tr>\n",
       "    <tr>\n",
       "      <th>4</th>\n",
       "      <td>0108ce457.jpg_1</td>\n",
       "      <td></td>\n",
       "      <td>0108ce457.jpg</td>\n",
       "    </tr>\n",
       "  </tbody>\n",
       "</table>\n",
       "</div>"
      ],
      "text/plain": [
       "   ImageId_ClassId                                      EncodedPixels  \\\n",
       "0  00bbcd9af.jpg_1                                                      \n",
       "1  00bbcd9af.jpg_2                                                      \n",
       "2  00bbcd9af.jpg_3  159404 1 159406 5 159659 9 159912 13 160168 1 ...   \n",
       "3  00bbcd9af.jpg_4                                                      \n",
       "4  0108ce457.jpg_1                                                      \n",
       "\n",
       "         ImageId  \n",
       "0  00bbcd9af.jpg  \n",
       "1  00bbcd9af.jpg  \n",
       "2  00bbcd9af.jpg  \n",
       "3  00bbcd9af.jpg  \n",
       "4  0108ce457.jpg  "
      ]
     },
     "execution_count": 71,
     "metadata": {},
     "output_type": "execute_result"
    }
   ],
   "source": [
    "test_df = pd.concat(test_df)\n",
    "print(test_df.shape)\n",
    "test_df.head()"
   ]
  },
  {
   "cell_type": "code",
   "execution_count": 84,
   "metadata": {},
   "outputs": [
    {
     "name": "stdout",
     "output_type": "stream",
     "text": [
      "(7204, 3)\n"
     ]
    },
    {
     "data": {
      "text/html": [
       "<div>\n",
       "<style scoped>\n",
       "    .dataframe tbody tr th:only-of-type {\n",
       "        vertical-align: middle;\n",
       "    }\n",
       "\n",
       "    .dataframe tbody tr th {\n",
       "        vertical-align: top;\n",
       "    }\n",
       "\n",
       "    .dataframe thead th {\n",
       "        text-align: right;\n",
       "    }\n",
       "</style>\n",
       "<table border=\"1\" class=\"dataframe\">\n",
       "  <thead>\n",
       "    <tr style=\"text-align: right;\">\n",
       "      <th></th>\n",
       "      <th>ImageId_ClassId</th>\n",
       "      <th>EncodedPixels</th>\n",
       "      <th>ImageId</th>\n",
       "    </tr>\n",
       "  </thead>\n",
       "  <tbody>\n",
       "    <tr>\n",
       "      <th>0</th>\n",
       "      <td>00bbcd9af.jpg_1</td>\n",
       "      <td></td>\n",
       "      <td>00bbcd9af.jpg</td>\n",
       "    </tr>\n",
       "    <tr>\n",
       "      <th>1</th>\n",
       "      <td>00bbcd9af.jpg_2</td>\n",
       "      <td></td>\n",
       "      <td>00bbcd9af.jpg</td>\n",
       "    </tr>\n",
       "    <tr>\n",
       "      <th>2</th>\n",
       "      <td>00bbcd9af.jpg_3</td>\n",
       "      <td>159404 1 159406 5 159659 9 159912 13 160168 1 ...</td>\n",
       "      <td>00bbcd9af.jpg</td>\n",
       "    </tr>\n",
       "    <tr>\n",
       "      <th>3</th>\n",
       "      <td>00bbcd9af.jpg_4</td>\n",
       "      <td></td>\n",
       "      <td>00bbcd9af.jpg</td>\n",
       "    </tr>\n",
       "    <tr>\n",
       "      <th>4</th>\n",
       "      <td>0108ce457.jpg_1</td>\n",
       "      <td></td>\n",
       "      <td>0108ce457.jpg</td>\n",
       "    </tr>\n",
       "  </tbody>\n",
       "</table>\n",
       "</div>"
      ],
      "text/plain": [
       "   ImageId_ClassId                                      EncodedPixels  \\\n",
       "0  00bbcd9af.jpg_1                                                      \n",
       "1  00bbcd9af.jpg_2                                                      \n",
       "2  00bbcd9af.jpg_3  159404 1 159406 5 159659 9 159912 13 160168 1 ...   \n",
       "3  00bbcd9af.jpg_4                                                      \n",
       "4  0108ce457.jpg_1                                                      \n",
       "\n",
       "         ImageId  \n",
       "0  00bbcd9af.jpg  \n",
       "1  00bbcd9af.jpg  \n",
       "2  00bbcd9af.jpg  \n",
       "3  00bbcd9af.jpg  \n",
       "4  0108ce457.jpg  "
      ]
     },
     "execution_count": 84,
     "metadata": {},
     "output_type": "execute_result"
    }
   ],
   "source": [
    "final_submission_df = pd.concat([test_df, null_sub_df])\n",
    "print(final_submission_df.shape)\n",
    "final_submission_df.head()"
   ]
  },
  {
   "cell_type": "code",
   "execution_count": 85,
   "metadata": {},
   "outputs": [],
   "source": [
    "final_submission_df[['ImageId_ClassId', 'EncodedPixels']].to_csv('submission.csv', index=False)"
   ]
  },
  {
   "cell_type": "code",
   "execution_count": null,
   "metadata": {},
   "outputs": [],
   "source": []
  }
 ],
 "metadata": {
  "kernelspec": {
   "display_name": "Python 3",
   "language": "python",
   "name": "python3"
  },
  "language_info": {
   "codemirror_mode": {
    "name": "ipython",
    "version": 3
   },
   "file_extension": ".py",
   "mimetype": "text/x-python",
   "name": "python",
   "nbconvert_exporter": "python",
   "pygments_lexer": "ipython3",
   "version": "3.7.3"
  }
 },
 "nbformat": 4,
 "nbformat_minor": 4
}
